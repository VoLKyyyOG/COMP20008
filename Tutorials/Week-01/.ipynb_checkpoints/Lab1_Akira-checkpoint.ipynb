{
 "cells": [
  {
   "cell_type": "markdown",
   "metadata": {},
   "source": [
    "# Elements Of Data Processing (2021S1) - Week 1\n"
   ]
  },
  {
   "cell_type": "markdown",
   "metadata": {},
   "source": [
    "### Welcome:\n",
    "- Tutor: Akira\n",
    "- Times: Thurs 7pm, Fri 3:15pm\n",
    "\n",
    "I strongly recommend you go through the Revision notebooks I have created. It's actually more of a \"learning\" rather than \"revising\" experience..."
   ]
  },
  {
   "cell_type": "markdown",
   "metadata": {},
   "source": [
    "### Getting Started with Jupyter Notebook\n",
    "Jupyter notebook is an extremely useful tool for developing and presenting projects (particularly in python).  You can include code segments and view their output directly in your browser.  You can also add rich text, visualisations, equations and more.\n",
    "\n",
    "The difference between this and Grok (from COMP10001) is that you can run your code line by line (without having to run all of your code at once for an output).\n",
    "\n",
    "### Cells\n",
    "Jupyter notebook contains two main types of cells:\n",
    "- Markdown cells: These can be used to contain text, equations and other non-code items.  The cell that you're reading right now is a markdown cell.  You can use [Markdown](https://www.markdownguide.org/) to format your text.  If you prefer, you can also format your text using <b>HTML</b>.  Clicking the **Run** button will format and display your text.\n",
    "- Code cells: These contain code segments that can be executed individually.  When executed, the output of the code will be displayed below the code cell.\n",
    "\n",
    "### General Tips for Jupyter Notebook\n",
    "Cell Running shortcuts:\n",
    "- `shift + enter` : Run current cell - keyboard shortcut for the <button class='btn btn-default btn-xs'><i class=\"fa-play fa\"></i><span class=\"toolbar-btn-label\">Run</span></button> button\n",
    "- `ctrl + enter` : Run selected cells\n",
    "\n",
    "Command mode (press `esc` to enter):\n",
    "- Enter command mode pressing `esc` (blue highlight)\n",
    "- `a` to create a cell **above**\n",
    "- `b` to create a cell **below**\n",
    "- `dd` (double d) to **delete** a cell\n",
    "- `m` to make the cell render in **markdown**\n",
    "- `r` to make the cell render in **raw** text\n",
    "- `y` to make the cell render python code\n",
    "- `enter` to \"edit\" the cell\n",
    "\n",
    "Code Shortcuts:\n",
    "- `shift + tab` : brings function/method arguments up\n",
    "\n",
    "Magic Cells:\n",
    "```bash\n",
    "%%time # times the cell execution\n",
    "%%bash # allows bash commands (or cmd) to be run\n",
    "%%html # renders html syntax\n",
    "%%writefile script.py # outputs the lines of code into a script of choice\n",
    "%run script.py # runs a script of choice\n",
    "%run -i script.py # runs a script of choice and adds all variables to the notebooks' namespace\n",
    "```"
   ]
  },
  {
   "cell_type": "markdown",
   "metadata": {},
   "source": [
    "### Pandas\n",
    "- One of the most useful and common library for Data Engineers, Data Scientists, and Data Analysts.\n",
    "- Much more powerful for reading data in (in contrast to the `csv` library and `open()`).\n",
    "- Introduces a few new data structures, most commonly the `DataFrame()` which is the equivalent to your Excel Spreadsheet or Database table (however you want to view it)"
   ]
  },
  {
   "cell_type": "code",
   "execution_count": null,
   "metadata": {},
   "outputs": [],
   "source": [
    "# we rename the library to pd - it's just the common practice (unless you want to retype pandas every time)\n",
    "import pandas as pd\n",
    "\n",
    "# this is a nice way of displaying series and dataframes (use instead of print)\n",
    "from IPython.display import display"
   ]
  },
  {
   "cell_type": "markdown",
   "metadata": {},
   "source": [
    "### Series\n",
    "- The first of the new data structures\n",
    "- It's a 1D array-like object containing the data and an associated array of data labels called index.\n",
    "- This is an index to value relationship (like a `list()` in Python)\n",
    "\n",
    "<img src=\"images/series1.jpg\">\n",
    "\n",
    "To create a Series:\n",
    "- `s = Series(data, index=index)`\n",
    "\n",
    "\n",
    "Where:\n",
    "- `data` is a list/array and `index` is a list/array (by default, it increments from 0)\n",
    "- OR `data` is a dictionary where `index` is obtained through `keys` and `data` from `values`"
   ]
  },
  {
   "cell_type": "markdown",
   "metadata": {},
   "source": [
    "### Creating a Series"
   ]
  },
  {
   "cell_type": "code",
   "execution_count": null,
   "metadata": {},
   "outputs": [],
   "source": [
    "data = [4,3,-5,9,1,7]\n",
    "\n",
    "pd.Series(data)"
   ]
  },
  {
   "cell_type": "code",
   "execution_count": null,
   "metadata": {},
   "outputs": [],
   "source": [
    "data = [4,3,-5,9,1,7]\n",
    "index = range(100, 106)\n",
    "\n",
    "s = pd.Series(data, index)"
   ]
  },
  {
   "cell_type": "code",
   "execution_count": null,
   "metadata": {},
   "outputs": [],
   "source": [
    "# Retrieve the values of the series\n",
    "display(s.values)\n",
    "\n",
    "# Retrieve the indicies\n",
    "display(s.index)\n",
    "\n",
    "# Re-define the indicies\n",
    "new_index = range(-99, -93)\n",
    "s.index = new_index\n",
    "display(s)"
   ]
  },
  {
   "cell_type": "markdown",
   "metadata": {},
   "source": [
    "If we want to use a dictionary to create a series (and later `JSON`)..."
   ]
  },
  {
   "cell_type": "code",
   "execution_count": null,
   "metadata": {},
   "outputs": [],
   "source": [
    "data = {'1990':15.45288167, '2000':17.20060983, '2007':17.86526004,\n",
    "                '2008':18.16087566,'2009':18.20018196,'2010':16.92095367,\n",
    "                '2011':16.86260095, '2012':16.51938578, '2013':16.34730205}\n",
    "\n",
    "s = pd.Series(data)\n",
    "\n",
    "s"
   ]
  },
  {
   "cell_type": "markdown",
   "metadata": {},
   "source": [
    "### Slicing\n",
    "- Like lists and strings in COMP10001, Series and Dataframes can be sliced.\n",
    "- Equivalent of `SELECT * FROM columns WHERE condition` for Databases\n",
    "- `.loc[]` for *locating* matching values\n",
    "- `.iloc[]` for *index locating* matching values according to an index (highly not recommended at all unless you are subsampling)\n",
    "\n",
    "### `.loc`\n",
    "Syntax: `df.loc[df[col] > value]`"
   ]
  },
  {
   "cell_type": "code",
   "execution_count": null,
   "metadata": {},
   "outputs": [],
   "source": [
    "print(\"Original:\")\n",
    "display(s)\n",
    "\n",
    "# sliced data for all values greater than 17\n",
    "print(\"Sliced using loc:\")\n",
    "display(s.loc[s > 17])"
   ]
  },
  {
   "cell_type": "markdown",
   "metadata": {},
   "source": [
    "### Series Operations\n",
    "- You can apply operations depending on the data type\n",
    "- (Advanced) You can apply functions on columns"
   ]
  },
  {
   "cell_type": "code",
   "execution_count": null,
   "metadata": {},
   "outputs": [],
   "source": [
    "double_s = s * 2\n",
    "display(double_s)"
   ]
  },
  {
   "cell_type": "markdown",
   "metadata": {},
   "source": [
    "### Series methods\n",
    "- Take the mean\n",
    "- Redefine the column or index name"
   ]
  },
  {
   "cell_type": "code",
   "execution_count": null,
   "metadata": {},
   "outputs": [],
   "source": [
    "s.mean(), s.std()"
   ]
  },
  {
   "cell_type": "code",
   "execution_count": null,
   "metadata": {},
   "outputs": [],
   "source": [
    "# a one-in-all method of statistically describing the dataset\n",
    "# includes count (number of rows), mean, standard deviation, min value, max value, quartiles\n",
    "s.describe()"
   ]
  },
  {
   "cell_type": "code",
   "execution_count": null,
   "metadata": {},
   "outputs": [],
   "source": [
    "s.name = 'CO2 Emissions'\n",
    "s.index.name = 'Year'\n",
    "\n",
    "s"
   ]
  },
  {
   "cell_type": "markdown",
   "metadata": {},
   "source": [
    "### <span style=\"color:blue\"> Series Exercise 1 (Together) </span>\n",
    "\n",
    "Find:\n",
    "- The max, median, and cumulative sum between 1960 and 2013.\n",
    "- The CO2 Emissions in Australia between 2000 to 2010\n",
    "- Given the population of Australia in 2013 was 23117353, find the CO2 emission per capita (divide emissions by population)"
   ]
  },
  {
   "cell_type": "code",
   "execution_count": null,
   "metadata": {
    "code_folding": []
   },
   "outputs": [],
   "source": [
    "### answer here"
   ]
  },
  {
   "cell_type": "markdown",
   "metadata": {},
   "source": [
    "### DataFrames\n",
    "- Dataframes are a tabular data structure which contain multiple rows and columns (like your spreadsheets or tables)\n",
    "- One of the most important data structures when working with any dataset\n",
    "- Same as series in a sense that it has both rows and column indicies.\n",
    "- Each \"row index\" corresponds to the \"row of values\" (column values)\n",
    "- We usually name our dataframes `df_something` \n",
    "- Columns are indexed much like dictionary keys $\\rightarrow$ `df[column name]`\n",
    "\n",
    "\n",
    "<img src=\"images/DF.jpg\">\n"
   ]
  },
  {
   "cell_type": "code",
   "execution_count": null,
   "metadata": {},
   "outputs": [],
   "source": [
    "population_data = {'1990':17065100, '2000':19153000, '2007':20827600,\n",
    "        '2008':21249200,'2009':21691700,'2010':22031750,\n",
    "        '2011':22340024, '2012':22728254, '2013':23117353}\n",
    "\n",
    "population = pd.Series(population_data)\n",
    "display(population)\n",
    "\n",
    "emission_data = {'1990':15.45288167, '2000':17.20060983, '2007':17.86526004,\n",
    "                '2008':18.16087566,'2009':18.20018196,'2010':16.92095367,\n",
    "                '2011':16.86260095, '2012':16.51938578, '2013':16.34730205}\n",
    "emission = pd.Series(emission_data)\n",
    "display(emission)"
   ]
  },
  {
   "cell_type": "code",
   "execution_count": null,
   "metadata": {},
   "outputs": [],
   "source": [
    "df = pd.DataFrame({\"Emmision\": emission, \"Population\": population})\n",
    "df"
   ]
  },
  {
   "cell_type": "markdown",
   "metadata": {},
   "source": [
    "### Reading in CSV's \n",
    "- As easy as `pd.read_csv(filename)`\n",
    "- Optional arguments (i.e `encoding`, `astype`, etc...)\n",
    "- Documentation: https://pandas.pydata.org/pandas-docs/stable/reference/api/pandas.read_csv.html"
   ]
  },
  {
   "cell_type": "code",
   "execution_count": null,
   "metadata": {},
   "outputs": [],
   "source": [
    "countries = pd.read_csv(\"data/countries.csv\", encoding='ISO-8859-1')\n",
    "countries"
   ]
  },
  {
   "cell_type": "code",
   "execution_count": null,
   "metadata": {},
   "outputs": [],
   "source": [
    "# we can view the first/last n elements using .head(n) or .tail(n)\n",
    "# by default, n = 5\n",
    "\n",
    "display(df.head())\n",
    "display(df.tail())\n",
    "display(df.head(10))"
   ]
  },
  {
   "cell_type": "markdown",
   "metadata": {},
   "source": [
    "### Dataframe methods\n",
    "Plenty to go around. Most useful ones of note are:\n",
    "- `df[column name].value_counts()`\n",
    "- `df.groupby(column name or column names as an iterable)`\n",
    "- `df.apply(some function)`\n",
    "- `df.sort_values(by=column name or column names as an iterable)`\n",
    "- `df.map(dictionary specifying value to new value)`\n",
    "- `df.update(newer version of the dataframe)` \n",
    "- `df.reset_index(drop=True for remove index or False for keep index)`\n",
    "- `df.fillna(value)`\n",
    "\n",
    "View more details in the documentation: https://pandas.pydata.org/pandas-docs/stable/reference/frame.html\n",
    "\n",
    "You'll notice the documentation and stack overflow will be your best friends in this subject."
   ]
  },
  {
   "cell_type": "code",
   "execution_count": null,
   "metadata": {},
   "outputs": [],
   "source": [
    "df.value_counts('Emission')"
   ]
  },
  {
   "cell_type": "markdown",
   "metadata": {},
   "source": [
    "Note how \"Emmision\" has a typo (should be \"Emission\"). We can `rename` it!\n",
    "- `df.rename({original name: desired name}, axis=1, inplace=True)`\n",
    "- `.rename()` requires a dictionary of originan name to new name\n",
    "- `axis=1` specifies that we want to change the \"column names\" (`axis=0` is for the index names)\n",
    "- `inplace=True` specifies if we want to mutate the original dataframe (like `list.sort()`) or if we want a renamed version of the dataframe returned (like `sorted(list)`)"
   ]
  },
  {
   "cell_type": "code",
   "execution_count": null,
   "metadata": {},
   "outputs": [],
   "source": [
    "df.rename({\"Emmision\": \"Emission\"}, axis=1, inplace=True)\n",
    "df"
   ]
  },
  {
   "cell_type": "code",
   "execution_count": null,
   "metadata": {},
   "outputs": [],
   "source": [
    "df['Emission'].value_counts()"
   ]
  },
  {
   "cell_type": "code",
   "execution_count": null,
   "metadata": {},
   "outputs": [],
   "source": [
    "# create a new DataFrame for the CO2 emission from a csv file\n",
    "df2 = pd.read_csv('data/emission.csv', encoding='ISO-8859-1')\n",
    "df2.tail()"
   ]
  },
  {
   "cell_type": "markdown",
   "metadata": {},
   "source": [
    "Take a moment to notice `NaN` (Not a Number). \n",
    "- This is the equivalent of `None` and implies the data is missing.\n",
    "- The thing with `NaN` is that it evaluates to `True` and has type `float` which can be annoying. \n",
    "- To do comparisions with it, you should aim to use `np.NaN` (`np` is the `numpy` library)."
   ]
  },
  {
   "cell_type": "markdown",
   "metadata": {},
   "source": [
    "### Subsets (and how to do it correctly)\n",
    "- Subsets can be created by taking a column, slice or variation of the dataframe"
   ]
  },
  {
   "cell_type": "code",
   "execution_count": null,
   "metadata": {},
   "outputs": [],
   "source": [
    "df_2010 = df2['2010']\n",
    "df_2010"
   ]
  },
  {
   "cell_type": "markdown",
   "metadata": {},
   "source": [
    "However, this is a \"shallow\" copy. \n",
    "- For those of you who have done COMP10002, this is the equivalent of creating a pointer to point to the subset. This implies that if you change the original data, then the pointer will also take those changes on board\n",
    "- For those of you who haven't, a shallow copy is essentially saying `df_2010` is equal to whatever `df2['2010']` is at all times. If I then change `df['2010']` to have different values, `df_2010` will then be equal to the new values too.\n",
    "\n",
    "You don't always want this property (and it causes several logic errors in code).\n",
    "- If you want to maintain an unchanged version of a subset, use `.copy()`\n",
    "\n",
    "Here's an example of it:"
   ]
  },
  {
   "cell_type": "code",
   "execution_count": null,
   "metadata": {},
   "outputs": [],
   "source": [
    "import numpy as np\n",
    "\n",
    "df2['2010'] = df2['2010'].apply(lambda x: x + 99 if x != np.NaN else -1)\n",
    "df_2010"
   ]
  },
  {
   "cell_type": "markdown",
   "metadata": {},
   "source": [
    "As you can see, we changed `df2`, but the changes were also reflected in `df_2010`. Let's try this again..."
   ]
  },
  {
   "cell_type": "code",
   "execution_count": null,
   "metadata": {},
   "outputs": [],
   "source": [
    "# recreate a new DataFrame for the CO2 emission from a csv file\n",
    "df2 = pd.read_csv('data/emission.csv', encoding='ISO-8859-1')\n",
    "df2.tail()"
   ]
  },
  {
   "cell_type": "code",
   "execution_count": null,
   "metadata": {},
   "outputs": [],
   "source": [
    "df_2010 = df2['2010'].copy()\n",
    "df_2010"
   ]
  },
  {
   "cell_type": "code",
   "execution_count": null,
   "metadata": {},
   "outputs": [],
   "source": [
    "df2['2010'] = df2['2010'].apply(lambda x: x + 99 if x != np.NaN else -1)\n",
    "df_2010"
   ]
  },
  {
   "cell_type": "markdown",
   "metadata": {},
   "source": [
    "Now it's unchanged!"
   ]
  },
  {
   "cell_type": "markdown",
   "metadata": {},
   "source": [
    "### Basic Sorting Operations"
   ]
  },
  {
   "cell_type": "code",
   "execution_count": null,
   "metadata": {},
   "outputs": [],
   "source": [
    "# Sort column values using sort_values \n",
    "df_2010.sort_values()"
   ]
  },
  {
   "cell_type": "code",
   "execution_count": null,
   "metadata": {},
   "outputs": [],
   "source": [
    "# Sort column values to find the top countries\n",
    "df_2010.sort_values(ascending = False)"
   ]
  },
  {
   "cell_type": "markdown",
   "metadata": {},
   "source": [
    "### Advanced Sort Operations"
   ]
  },
  {
   "cell_type": "code",
   "execution_count": null,
   "metadata": {},
   "outputs": [],
   "source": [
    "# Sort column values of a DataFrame\n",
    "sorted_2012 = df2.sort_values(by='2012', ascending = False)\n",
    "sorted_2012"
   ]
  },
  {
   "cell_type": "code",
   "execution_count": null,
   "metadata": {},
   "outputs": [],
   "source": [
    "# Sort column values using two columns\n",
    "sorted_2012 = df2.sort_values(by=['2012','2013'], ascending=[False, True])\n",
    "sorted_2012"
   ]
  },
  {
   "cell_type": "markdown",
   "metadata": {},
   "source": [
    "### Slicing using the `.loc` and `.iloc` method\n",
    "- Like Series, you can slice your dataframes\n",
    "- Recall `.iloc` for indicies, `.loc` based on conditions.\n",
    "\n",
    "The full syntax is as follows (some examples):\n",
    "- `df.loc[df['2012'] > 40, '2013']`: Give me all the `'2013'` row values if the row in `'2012'` was greater than 40.\n",
    "- `df.loc[df['2012'] > 40, ['2012','2013']]`: Give me all the row values fpr `'2012'` and `'2013'` if the row in `'2012'` was greater than 40.\n",
    "\n",
    "You can also use `.loc` for specific indicies (but once again, not recommended unless you are taking the top `n` values of something)\n",
    "\n",
    "**Note:** `.loc[]` includes the value you want to slice (inclusive)\n",
    "i.e `.loc[:5]` will return indicies 0 to 5 (6 values)"
   ]
  },
  {
   "cell_type": "code",
   "execution_count": null,
   "metadata": {},
   "outputs": [],
   "source": [
    "display(df2.loc[df2['2012'] > 40, '2013'])\n",
    "display(df2.loc[df2['2012'] > 40, ['2012','2013']])"
   ]
  },
  {
   "cell_type": "code",
   "execution_count": null,
   "metadata": {},
   "outputs": [],
   "source": [
    "df2.loc[[3,5], ['Country','1990']]"
   ]
  },
  {
   "cell_type": "code",
   "execution_count": null,
   "metadata": {
    "scrolled": false
   },
   "outputs": [],
   "source": [
    "# All rows and specific columns\n",
    "df2.loc[:,['Country','1990']]\n",
    "\n",
    "# or alternatively just use df2[['Country','1990']]"
   ]
  },
  {
   "cell_type": "markdown",
   "metadata": {},
   "source": [
    "### <span style=\"color:blue\"> Dataframe Exercise 1 </span>\n",
    "\n",
    "- Retrieve the mean, median of CO2 emission generated in 2012 by all countries.\n",
    "- Retrieve the top 5 countries with the most CO2 emission in 2012. How about the 5 countries with the least emission? (remember that `.sort_values()` has an **ascending** parameter that is set to `True` by default).\n",
    "- Retrieve the sum of CO2 emission for all years and find the 2 years with the maximum CO2 emission."
   ]
  },
  {
   "cell_type": "code",
   "execution_count": null,
   "metadata": {},
   "outputs": [],
   "source": [
    "##answer here"
   ]
  },
  {
   "cell_type": "markdown",
   "metadata": {},
   "source": [
    "### <span style=\"color:blue\"> Dataframe Exercise 2 </span>\n",
    "\n",
    "Create a dataframe that has `Country`, `Region` and `IncomeGroup` of the top 10 emitting countries in 2012.\n",
    "- `countries` and `df2` are the variables\n",
    "- several ways of getting to the solution"
   ]
  },
  {
   "cell_type": "code",
   "execution_count": null,
   "metadata": {},
   "outputs": [],
   "source": [
    "##answer here"
   ]
  },
  {
   "cell_type": "markdown",
   "metadata": {},
   "source": [
    "## Groupby\n",
    "- The Groupby method lets you separate the data into different groups based off shared characteristics.  \n",
    "- For example, we can group countries by region or income range and then analyse those groups individually. \n",
    "- `groupby` objects are like your generator functions (list comprehension) and require an \"aggregation\" to give an output\n",
    "- Alternatively, if you just want the groupby, you can reset the index.\n",
    "\n",
    "<img src=\"files/images/groupby1.jpg\">\n",
    "\n",
    "Documentation: https://pandas.pydata.org/pandas-docs/stable/user_guide/groupby.html\n",
    "\n",
    "Here's an example"
   ]
  },
  {
   "cell_type": "code",
   "execution_count": null,
   "metadata": {},
   "outputs": [],
   "source": [
    "countries.groupby('IncomeGroup').count()"
   ]
  },
  {
   "cell_type": "code",
   "execution_count": null,
   "metadata": {},
   "outputs": [],
   "source": [
    "countries.groupby('IncomeGroup').count().reset_index()"
   ]
  },
  {
   "cell_type": "markdown",
   "metadata": {},
   "source": [
    "### <span style=\"color:blue\"> Exercise 3 </span>\n",
    "\n",
    "Using Countries data frame, group the rows using the Region column.\n",
    "* Show the size of each group\n",
    "* Find the number of high income and low income countries by region"
   ]
  },
  {
   "cell_type": "code",
   "execution_count": null,
   "metadata": {},
   "outputs": [],
   "source": [
    "##answer here"
   ]
  },
  {
   "cell_type": "code",
   "execution_count": null,
   "metadata": {},
   "outputs": [],
   "source": []
  }
 ],
 "metadata": {
  "kernelspec": {
   "display_name": "Python 3",
   "language": "python",
   "name": "python3"
  },
  "language_info": {
   "codemirror_mode": {
    "name": "ipython",
    "version": 3
   },
   "file_extension": ".py",
   "mimetype": "text/x-python",
   "name": "python",
   "nbconvert_exporter": "python",
   "pygments_lexer": "ipython3",
   "version": "3.8.5"
  },
  "latex_envs": {
   "LaTeX_envs_menu_present": true,
   "autocomplete": true,
   "bibliofile": "biblio.bib",
   "cite_by": "apalike",
   "current_citInitial": 1,
   "eqLabelWithNumbers": true,
   "eqNumInitial": 1,
   "hotkeys": {
    "equation": "Ctrl-E",
    "itemize": "Ctrl-I"
   },
   "labels_anchors": false,
   "latex_user_defs": false,
   "report_style_numbering": false,
   "user_envs_cfg": false
  },
  "varInspector": {
   "cols": {
    "lenName": 16,
    "lenType": 16,
    "lenVar": 40
   },
   "kernels_config": {
    "python": {
     "delete_cmd_postfix": "",
     "delete_cmd_prefix": "del ",
     "library": "var_list.py",
     "varRefreshCmd": "print(var_dic_list())"
    },
    "r": {
     "delete_cmd_postfix": ") ",
     "delete_cmd_prefix": "rm(",
     "library": "var_list.r",
     "varRefreshCmd": "cat(var_dic_list()) "
    }
   },
   "types_to_exclude": [
    "module",
    "function",
    "builtin_function_or_method",
    "instance",
    "_Feature"
   ],
   "window_display": false
  }
 },
 "nbformat": 4,
 "nbformat_minor": 4
}
