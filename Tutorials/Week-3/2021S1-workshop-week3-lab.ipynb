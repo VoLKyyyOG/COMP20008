{
 "cells": [
  {
   "cell_type": "markdown",
   "metadata": {},
   "source": [
    "## COMP20008 2021 Semester 1 Workshop 3 ##"
   ]
  },
  {
   "cell_type": "markdown",
   "metadata": {},
   "source": [
    "### Using lxml to read XML data\n",
    "\n"
   ]
  },
  {
   "cell_type": "markdown",
   "metadata": {},
   "source": [
    "We will use the *lxml* python package.   *lxml* provides us with various methods of dealing with XML data known as APIs (Application Programming Interfaces). The first way is the ElementTree API, which enables us to easily access XML data in a tree-like structure.  The full API reference is availabld [here](https://lxml.de/api/index.html), but is probably less useful than the pandas API refernece you encountered last week.  The official lxml site does, however, have a [tutorial](https://lxml.de/tutorial.html) which is quite through and makes a great reference.\n",
    "\n",
    "As with any other Python packages, you need to issue an import command to load a package:"
   ]
  },
  {
   "cell_type": "code",
   "execution_count": 1,
   "metadata": {},
   "outputs": [],
   "source": [
    "from lxml import etree\n"
   ]
  },
  {
   "cell_type": "markdown",
   "metadata": {},
   "source": [
    "For this section we will work with the royal.xml file, which contains the names of some members of the British royal family.  The code below simply displays the contents of that file, you can also open the file in a web browser or text editor.  Look through the file and ensure you understand its content."
   ]
  },
  {
   "cell_type": "code",
   "execution_count": 2,
   "metadata": {},
   "outputs": [
    {
     "name": "stdout",
     "output_type": "stream",
     "text": [
      "<?xml version=\"1.0\" encoding=\"utf-8\"?>\n",
      "  <queen title=\"Queen Elizabeth II\" marriedTo=\"Philip, Duke of Edinburgh\">\n",
      "      <prince title=\"Charles, Prince of Wales\" marriedTo=\"Lady Diana Spencer\">\n",
      "\t\t<prince title=\"Prince William of Wales\" />\n",
      "\t\t<prince title=\"Prince Henry of Wales\" />\n",
      "      </prince>\n",
      "      <princess title=\"Anne, Princess Royal\" />\n",
      "      <prince title=\"Andrew, Duke of York\" />\n",
      "      <prince title=\"Edward, Earl of Wessex\" />\n",
      "</queen>\n",
      "\n"
     ]
    }
   ],
   "source": [
    "f = open(\"royal.xml\", \"r\")\n",
    "text = f.read()\n",
    "print(text)\n",
    "f.close()"
   ]
  },
  {
   "cell_type": "markdown",
   "metadata": {},
   "source": [
    "In order to load an XML file and to represent it as a tree in computer memory, you need to parse the XML file. The etree.parse() function parses the XML file that is passed in as a parameter.  "
   ]
  },
  {
   "cell_type": "code",
   "execution_count": 3,
   "metadata": {},
   "outputs": [],
   "source": [
    "xmltree = etree.parse(\"royal.xml\")"
   ]
  },
  {
   "cell_type": "markdown",
   "metadata": {},
   "source": [
    "The *parse()* function returns an XML *ElementTree* object, which represents the whole XML tree. Each node in the tree is translated into an *Element* object .\n",
    "\n",
    "Use *getroot()* function of an *ElementTree* object to get the root element of the XML tree. You can print out the XML tag of an element using *tag* property."
   ]
  },
  {
   "cell_type": "code",
   "execution_count": 4,
   "metadata": {},
   "outputs": [
    {
     "name": "stdout",
     "output_type": "stream",
     "text": [
      "queen\n"
     ]
    }
   ],
   "source": [
    "root = xmltree.getroot()\n",
    "print (root.tag)"
   ]
  },
  {
   "cell_type": "markdown",
   "metadata": {},
   "source": [
    "### Traversing the XML Tree"
   ]
  },
  {
   "cell_type": "markdown",
   "metadata": {},
   "source": [
    "The following sections describe various methods for traversing the XML tree\n",
    "\n",
    "To obtain a list all of the children of an element, you can iterate over the XML *Element* itself:"
   ]
  },
  {
   "cell_type": "code",
   "execution_count": 5,
   "metadata": {},
   "outputs": [
    {
     "name": "stdout",
     "output_type": "stream",
     "text": [
      "prince\n",
      "princess\n",
      "prince\n",
      "prince\n"
     ]
    }
   ],
   "source": [
    "for e in root:\n",
    "   print (e.tag)"
   ]
  },
  {
   "cell_type": "markdown",
   "metadata": {},
   "source": [
    "You can use indexing to access the children of an element:\n"
   ]
  },
  {
   "cell_type": "code",
   "execution_count": 7,
   "metadata": {},
   "outputs": [
    {
     "name": "stdout",
     "output_type": "stream",
     "text": [
      "Charles, Prince of Wales\n"
     ]
    }
   ],
   "source": [
    "oldest_prince = root[0]\n",
    "#print(type(oldest_prince))\n",
    "print (oldest_prince.get(\"title\"))"
   ]
  },
  {
   "cell_type": "markdown",
   "metadata": {},
   "source": [
    "The *find()* method returns only the first matching child.\n",
    "\n"
   ]
  },
  {
   "cell_type": "code",
   "execution_count": 8,
   "metadata": {},
   "outputs": [
    {
     "name": "stdout",
     "output_type": "stream",
     "text": [
      "Charles, Prince of Wales\n"
     ]
    }
   ],
   "source": [
    "the_first_child_with_prince_tag = root.find(\"prince\")\n",
    "print (the_first_child_with_prince_tag.get('title'))"
   ]
  },
  {
   "cell_type": "markdown",
   "metadata": {},
   "source": [
    "The *iterchildren()* function allows you to iterate over children with a particular tag:\n",
    "\n"
   ]
  },
  {
   "cell_type": "code",
   "execution_count": 9,
   "metadata": {
    "scrolled": true
   },
   "outputs": [
    {
     "name": "stdout",
     "output_type": "stream",
     "text": [
      "Charles, Prince of Wales\n",
      "Anne, Princess Royal\n",
      "Andrew, Duke of York\n",
      "Edward, Earl of Wessex\n"
     ]
    }
   ],
   "source": [
    "for child in root:#.iterchildren(tag=\"prince\"):\n",
    "    print (child.get('title'))"
   ]
  },
  {
   "cell_type": "markdown",
   "metadata": {},
   "source": [
    "There is also a *iterdescendants()* function to iterate all descendants of a particular node."
   ]
  },
  {
   "cell_type": "markdown",
   "metadata": {},
   "source": [
    "### Exercise 1"
   ]
  },
  {
   "cell_type": "markdown",
   "metadata": {},
   "source": [
    "Using the *royal.xml*:\n",
    "\n",
    "i) Write Python code to get the title property of queen's grandsons.\n",
    "\n",
    "ii) Write Python code to get the full title of the only princess in the family tree."
   ]
  },
  {
   "cell_type": "code",
   "execution_count": null,
   "metadata": {},
   "outputs": [],
   "source": [
    "#insert answer to 1 here\n",
    "\n"
   ]
  },
  {
   "cell_type": "markdown",
   "metadata": {},
   "source": [
    "### Accessing XML attributes\n"
   ]
  },
  {
   "cell_type": "markdown",
   "metadata": {},
   "source": [
    "You can access the XML attributes of an element using the *get()* method\n",
    "or *attrib* properties of an element.\n",
    "\n"
   ]
  },
  {
   "cell_type": "code",
   "execution_count": null,
   "metadata": {},
   "outputs": [],
   "source": [
    "print (root.attrib)\n",
    "print (root.get(\"title\"))\n"
   ]
  },
  {
   "cell_type": "markdown",
   "metadata": {},
   "source": [
    "### Accessing XML text\n"
   ]
  },
  {
   "cell_type": "raw",
   "metadata": {},
   "source": [
    "Let's now use another sample of XML data. Consider the file book.xml\n",
    "\n",
    "<?xml version=\"1.0\" encoding=\"utf-8\"?>\n",
    "<book id=\"book001\">\n",
    "  <author>Salinger, J. D.</author>\n",
    "  <title>The Catcher in the Rye</title>\n",
    "  <language>English</language>\n",
    "  <publish_date>1951-07-16</publish_date>\n",
    "  <publisher>Little, Brown and Company</publisher>\n",
    "  <isbn>0-316-76953-3</isbn>\n",
    "  <description>A story about a few important days in the life of Holden Caulfield</description>\n",
    "</book>\n",
    "\n"
   ]
  },
  {
   "cell_type": "markdown",
   "metadata": {},
   "source": [
    "This XML looks different to the *royal2.xml* in that it has some\n",
    "text content within each element. To access the text content of an\n",
    "element (text between start and end tag), use *text* properties of that\n",
    "element"
   ]
  },
  {
   "cell_type": "code",
   "execution_count": null,
   "metadata": {},
   "outputs": [],
   "source": [
    "from lxml import etree\n",
    "xmltree = etree.parse('book.xml')\n",
    "root = xmltree.getroot()\n",
    "for child in root:\n",
    "    print (child.tag + \": \" + child.text)"
   ]
  },
  {
   "cell_type": "markdown",
   "metadata": {},
   "source": [
    "### Building XML data\n",
    "\n"
   ]
  },
  {
   "cell_type": "markdown",
   "metadata": {},
   "source": [
    "Let's go back to the *book.xml* example above. As usual, use *lxml* library to parse the XML and get the root of the tree:\n",
    "\n"
   ]
  },
  {
   "cell_type": "code",
   "execution_count": null,
   "metadata": {},
   "outputs": [],
   "source": [
    "from lxml import etree\n",
    "xmltree = etree.parse('book.xml')\n",
    "root = xmltree.getroot()"
   ]
  },
  {
   "cell_type": "markdown",
   "metadata": {},
   "source": [
    "To create a new XML element, use *etree.Element()* function:\n",
    "\n"
   ]
  },
  {
   "cell_type": "code",
   "execution_count": null,
   "metadata": {},
   "outputs": [],
   "source": [
    "new_element = etree.Element('genre')\n",
    "new_element.text = 'Novel'\n",
    "root.append(new_element)\n",
    "print(etree.tostring(root[-1],pretty_print=True,encoding='unicode'))   # the last element, the newly appended element\n"
   ]
  },
  {
   "cell_type": "markdown",
   "metadata": {},
   "source": [
    "Tips: You can create a totally a new XML tree by constructing the root element:"
   ]
  },
  {
   "cell_type": "code",
   "execution_count": null,
   "metadata": {},
   "outputs": [],
   "source": [
    "root = etree.Element('book')"
   ]
  },
  {
   "cell_type": "markdown",
   "metadata": {},
   "source": [
    "You can also create new element using *SubElement()* function:\n"
   ]
  },
  {
   "cell_type": "code",
   "execution_count": null,
   "metadata": {
    "scrolled": true
   },
   "outputs": [],
   "source": [
    "new_element = etree.SubElement(root, \"price\")\n",
    "new_element.text = '23.95'\n",
    "for e in root: # check whether the new element is added\n",
    "    print(e.tag)"
   ]
  },
  {
   "cell_type": "markdown",
   "metadata": {},
   "source": [
    "Use *insert()* to insert a new element at a specific location:"
   ]
  },
  {
   "cell_type": "code",
   "execution_count": null,
   "metadata": {},
   "outputs": [],
   "source": [
    "root.insert(1,etree.Element(\"country\"))\n",
    "root[1].text = \"United States\"\n",
    "print(etree.tostring(root[1],pretty_print=True,encoding='unicode'))"
   ]
  },
  {
   "cell_type": "markdown",
   "metadata": {},
   "source": [
    "### Serialising XML data (printing as web content or writing into a file)\n"
   ]
  },
  {
   "cell_type": "markdown",
   "metadata": {},
   "source": [
    "You can get the whole XML string by calling *etree.tostring()* with the root of the tree as the first parameter:\n",
    "\n"
   ]
  },
  {
   "cell_type": "code",
   "execution_count": null,
   "metadata": {},
   "outputs": [],
   "source": [
    "output = etree.tostring(root, pretty_print=True, encoding=\"UTF-8\")\n",
    "for e in root:\n",
    "   print(e.tag)"
   ]
  },
  {
   "cell_type": "code",
   "execution_count": null,
   "metadata": {},
   "outputs": [],
   "source": [
    "open('output.xml','wb').write(output)"
   ]
  },
  {
   "cell_type": "markdown",
   "metadata": {},
   "source": [
    "### Exercise 2"
   ]
  },
  {
   "cell_type": "markdown",
   "metadata": {},
   "source": [
    "Write Python code to load in the file \"book.xml\", change the ISBN to \"Unknown\" and then write out the file to \"book-new.xml\""
   ]
  },
  {
   "cell_type": "code",
   "execution_count": null,
   "metadata": {},
   "outputs": [],
   "source": [
    "#insert answer to 2 here\n"
   ]
  },
  {
   "cell_type": "markdown",
   "metadata": {},
   "source": [
    "## JSON\n",
    "\n",
    "Python has a built in json module that allows you to process JSON files.  You can find out more about it by reading [its page at python.org](https://docs.python.org/3/library/json.html).  W3schools also provide a good [introductory tutorial](https://www.w3schools.com/python/python_json.asp),  while Real Python has a [more comprehensive one](https://realpython.com/python-json/).\n",
    "\n",
    "Below you can see a sample JSON file consisting of some information about a book."
   ]
  },
  {
   "cell_type": "code",
   "execution_count": null,
   "metadata": {},
   "outputs": [],
   "source": [
    "str_json = '''\n",
    "{\n",
    "\"id\": \"book001\",\n",
    "\"author\": \"Salinger, J. D.\",\n",
    "\"title\": \"The Catcher in the Rye\",\n",
    "\"price\": \"44.95\",\n",
    "\"language\": \"English\",\n",
    "\"publish_date\": \"1951-07-16\",\n",
    "\"publisher\": \"Little, Brown and Company\",\n",
    "\"isbn\": \"0-316-76953-3\",\n",
    "\"description\": \"A story about a few important days in the life of Holden Caulfield\"\n",
    "}\n",
    "'''"
   ]
  },
  {
   "cell_type": "markdown",
   "metadata": {},
   "source": [
    "Using the *json* library we are able to manipulate the JSON file as follows."
   ]
  },
  {
   "cell_type": "code",
   "execution_count": null,
   "metadata": {},
   "outputs": [],
   "source": [
    "import json\n",
    "Data = json.loads(str_json)\n",
    "print(type(Data))\n",
    "print(Data[\"price\"])\n",
    "\n",
    "# modify any attribute\n",
    "Data[\"isbn\"] = \"Unknown\"\n",
    "\n",
    "# save Json file\n",
    "with open('book_test.json', 'w') as f:\n",
    "    json.dump(Data, f,indent = 2)\n",
    "\n",
    "# load Json file\n",
    "with open('book_test.json') as f:\n",
    "    Data = json.load(f)\n"
   ]
  },
  {
   "cell_type": "markdown",
   "metadata": {},
   "source": [
    "### Exercise 3\n",
    "Add Spanish and German to the JSON file above as two extra languages represented as an array. Save this file as book2.json. Validate it on JSONLint."
   ]
  },
  {
   "cell_type": "code",
   "execution_count": null,
   "metadata": {},
   "outputs": [],
   "source": [
    "#insert answer to 3 here and save as book2.json\n",
    "\n"
   ]
  },
  {
   "cell_type": "code",
   "execution_count": null,
   "metadata": {},
   "outputs": [],
   "source": [
    "# load and check the answer\n",
    "\n",
    "with open('book2.json') as f:\n",
    "    Data = json.load(f)\n",
    "    \n",
    "Data"
   ]
  },
  {
   "cell_type": "markdown",
   "metadata": {},
   "source": [
    "### Exercise 4 (If you have time)\n",
    "Now modify the publish date parameter. Make this an array of two objects that have\n",
    "properties of edition (first, second) and date (1951-07-16,1979-01-01) respectively. Save\n",
    "this file as book3.json."
   ]
  },
  {
   "cell_type": "code",
   "execution_count": null,
   "metadata": {},
   "outputs": [],
   "source": [
    "#insert answer to 4 here and save as book3.json\n",
    "\n"
   ]
  },
  {
   "cell_type": "markdown",
   "metadata": {},
   "source": [
    "### Additional Task: Git Resources \n",
    "\n",
    "Please go throuh the git PDF manual uploaded on Canvas. The manual will help you to get fimilarize with the commands used when working with git repository.\n",
    "You can further access a git toturial video using link : https://canvas.lms.unimelb.edu.au/courses/107611/files/6845808?module_item_id=2714691 which explains the gerneral envionment of git and some of \n"
   ]
  },
  {
   "cell_type": "code",
   "execution_count": null,
   "metadata": {},
   "outputs": [],
   "source": []
  }
 ],
 "metadata": {
  "kernelspec": {
   "display_name": "Python 3",
   "language": "python",
   "name": "python3"
  },
  "language_info": {
   "codemirror_mode": {
    "name": "ipython",
    "version": 3
   },
   "file_extension": ".py",
   "mimetype": "text/x-python",
   "name": "python",
   "nbconvert_exporter": "python",
   "pygments_lexer": "ipython3",
   "version": "3.7.4"
  }
 },
 "nbformat": 4,
 "nbformat_minor": 4
}
