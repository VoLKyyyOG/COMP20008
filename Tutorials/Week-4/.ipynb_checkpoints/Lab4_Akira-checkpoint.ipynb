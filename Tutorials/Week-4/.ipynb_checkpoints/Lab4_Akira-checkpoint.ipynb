{
 "cells": [
  {
   "cell_type": "markdown",
   "metadata": {},
   "source": [
    "# Elements Of Data Processing (2021S1) - Week 4\n",
    "\n",
    "### Regular Expressions (Regex)\n",
    "- Regular expressions allow you to match patterns in strings, rather than matching exact characters.  \n",
    "- For example, if I wanted to find all phone numbers with form `(03) xxxx xxxx`, where `x` is some arbitrary digit, then I could use a regular expression like this: \n",
    "    - `\\(03\\) \\d\\d\\d\\d \\d\\d\\d\\d` \n",
    "    - `\\(03\\) \\d{4} \\d{4}` where `\\d{4}` matches a digit exactly 4 times\n",
    "- Here's a good tutorial on Python regex: https://www.w3schools.com/python/python_regex.asp\n",
    "- and a website to test your regex expressions with test cases: https://regex101.com/\n",
    "\n",
    "### Regex with Python\n",
    "- The `re` library in Python allows you to use regular expressions. \n",
    "- Methods of note are:\n",
    "    - `.search()` (search for a particular pattern given a string)\n",
    "    - `.findall()` (finds all substrings that match a given pattern)\n",
    "    - `.sub()` (replaces all matched substrings with another given substring)\n",
    "    \n",
    "### Regex Quantifiers\n",
    "- `?`: exactly zero or one occurrences of the preceding element\n",
    "- `*`: zero or more occurrences of the preceding element\n",
    "- `+`: one or more occurrences of the preceding element\n",
    "- `{n}`: preceding item is matched exactly `n` times\n",
    "- `{,n}`: preceding item is matched up to `n` times inclusive\n",
    "- `{n,}`: preceding item is matched at least `n` or more times\n",
    "- `{m,n}`: preceding item is matched at least `m` or more times, but up to `n` times inclusive\n",
    "    \n",
    "### Escaping Special Characters\n",
    "- Like special characters in Python (i.e `\\n`), you will also need to escape special characters in regex.\n",
    "- For example, if you wanted to match a literal bracket `(`, you have to type `\\(` to escape it as `()` in regex is used to capture a literal group of characters\n",
    "    \n",
    "Consider the phone number from the example above."
   ]
  },
  {
   "cell_type": "code",
   "execution_count": null,
   "metadata": {},
   "outputs": [],
   "source": [
    "import re\n",
    "\n",
    "string = r'Name: Chris, ph: (03) 9923 1123, comments: this is not my real number'\n",
    "\n",
    "# this is the regex pattern we want\n",
    "# notice that we need to \"escape\" the brackets\n",
    "pattern = r'\\(03\\) \\d{4} \\d{4}'\n",
    "\n",
    "if re.search(pattern, string) :\n",
    "    print(\"Phone number found\")\n",
    "    print(re.findall(pattern, string))\n",
    "else :\n",
    "    print(\"Not found\")"
   ]
  },
  {
   "cell_type": "markdown",
   "metadata": {},
   "source": [
    "### <span style=\"color:blue\"> Exercise 1 </span>\n",
    "\n",
    "Modify the example above so that it will also find phone numbers starting with `(03)` that:\n",
    "- have missing brackets;\n",
    "- instead of a single space, uses hyphens, backslashes, and/or spaces.\n",
    "\n",
    "Your program should match all elements in ***strings*** in the code segment below "
   ]
  },
  {
   "cell_type": "code",
   "execution_count": null,
   "metadata": {},
   "outputs": [],
   "source": [
    "# This examples looks for phone numbers that match the format above\n",
    "import re\n",
    "\n",
    "strings = [\n",
    "    r'Name: Chris, ph: (03) 9923 1123, comments: this is not my real number',\n",
    "    r'Name: John, ph: 03-9923-1123, comments: this might be an old number',\n",
    "    r'Name: Sara, phone: (03)-9923-1123, comments: there is data quality issues, so far, three people sharig the same number',\n",
    "    r'Name: Christopher, ph: (03)\\-9923 -1123, comments, is this the same Chris in the first record?'\n",
    "]\n",
    "\n",
    "# change this line\n",
    "pattern = r'\\(03\\) \\d{4} \\d{4}'\n",
    "\n",
    "for s in strings:\n",
    "    if re.search(pattern, s) :\n",
    "        print(\"Phone number found\")\n",
    "        print(re.findall(pattern, s))\n",
    "    else :\n",
    "        print(\"Not found\")"
   ]
  },
  {
   "cell_type": "markdown",
   "metadata": {},
   "source": [
    "### <span style=\"color:blue\"> Exercise 2 </span>\n",
    "- Write a program that will remove **all leading zeros** from an IP address\n",
    "- For example, `0216.08.094.102` should become `216.8.94.196`\n",
    "- Your program should match all elements in `ip_addr` in the code segment below "
   ]
  },
  {
   "cell_type": "code",
   "execution_count": null,
   "metadata": {},
   "outputs": [],
   "source": [
    "# Exercise 2: Write a program that will remove all leading zeros from an IP address\n",
    "# For example, 0216.08.094.102 should become 216.8.94.196\n",
    "import re\n",
    "\n",
    "ip_addr = '0216.08.094.102'\n",
    "\n",
    "# change these line\n",
    "pattern = ...\n",
    "replace = ...\n",
    "\n",
    "revised_addr = re.sub(pattern, replace, ip_addr)\n",
    "print(revised_addr)"
   ]
  },
  {
   "cell_type": "markdown",
   "metadata": {},
   "source": [
    "## Jaccard Similarity  \n",
    "\n",
    "Jaccard similarity (set-based) is a measure of calculating the similarity between two $n$-grams.\n",
    "\n",
    "Let $A$ and $B$ be two $n$-grams. Then the Jaccard similarity can be computed as:\n",
    "$$\n",
    "\\text{sim} = J(A, B) = \\frac{A\\cap B}{A\\cup B}\n",
    "$$\n",
    "\n",
    "where:\n",
    "- The intersection is the number of common elements between the two sets;\n",
    "- and the union contains the set of all elements in the two sets.\n",
    "\n",
    "For example, if I had two sets of numbers:\n",
    "- $A = \\{0,1,2,5,6\\}, B = \\{0,2,3,4,5,7,9\\}$\n",
    "- Then $A\\cap B = \\{0, 2, 5\\}$ and $A\\cup B = \\{0, 1, 2, 3, 4, 5, 6, 7, 9\\}$\n",
    "- Therefore, $J(A, B) = 3 / 9 = 0.33$"
   ]
  },
  {
   "cell_type": "markdown",
   "metadata": {},
   "source": [
    "### <span style=\"color:blue\"> Exercise 3 </span>\n",
    "\n",
    "1. Use `nltk.util.ngram` to produce bi-grams (your device may need to download the `punkt` toolbox for `nltk`).\n",
    "1. Then calculate the Jaccard similarity for each bi-gram."
   ]
  },
  {
   "cell_type": "code",
   "execution_count": null,
   "metadata": {},
   "outputs": [],
   "source": [
    "from nltk.util import ngrams\n",
    "\n",
    "text = \"AURIN is crucial infrastructure for researchers, government and industry, accelerating research into our towns, cities and communities.\"\n",
    "\n"
   ]
  }
 ],
 "metadata": {
  "kernelspec": {
   "display_name": "Python 3",
   "language": "python",
   "name": "python3"
  },
  "language_info": {
   "codemirror_mode": {
    "name": "ipython",
    "version": 3
   },
   "file_extension": ".py",
   "mimetype": "text/x-python",
   "name": "python",
   "nbconvert_exporter": "python",
   "pygments_lexer": "ipython3",
   "version": "3.8.5"
  },
  "varInspector": {
   "cols": {
    "lenName": 16,
    "lenType": 16,
    "lenVar": 40
   },
   "kernels_config": {
    "python": {
     "delete_cmd_postfix": "",
     "delete_cmd_prefix": "del ",
     "library": "var_list.py",
     "varRefreshCmd": "print(var_dic_list())"
    },
    "r": {
     "delete_cmd_postfix": ") ",
     "delete_cmd_prefix": "rm(",
     "library": "var_list.r",
     "varRefreshCmd": "cat(var_dic_list()) "
    }
   },
   "types_to_exclude": [
    "module",
    "function",
    "builtin_function_or_method",
    "instance",
    "_Feature"
   ],
   "window_display": false
  }
 },
 "nbformat": 4,
 "nbformat_minor": 4
}
