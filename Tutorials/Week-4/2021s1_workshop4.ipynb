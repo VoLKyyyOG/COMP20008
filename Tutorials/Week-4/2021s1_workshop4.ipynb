{
 "cells": [
  {
   "cell_type": "markdown",
   "metadata": {},
   "source": [
    "# Elements Of Data Processing (2021S1) - Week 4\n"
   ]
  },
  {
   "cell_type": "markdown",
   "metadata": {},
   "source": [
    "## Regular expressions \n",
    "Regular expressions allow you to match patterns in strings, rather than matching exact characters.  \n",
    "For example, \n",
    "if I wished to find all phone numbers of the form (03) xxxx xxxx, where x is some arbitrary digit, \n",
    "I could use a regular expression like this: \n",
    "    \n",
    "\\(03\\) \\d\\d\\d\\d \\d\\d\\d\\d\n",
    "\n",
    "*or*\n",
    "\n",
    "\\(03\\) \\d{4} \\d4}    "
   ]
  },
  {
   "cell_type": "markdown",
   "metadata": {},
   "source": [
    "The **re** library in python allows you to use regular expressions.  It provides a number of useful functions, \n",
    "including:\n",
    "    \n",
    "***search*** - Searches for a particular pattern in a string\n",
    "\n",
    "***findall*** - Finds all substrings that match a particular pattern\n",
    "\n",
    "***sub*** - Replaces substrings that match a particular pattern with a new substring"
   ]
  },
  {
   "cell_type": "markdown",
   "metadata": {},
   "source": [
    "\n",
    "### This example looks for phone numbers that match the format above"
   ]
  },
  {
   "cell_type": "code",
   "execution_count": 2,
   "metadata": {},
   "outputs": [
    {
     "name": "stdout",
     "output_type": "stream",
     "text": [
      "Phone number found\n"
     ]
    }
   ],
   "source": [
    "#This examples looks for phone numbers that match the format above\n",
    "import re\n",
    "\n",
    "string = r'Name: Chris, ph: (03) 9923 1123, comments: this is not my real number'\n",
    "pattern = r'\\(03\\) \\d{4} \\d{4,4}'\n",
    "\n",
    "if re.search(pattern, string) :\n",
    "    print(\"Phone number found\")\n",
    "else :\n",
    "    print(\"Not found\")"
   ]
  },
  {
   "cell_type": "markdown",
   "metadata": {},
   "source": [
    "### <span style=\"color:blue\"> Exercise 1 </span>\n",
    "\n",
    "Modify the example above so that it will also find phone numbers starting with 03 that:\n",
    "    \n",
    "- are missing brackets and/or\n",
    "- instead of a space, use hyphens,  backslashes and/or spaces.\n",
    "\n",
    "Your program should match all elements in ***strings*** in the code segment below "
   ]
  },
  {
   "cell_type": "code",
   "execution_count": null,
   "metadata": {},
   "outputs": [],
   "source": [
    "#This examples looks for phone numbers that match the format above\n",
    "import re\n",
    "strings = [\n",
    "    r'Name: Chris, ph: (03) 9923 1123, comments: this is not my real number',\n",
    "    r'Name: John, ph: 03-9923-1123, comments: this might be an old number',\n",
    "    r'Name: Sara, phone: (03)-9923-1123, comments: there is data quality issues, so far, three people sharig the same number',\n",
    "    r'Name: Christopher, ph: (03)\\-9923 -1123, comments, is this the same Chris in the first record?'\n",
    "]\n",
    "\n",
    "#change this line\n",
    "#pattern = r'\\(03\\) \\d{4} \\d{4,4}'\n",
    "\n",
    "\n",
    "for s in strings:\n",
    "    if re.search(pattern, s) :\n",
    "        print(\"Phone number found\")\n",
    "    else :\n",
    "        print(\"Not found\")"
   ]
  },
  {
   "cell_type": "markdown",
   "metadata": {},
   "source": [
    "### <span style=\"color:blue\"> Exercise 2 </span>\n",
    "\n",
    "Write a program that will remove all leading zeros from an IP address\n",
    "    \n",
    "For example, 0216.08.094.102 should become 216.8.94.196\n",
    "\n",
    "Your program should match all elements in ***strings*** in the code segment below "
   ]
  },
  {
   "cell_type": "code",
   "execution_count": null,
   "metadata": {},
   "outputs": [],
   "source": [
    "#Exercise 2: Write a program that will remove all leading zeros from an IP address\n",
    "#For example, 0216.08.094.102 should become 216.8.94.196\n",
    "import re\n",
    "\n",
    "ip_addr = '0216.08.094.102'\n",
    "\n",
    "#change this line\n",
    "revised_addr = ip_addr\n",
    "\n",
    "\n",
    "print(revised_addr)"
   ]
  },
  {
   "cell_type": "markdown",
   "metadata": {},
   "source": [
    "## Jaccard similarity  \n",
    "\n",
    "Jaccard similarity (set-based) is a measure to calculate similarity between two grams.\n",
    "\n",
    "It is calculated by, 𝑠𝑖𝑚= intersection of (𝑆1, 𝑆2)/ Union (𝑆1, 𝑆2)\n"
   ]
  },
  {
   "cell_type": "markdown",
   "metadata": {},
   "source": [
    "## Excercise 3 \n",
    "\n",
    "(1) use nltk.ngram to produce bi-grams\n",
    "\n",
    "(2) calculate jaccard similarity."
   ]
  },
  {
   "cell_type": "code",
   "execution_count": null,
   "metadata": {},
   "outputs": [],
   "source": []
  },
  {
   "cell_type": "markdown",
   "metadata": {},
   "source": []
  }
 ],
 "metadata": {
  "kernelspec": {
   "display_name": "Python 3",
   "language": "python",
   "name": "python3"
  },
  "language_info": {
   "codemirror_mode": {
    "name": "ipython",
    "version": 3
   },
   "file_extension": ".py",
   "mimetype": "text/x-python",
   "name": "python",
   "nbconvert_exporter": "python",
   "pygments_lexer": "ipython3",
   "version": "3.7.4"
  }
 },
 "nbformat": 4,
 "nbformat_minor": 4
}
