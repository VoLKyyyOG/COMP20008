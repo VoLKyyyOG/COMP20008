{
 "cells": [
  {
   "cell_type": "markdown",
   "metadata": {},
   "source": [
    "# Elements Of Data Processing (2021S1) - Week 4\n",
    "\n",
    "### Regular Expressions (Regex)\n",
    "- Regular expressions allow you to match patterns in strings, rather than matching exact characters.  \n",
    "- For example, if I wanted to find all phone numbers with form `(03) xxxx xxxx`, where `x` is some arbitrary digit, then I could use a regular expression like this: \n",
    "    - `\\(03\\) \\d\\d\\d\\d \\d\\d\\d\\d` \n",
    "    - `\\(03\\) \\d{4} \\d{4}` where `\\d{4}` matches a digit exactly 4 times\n",
    "- Here's a good tutorial on Python regex: https://www.w3schools.com/python/python_regex.asp\n",
    "- and a website to test your regex expressions with test cases: https://regex101.com/\n",
    "\n",
    "### Regex with Python\n",
    "- The `re` library in Python allows you to use regular expressions. \n",
    "- Methods of note are:\n",
    "    - `.search()` (search for a particular pattern given a string)\n",
    "    - `.findall()` (finds all substrings that match a given pattern)\n",
    "    - `.sub()` (replaces all matched substrings with another given substring or group)\n",
    "    \n",
    "### Regex Quantifiers\n",
    "- `?`: exactly zero or one occurrences of the preceding element\n",
    "- `*`: zero or more occurrences of the preceding element\n",
    "- `+`: one or more occurrences of the preceding element\n",
    "- `{n}`: preceding item is matched exactly `n` times\n",
    "- `{,n}`: preceding item is matched up to `n` times inclusive\n",
    "- `{n,}`: preceding item is matched at least `n` or more times\n",
    "- `{m,n}`: preceding item is matched at least `m` or more times, but up to `n` times inclusive\n",
    "    \n",
    "### Escaping Special Characters\n",
    "- Like special characters in Python (i.e `\\n`), you will also need to escape special characters in regex.\n",
    "- For example, if you wanted to match a literal bracket `(`, you have to type `\\(` to escape it as `()` in regex is used to capture a literal group of characters\n",
    "    \n",
    "Consider the phone number from the example above."
   ]
  },
  {
   "cell_type": "code",
   "execution_count": 1,
   "metadata": {},
   "outputs": [
    {
     "name": "stdout",
     "output_type": "stream",
     "text": [
      "Phone number found\n",
      "['(03) 9923 1123']\n"
     ]
    }
   ],
   "source": [
    "import re\n",
    "\n",
    "string = r'Name: Chris, ph: (03) 9923 1123, comments: this is not my real number'\n",
    "\n",
    "# this is the regex pattern we want\n",
    "# notice that we need to \"escape\" the brackets\n",
    "pattern = r'\\(03\\) \\d{4} \\d{4}'\n",
    "\n",
    "if re.search(pattern, string) :\n",
    "    print(\"Phone number found\")\n",
    "    print(re.findall(pattern, string))\n",
    "else :\n",
    "    print(\"Not found\")"
   ]
  },
  {
   "cell_type": "markdown",
   "metadata": {},
   "source": [
    "### <span style=\"color:blue\"> Exercise 1 </span>\n",
    "\n",
    "Modify the example above so that it will also find phone numbers starting with `(03)` that:\n",
    "- have missing brackets;\n",
    "- instead of a single space, uses hyphens, backslashes, and/or spaces.\n",
    "\n",
    "Your program should match all elements in ***strings*** in the code segment below "
   ]
  },
  {
   "cell_type": "code",
   "execution_count": 2,
   "metadata": {},
   "outputs": [
    {
     "name": "stdout",
     "output_type": "stream",
     "text": [
      "Phone number found\n",
      "['(03) 9923 1123']\n",
      "Phone number found\n",
      "['03-9923-1123']\n",
      "Phone number found\n",
      "['(03)-9923-1123']\n",
      "Phone number found\n",
      "['(03)\\\\-9923 -1123']\n"
     ]
    }
   ],
   "source": [
    "# This examples looks for phone numbers that match the format above\n",
    "import re\n",
    "\n",
    "strings = [\n",
    "    r'Name: Chris, ph: (03) 9923 1123, comments: this is not my real number',\n",
    "    r'Name: John, ph: 03-9923-1123, comments: this might be an old number',\n",
    "    r'Name: Sara, phone: (03)-9923-1123, comments: there is data quality issues, so far, three people sharig the same number',\n",
    "    r'Name: Christopher, ph: (03)\\-9923 -1123, comments, is this the same Chris in the first record?'\n",
    "]\n",
    "\n",
    "# change this line\n",
    "pattern = r'\\(?03\\)?[\\\\\\s-]+\\d{4}[\\\\\\s-]+\\d{4}'\n",
    "\n",
    "for s in strings:\n",
    "    if re.search(pattern, s) :\n",
    "        print(\"Phone number found\")\n",
    "        print(re.findall(pattern, s))\n",
    "    else :\n",
    "        print(\"Not found\")"
   ]
  },
  {
   "cell_type": "markdown",
   "metadata": {},
   "source": [
    "### <span style=\"color:blue\"> Exercise 2 </span>\n",
    "- Write a program that will remove **all leading zeros** from an IP address\n",
    "- For example, `0216.08.094.102` should become `216.8.94.196`\n",
    "- Your program should match all elements in `ip_addr` in the code segment below "
   ]
  },
  {
   "cell_type": "code",
   "execution_count": 19,
   "metadata": {},
   "outputs": [
    {
     "name": "stdout",
     "output_type": "stream",
     "text": [
      "216.8.94.102\n",
      "216.8.94.102\n"
     ]
    }
   ],
   "source": [
    "# Exercise 2: Write a program that will remove all leading zeros from an IP address\n",
    "# For example, 0216.08.094.102 should become 216.8.94.196\n",
    "import re\n",
    "\n",
    "ip_addr = '0216.08.094.102'\n",
    "\n",
    "# change this line\n",
    "# capture groups are either the start of the line or the \\. (literal dot) \n",
    "# AND zero or more leading 0's before the first one or more digits\n",
    "pattern = '(^|\\.)0*(\\d+)'\n",
    "# substitute the initial string with only the two capturing groups\n",
    "# this then omits the 0* matches found\n",
    "revised_addr = re.sub(pattern, r'\\1\\2', ip_addr)\n",
    "\n",
    "# alternatively\n",
    "alternative_addr = '.'.join(i.lstrip('0') for i in ip_addr.split('.'))\n",
    "\n",
    "print(revised_addr)\n",
    "print(alternative_addr)"
   ]
  },
  {
   "cell_type": "markdown",
   "metadata": {},
   "source": [
    "## Jaccard Similarity  \n",
    "\n",
    "Jaccard similarity (set-based) is a measure of calculating the similarity between two $n$-grams.\n",
    "\n",
    "Let $A$ and $B$ be two $n$-grams. Then the Jaccard similarity can be computed as:\n",
    "$$\n",
    "\\text{sim} = J(A, B) = \\frac{A\\cap B}{A\\cup B}\n",
    "$$\n",
    "\n",
    "where:\n",
    "- The intersection is the number of common elements between the two sets;\n",
    "- and the union contains the set of all elements in the two sets.\n",
    "\n",
    "For example, if I had two sets of numbers:\n",
    "- $A = \\{0,1,2,5,6\\}, B = \\{0,2,3,4,5,7,9\\}$\n",
    "- Then $A\\cap B = \\{0, 2, 5\\}$ and $A\\cup B = \\{0, 1, 2, 3, 4, 5, 6, 7, 9\\}$\n",
    "- Therefore, $J(A, B) = 3 / 9 = 0.33$"
   ]
  },
  {
   "cell_type": "markdown",
   "metadata": {},
   "source": [
    "### <span style=\"color:blue\"> Exercise 3 </span>\n",
    "\n",
    "1. Use nltk.util.ngram to produce bi-grams (your device may need to download the `punkt` toolbox for `nltk`).\n",
    "1. Then calculate the Jaccard similarity for each bi-gram."
   ]
  },
  {
   "cell_type": "code",
   "execution_count": 1,
   "metadata": {},
   "outputs": [
    {
     "data": {
      "text/plain": [
       "[0.0,\n",
       " 0.14285714285714285,\n",
       " 0.45454545454545453,\n",
       " 0.18181818181818182,\n",
       " 0.1111111111111111,\n",
       " 0.15384615384615385,\n",
       " 0.1,\n",
       " 0.2,\n",
       " 0.2857142857142857,\n",
       " 0.36363636363636365,\n",
       " 0.0,\n",
       " 0.16666666666666666,\n",
       " 0.125,\n",
       " 0.2222222222222222,\n",
       " 0.0,\n",
       " 0.08333333333333333]"
      ]
     },
     "execution_count": 1,
     "metadata": {},
     "output_type": "execute_result"
    }
   ],
   "source": [
    "from nltk.util import ngrams\n",
    "\n",
    "text = \"AURIN is crucial infrastructure for researchers, government and industry, accelerating research into our towns, cities and communities.\"\n",
    "\n",
    "# Function to generate n-grams from sentences.\n",
    "def bigram(text):\n",
    "    \"\"\"\n",
    "    computes bigrams (2-grams) given a tokenized text\n",
    "    \"\"\"\n",
    "    return ngrams(text.split(), 2)\n",
    "\n",
    "def jaccard(word1, word2):\n",
    "    a, b = set(word1), set(word2)\n",
    "    return len(a.intersection(b)) / len(a.union(b))\n",
    "\n",
    "[jaccard(a,b) for a, b in bigram(text)]"
   ]
  },
  {
   "cell_type": "code",
   "execution_count": 3,
   "metadata": {},
   "outputs": [
    {
     "data": {
      "text/plain": [
       "[('AURIN', 'is'),\n",
       " ('is', 'crucial'),\n",
       " ('crucial', 'infrastructure'),\n",
       " ('infrastructure', 'for'),\n",
       " ('for', 'researchers,'),\n",
       " ('researchers,', 'government'),\n",
       " ('government', 'and'),\n",
       " ('and', 'industry,'),\n",
       " ('industry,', 'accelerating'),\n",
       " ('accelerating', 'research'),\n",
       " ('research', 'into'),\n",
       " ('into', 'our'),\n",
       " ('our', 'towns,'),\n",
       " ('towns,', 'cities'),\n",
       " ('cities', 'and'),\n",
       " ('and', 'communities.')]"
      ]
     },
     "execution_count": 3,
     "metadata": {},
     "output_type": "execute_result"
    }
   ],
   "source": [
    "list(ngrams(text.split(), 2))"
   ]
  },
  {
   "cell_type": "code",
   "execution_count": null,
   "metadata": {},
   "outputs": [],
   "source": []
  }
 ],
 "metadata": {
  "kernelspec": {
   "display_name": "Python 3",
   "language": "python",
   "name": "python3"
  },
  "language_info": {
   "codemirror_mode": {
    "name": "ipython",
    "version": 3
   },
   "file_extension": ".py",
   "mimetype": "text/x-python",
   "name": "python",
   "nbconvert_exporter": "python",
   "pygments_lexer": "ipython3",
   "version": "3.8.5"
  },
  "varInspector": {
   "cols": {
    "lenName": 16,
    "lenType": 16,
    "lenVar": 40
   },
   "kernels_config": {
    "python": {
     "delete_cmd_postfix": "",
     "delete_cmd_prefix": "del ",
     "library": "var_list.py",
     "varRefreshCmd": "print(var_dic_list())"
    },
    "r": {
     "delete_cmd_postfix": ") ",
     "delete_cmd_prefix": "rm(",
     "library": "var_list.r",
     "varRefreshCmd": "cat(var_dic_list()) "
    }
   },
   "types_to_exclude": [
    "module",
    "function",
    "builtin_function_or_method",
    "instance",
    "_Feature"
   ],
   "window_display": false
  }
 },
 "nbformat": 4,
 "nbformat_minor": 4
}
