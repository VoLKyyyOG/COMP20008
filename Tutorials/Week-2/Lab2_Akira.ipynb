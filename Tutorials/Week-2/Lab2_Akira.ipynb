{
 "cells": [
  {
   "cell_type": "markdown",
   "metadata": {},
   "source": [
    "# Elements Of Data Processing (2021S1) - Week 2\n",
    "### General Tips for Jupyter Notebook\n",
    "Cell Running shortcuts:\n",
    "- `shift + enter` : Run current cell - keyboard shortcut for the <button class='btn btn-default btn-xs'><i class=\"fa-play fa\"></i><span class=\"toolbar-btn-label\">Run</span></button> button\n",
    "- `ctrl + enter` : Run selected cells\n",
    "\n",
    "Command mode (press `esc` to enter):\n",
    "- Enter command mode pressing `esc` (blue highlight)\n",
    "- `a` to create a cell **above**\n",
    "- `b` to create a cell **below**\n",
    "- `dd` (double d) to **delete** a cell\n",
    "- `m` to make the cell render in **markdown**\n",
    "- `r` to make the cell render in **raw** text\n",
    "- `y` to make the cell render python code\n",
    "- `enter` to \"edit\" the cell\n",
    "\n",
    "### Visualization with Python\n",
    "- Today we will cover the most common plotting library `matplotlib` and different forms of visualizations.\n",
    "- `matplotlib` is a Python 2D plotting library that enables you to produce figures and charts, both in a screen or in an image file. Animations are also supported for interactive notebooks.\n",
    "- Alternative libraries include `seaborn`, `pandas.plot`, `bokeh`, `folium`, `plotly`\n",
    "- `matplotlib` documentation: https://matplotlib.org/stable/api/_as_gen/matplotlib.pyplot.html#module-matplotlib.pyplot\n",
    "- You will often find yourself on stack overflow finding ancient answers written by fossils (a word for old programmers) when it comes to formatting a visualisation (i.e axis ticks, labels, rotations, colours, etc)\n",
    "\n",
    "### Box Plots\n",
    "- The following example demonstrates a boxplot (or box-and-whisker plot) of the top 100 emissions in 2010, using the emmisions dataset seen in previous labs. \n",
    "- A boxplot is a plot that displays a statistical summary of the quartiles of a dataset.\n",
    "- Boxplot documentation: https://matplotlib.org/stable/api/_as_gen/matplotlib.pyplot.boxplot.html"
   ]
  },
  {
   "cell_type": "code",
   "execution_count": null,
   "metadata": {},
   "outputs": [],
   "source": [
    "import pandas as pd\n",
    "import numpy as np\n",
    "from IPython.display import display\n",
    "\n",
    "# we give the library module alias plt\n",
    "import matplotlib.pyplot as plt"
   ]
  },
  {
   "cell_type": "code",
   "execution_count": null,
   "metadata": {},
   "outputs": [],
   "source": [
    "df = pd.read_csv('data/emission.csv',encoding = 'ISO-8859-1')\n",
    "\n",
    "# drop all nan values (or you can impute them with 0...)\n",
    "df_2010 = df['2010'].dropna()\n",
    "\n",
    "plt.boxplot(df_2010)\n",
    "\n",
    "plt.show()"
   ]
  },
  {
   "cell_type": "markdown",
   "metadata": {},
   "source": [
    "Alternatively using `%matplotlib inline` instead of `plt.show()`"
   ]
  },
  {
   "cell_type": "code",
   "execution_count": null,
   "metadata": {},
   "outputs": [],
   "source": [
    "%matplotlib inline\n",
    "\n",
    "plt.boxplot(df_2010)\n",
    "\n",
    "# some arguments to help make the plot easier for analysis\n",
    "plt.title(\"Total Emissions per Country in 2010\") # set the title\n",
    "plt.xticks([1], [\"Emissions\"]) # display x=1 as \"Emissions\" "
   ]
  },
  {
   "cell_type": "code",
   "execution_count": null,
   "metadata": {},
   "outputs": [],
   "source": [
    "# confirm summary statistics\n",
    "df['2010'].dropna().describe()"
   ]
  },
  {
   "cell_type": "markdown",
   "metadata": {},
   "source": [
    "### Scatter Plots\n",
    "- One of the most common plots which are used to display the relationship between two variables (x vs y).\n",
    "- For this example, we will use the Iris dataset (one of the \"go-to\" datasets for tutorials)\n",
    "- The dataset provides measurements on various parts of three types of Iris flower (Iris setosa, Iris versicolour, and Iris virginica)\n",
    "- For each of the three types, there are 50 measurements (aka samples or instances). \n",
    "- Each data row in the CSV file contains (1) petal width, (2) sepal width, (3) petal length, (4) sepal length, and (5) the type of Iris flower.\n",
    "- This example will plot petal length vs petal width for all three types."
   ]
  },
  {
   "cell_type": "code",
   "execution_count": null,
   "metadata": {},
   "outputs": [],
   "source": [
    "df_iris = pd.read_csv('data/iris.csv',encoding = 'ISO-8859-1')\n",
    "\n",
    "display(df_iris.sample(5)) # display 5 random rows\n",
    "\n",
    "# filter/locate the data required\n",
    "setosa = df_iris.loc[df_iris['Name'] == 'Iris-setosa']\n",
    "veriscolor = df_iris.loc[df_iris['Name'] == 'Iris-versicolor']\n",
    "virginica = df_iris.loc[df_iris['Name'] == 'Iris-virginica']\n",
    "\n",
    "# define an array of flowers\n",
    "flowers = (setosa, veriscolor, virginica)\n",
    "\n",
    "# define an array of different colours\n",
    "colours = ('g', 'r', 'b')"
   ]
  },
  {
   "cell_type": "markdown",
   "metadata": {},
   "source": [
    "Here's a list of all the wonderful colours for `matplotlib`: https://matplotlib.org/stable/gallery/color/named_colors.html#sphx-glr-gallery-color-named-colors-py\n",
    "\n",
    "Just note, that they use the American spelling (colour) vs Australian spelling (colour)."
   ]
  },
  {
   "cell_type": "code",
   "execution_count": null,
   "metadata": {},
   "outputs": [],
   "source": [
    "for flower, c in zip(flowers, colours):\n",
    "    # get the name of the flower for labels\n",
    "    name = flower['Name'].values[0] \n",
    "    plt.scatter(flower['PetalLength'], flower['PetalWidth'], color=c, label=name)\n",
    "    # if you provide a label, then you can call plt.legend() to display the label name!\n",
    "    \n",
    "# some arguments for the overall plot\n",
    "plt.ylabel(\"petal width\")\n",
    "plt.xlabel(\"petal length\")\n",
    "plt.title(\"Iris Dataset Petal Length vs Width\")\n",
    "plt.xlim(0.5,7.5)\n",
    "plt.ylim(0,3)\n",
    "plt.grid(True)\n",
    "plt.legend()\n",
    "\n",
    "plt.show()"
   ]
  },
  {
   "cell_type": "markdown",
   "metadata": {},
   "source": [
    "#### Inferences\n",
    "- We can visually see that each flower has a distinct cluster\n",
    "- For example, Iris-Versicolour seems to have a positive linear relationship (if petal length increases, so does petal width)"
   ]
  },
  {
   "cell_type": "markdown",
   "metadata": {},
   "source": [
    "### <span style=\"color:blue\"> Exercise 1 </span> \n",
    "\n",
    "\n",
    "Modify the example above to generate the scatter plot of sepal length and petal width.\n"
   ]
  },
  {
   "cell_type": "code",
   "execution_count": null,
   "metadata": {},
   "outputs": [],
   "source": [
    "##answer here\n",
    "\n"
   ]
  },
  {
   "cell_type": "markdown",
   "metadata": {},
   "source": [
    "### Bar Charts\n",
    "- Another common type of chart\n",
    "- Depending on the dataset, it may be more \"interesting\" to sort the data \n",
    "- Typically provide comparisons or contrasts between different entities.\n",
    "- Example below displays the GNP per capita of the three poorest vs three richest countries in the world\n",
    "- Source: 2004 GNP per capita\n",
    "\n",
    "`np.arrange()` is the numpy equivalent of `range()`. See https://stackoverflow.com/questions/10698858/built-in-range-or-numpy-arange-which-is-more-efficient for more details"
   ]
  },
  {
   "cell_type": "code",
   "execution_count": null,
   "metadata": {},
   "outputs": [],
   "source": [
    "countries = ['Burundi','Ethiopia','Rep of Congo','Switzerland','Norway','Luxembourg']\n",
    "gnp = [90, 110, 110, 49600, 51810, 56380] # GNP per capita data (2004)\n",
    "\n",
    "plt.bar(np.arange(len(gnp)), gnp)\n",
    "\n",
    "# set the rotation of the x-values to 30 degrees\n",
    "# also, for each x-val between 0 and 5, display the country name instead\n",
    "plt.xticks(np.arange(len(countries)), countries, rotation=30)\n",
    "\n",
    "plt.show()"
   ]
  },
  {
   "cell_type": "markdown",
   "metadata": {},
   "source": [
    "(Advanced) As you can see, because the scale difference is so high, we really can't gain much information about the poorest countries. One way to visualise it in a better way is to plot the log.\n",
    "\n",
    "- To get the original values, you take the `exp()` (exponential) of the log scale. \n",
    "- For example, $\\log(56380) = 10.9398$. To get the original value, we take $\\exp(10.9398) = 56380$"
   ]
  },
  {
   "cell_type": "code",
   "execution_count": null,
   "metadata": {},
   "outputs": [],
   "source": [
    "log_gnp = [np.log(i) for i in gnp]\n",
    "\n",
    "plt.bar(np.arange(len(gnp)), log_gnp)\n",
    "\n",
    "plt.xticks(np.arange(len(countries)), countries, rotation=30)\n",
    "plt.ylabel(\"Log10 Scale\")\n",
    "\n",
    "plt.show()"
   ]
  },
  {
   "cell_type": "markdown",
   "metadata": {},
   "source": [
    "### <span style=\"color:blue\"> Exercise 2 </span> \n",
    "\n",
    "\n",
    "Modify the bar chart example to plot the average maximum temperature in all major Australian cities. The data is available [here](data/max_temp.csv). \n"
   ]
  },
  {
   "cell_type": "code",
   "execution_count": null,
   "metadata": {},
   "outputs": [],
   "source": [
    "##answer here\n",
    "\n",
    "\n",
    "\n"
   ]
  },
  {
   "cell_type": "markdown",
   "metadata": {},
   "source": [
    "(From the Lab - Advanced) \n",
    "- You can also display several measurements for each entity of interest using a **clustered bar chart**. \n",
    "- For example, the clustered bar chart below simultaneously shows the number of births and deaths in four countries of interest.\n",
    "- The number of births is displayed as the blue-colored bar and the number of deaths as the red-colored bar."
   ]
  },
  {
   "cell_type": "code",
   "execution_count": null,
   "metadata": {},
   "outputs": [],
   "source": [
    "countries = ['Afghanistan', 'Albania', 'Algeria', 'Angola']\n",
    "\n",
    "births = [1143717, 53367, 598519, 498887]\n",
    "deaths = [529623, 16474, 144694, 285380]\n",
    "\n",
    "plt.bar(np.arange(len(births))-0.3, births, width=0.3)\n",
    "plt.bar(np.arange(len(deaths)), deaths, width=0.3,color='r')\n",
    "\n",
    "plt.xticks(np.arange(len(countries)),countries, rotation=30)\n",
    "\n",
    "plt.show()"
   ]
  },
  {
   "cell_type": "markdown",
   "metadata": {},
   "source": [
    "### Histograms\n",
    "- One of the most useful plotting devices (alongside scatterplots) which plot the **distribution** of your dataset\n",
    "- Typically used for datasets with large $n$ (number of rows/instances, such as age of population).\n",
    "- Approximating the distribution requires some statistical background and is not required in this subject (though you should probably know what the Normal distribution looks like).\n",
    "- The example below creates a histogram of age within a small number of samples."
   ]
  },
  {
   "cell_type": "code",
   "execution_count": null,
   "metadata": {},
   "outputs": [],
   "source": [
    "from random import choice\n",
    "\n",
    "ages = [17,18,18,19,21,19,19,21,20,23,19,22,20,21,19,19,14,23,16,17]\n",
    "\n",
    "plt.hist(ages, bins=10) # you will cover histogram bins at a later date, so don't worry about it for now.\n",
    "\n",
    "plt.grid(which='major', axis='y')\n",
    "\n",
    "plt.show()"
   ]
  },
  {
   "cell_type": "markdown",
   "metadata": {},
   "source": [
    "### <span style=\"color:blue\"> Exercise 3 </span> \n",
    "\n",
    "\n",
    "- Change the number of bins in the previous example to 20.\n",
    "- Plot the histogram\n",
    "- (Advanced) What's the difference?\n"
   ]
  },
  {
   "cell_type": "code",
   "execution_count": null,
   "metadata": {},
   "outputs": [],
   "source": [
    "#Answer 3\n"
   ]
  },
  {
   "cell_type": "markdown",
   "metadata": {},
   "source": [
    "### Parallel Coordinates (PC)\n",
    "- Parallel coordinates represents each numerical data instance (row) as a line and each column (feature).\n",
    "- This can be useful in certain circumstances as similar features can be identified by the similarity of their lines.\n",
    "- This also allows correlations between adjacent features to be identified.\n",
    "\n",
    "Questions: \n",
    "1. Does the ordering of columns matter?\n",
    "2. Why might we want to \"normalise\" our data. Normalising means to scale it (typically) to the Normal distribution or between 0 and 1.\n",
    "\n",
    "The following dataset \"Auto MPG\" [(this file)](data/mpg.csv) is a classic dataset providing detail about different models of cars in the 1970s and 1980s.  It uses features such as number of cylinders, horsepower, weight, ..., miles per gallon"
   ]
  },
  {
   "cell_type": "code",
   "execution_count": null,
   "metadata": {},
   "outputs": [],
   "source": [
    "from pandas.plotting import parallel_coordinates as PC\n",
    "\n",
    "df_pc = pd.read_csv('data/mpg.csv',encoding = 'ISO-8859-1')\n",
    "df_pc.tail()"
   ]
  },
  {
   "cell_type": "markdown",
   "metadata": {},
   "source": [
    "- We seem to have a string based column which won't be useful for PC. \n",
    "- `name` is a class feature (label for the type of car for this dataset) which is used to colour them, but for this example we want them to all be the same colour. If we set the `name` column to be empty, they will all result in the same colour.\n",
    "- (Advanced) You can make it a categorical feature to determine the line colours. "
   ]
  },
  {
   "cell_type": "code",
   "execution_count": null,
   "metadata": {},
   "outputs": [],
   "source": [
    "df_pc['name'] = ''"
   ]
  },
  {
   "cell_type": "code",
   "execution_count": null,
   "metadata": {
    "code_folding": []
   },
   "outputs": [],
   "source": [
    "def normalise(data):\n",
    "    \"\"\"\n",
    "    function to normalise an array or series of data.\n",
    "    \"\"\"\n",
    "    _min, _max = data.min(), data.max()\n",
    "    return (data - _min) / (_max - _min)"
   ]
  },
  {
   "cell_type": "code",
   "execution_count": null,
   "metadata": {},
   "outputs": [],
   "source": [
    "# normalise the data\n",
    "cols = ('mpg', 'weight', 'cylinders', 'horsepower', 'model_year')\n",
    "\n",
    "for col in cols:\n",
    "    df_pc[col] = normalise(df_pc[col])"
   ]
  },
  {
   "cell_type": "code",
   "execution_count": null,
   "metadata": {},
   "outputs": [],
   "source": [
    "PC(df_pc[['mpg','cylinders','horsepower','weight','model_year','name']], 'name')\n",
    "\n",
    "plt.show()"
   ]
  },
  {
   "cell_type": "markdown",
   "metadata": {},
   "source": [
    "### <span style=\"color:blue\"> Exercise 4 </span> \n",
    "\n",
    "Consider this parallel co-ordinates plot above.  What insights can obtain from this plot?    To make it easier to visualise, you may like to display fewer car_models (objects) altering the code above and using `pd.DataFrame.sample(n)`\n"
   ]
  },
  {
   "cell_type": "code",
   "execution_count": null,
   "metadata": {},
   "outputs": [],
   "source": [
    "PC(df_pc[['mpg','cylinders','horsepower','weight','model_year','name']].sample(150), 'name')"
   ]
  },
  {
   "cell_type": "markdown",
   "metadata": {},
   "source": []
  },
  {
   "cell_type": "markdown",
   "metadata": {},
   "source": [
    "### <span style=\"color:blue\"> Exercise 5 </span> \n",
    "Select car models with years in the range 1980-1982 and make them green in the parallel co-ordinates plot.  Colour all others car models red.  This technique is called \"brushing\", since it is used to make a particular subset of the objects stand out.   What do you notice?"
   ]
  },
  {
   "cell_type": "code",
   "execution_count": null,
   "metadata": {},
   "outputs": [],
   "source": [
    "###Exercise 5 answer\n",
    "\n"
   ]
  },
  {
   "cell_type": "markdown",
   "metadata": {},
   "source": [
    "### (Extra) Heatmaps\n",
    "- Heatmaps are an essential way of displaying aggregated information (i.e correlation, count, etc...)\n",
    "- Most notably used in geospatial maps or choropleth maps (more in MAST30034 - Applied Data Science...)\n",
    "- Can be used to view correlation.\n",
    "- Use the `seaborn` library for heatmaps (and alternative statistical visualisations)"
   ]
  },
  {
   "cell_type": "code",
   "execution_count": null,
   "metadata": {},
   "outputs": [],
   "source": [
    "import seaborn as sns\n",
    "\n",
    "plot_cols = [\"SepalLength\",\"SepalWidth\",\"PetalLength\",\"PetalWidth\"]\n",
    "\n",
    "sns.heatmap(df_iris[plot_cols], cmap='viridis', # cmap = colour map (colour scheme)\n",
    "            xticklabels=True, yticklabels=False)\n",
    "\n",
    "plt.show()"
   ]
  },
  {
   "cell_type": "markdown",
   "metadata": {},
   "source": [
    "Not overly useful for this dataset in my opinion. Perhaps, let's take a look at correlation..."
   ]
  },
  {
   "cell_type": "code",
   "execution_count": null,
   "metadata": {},
   "outputs": [],
   "source": [
    "df_iris.corr()"
   ]
  },
  {
   "cell_type": "code",
   "execution_count": null,
   "metadata": {},
   "outputs": [],
   "source": [
    "sns.heatmap(df_iris.corr())"
   ]
  },
  {
   "cell_type": "markdown",
   "metadata": {},
   "source": [
    "- We ignore the diagonals (since they are testing correlation between X and X instead of X and Y)\n",
    "- We can see that darker colours indicate negative correlation, and lighter colours with positive correlation\n",
    "- `SepalWidth` seems to be negatively correlated with `SepalLength` (but does not imply or mean that this is the case).\n",
    "- Be careful with *wording* when it comes to correlation. **Correlation does not imply causality**.\n",
    "- For example, try something like \"*There may be a negative linear relation between `SepalWidth` and `SepalLength`*\" instead of \"*There is a negative linear correlation between `SepalWidth` and `SepalLength`*\"."
   ]
  },
  {
   "cell_type": "code",
   "execution_count": null,
   "metadata": {},
   "outputs": [],
   "source": []
  }
 ],
 "metadata": {
  "kernelspec": {
   "display_name": "Python 3",
   "language": "python",
   "name": "python3"
  },
  "language_info": {
   "codemirror_mode": {
    "name": "ipython",
    "version": 3
   },
   "file_extension": ".py",
   "mimetype": "text/x-python",
   "name": "python",
   "nbconvert_exporter": "python",
   "pygments_lexer": "ipython3",
   "version": "3.8.5"
  },
  "latex_envs": {
   "LaTeX_envs_menu_present": true,
   "autocomplete": true,
   "bibliofile": "biblio.bib",
   "cite_by": "apalike",
   "current_citInitial": 1,
   "eqLabelWithNumbers": true,
   "eqNumInitial": 1,
   "hotkeys": {
    "equation": "Ctrl-E",
    "itemize": "Ctrl-I"
   },
   "labels_anchors": false,
   "latex_user_defs": false,
   "report_style_numbering": false,
   "user_envs_cfg": false
  },
  "varInspector": {
   "cols": {
    "lenName": 16,
    "lenType": 16,
    "lenVar": 40
   },
   "kernels_config": {
    "python": {
     "delete_cmd_postfix": "",
     "delete_cmd_prefix": "del ",
     "library": "var_list.py",
     "varRefreshCmd": "print(var_dic_list())"
    },
    "r": {
     "delete_cmd_postfix": ") ",
     "delete_cmd_prefix": "rm(",
     "library": "var_list.r",
     "varRefreshCmd": "cat(var_dic_list()) "
    }
   },
   "types_to_exclude": [
    "module",
    "function",
    "builtin_function_or_method",
    "instance",
    "_Feature"
   ],
   "window_display": false
  }
 },
 "nbformat": 4,
 "nbformat_minor": 4
}
