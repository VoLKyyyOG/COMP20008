{
 "cells": [
  {
   "cell_type": "markdown",
   "metadata": {},
   "source": [
    "# Introduction\n",
    "\n",
    "These exercises are intended to demonstrate some of the visualisation options matplotlib is capable of, and to give you an opportunity to practice visualisations outside of the lab.\n",
    "\n",
    "In these exercises you will:\n",
    "\n",
    "- learn how to visualize a set of data using a Python library called `matplotlib`.\n",
    "- find out different forms of visualization, such as bar charts, histograms, scatter plot, and line plot.\n",
    "- customize the visualization output; for example, by modifying axis properties or adding labels\n",
    "\n",
    "By the end of the worksheet you will be able to transform a set of data into an appropriate visualization form.\n",
    "\n",
    "# Why Visualization?\n",
    "\n",
    "The power of 'preattentive perception' is the foundation of visualization. People see some things preattentively, without the need of focused attention. These visual properties can be distinguised in less than 200 millisecconds (eye movements take 200 msecs) [Healey, 2005]. What 'preattentive perception' is shall be clarified in the next example.\n",
    "\n",
    "The following example uses the maximum temperature data. The CSV-formatted data contains the average maximum temperature recorded for all major Australian cities during the period March 2007 to February 2008 (obtained from the Australian Government's [Bureau of Meteorology](http://www.bom.gov.au/climate/data/)). The data is presented below in two forms: text in a table and a multi-lines plot.\n",
    "\n",
    "city/month | Jan | Feb | Mar | Apr | May | Jun | Jul | Aug | Sep | Oct | Nov | Dec\n",
    "- | - | - | - | - | - | - | - | - | - | - | - | -\n",
    "Melbourne | 41.2 | 35.5 | 37.4 | 29.3 | 23.9 | 16.8 | 18.2 | 25.7 | 22.3 | 33.5 | 36.9 | 41.1\n",
    "Brisbane | 31.3 | 40.2 | 37.9 | 29 | 30 | 26.7 | 26.7 | 28.8 | 31.2 | 34.1 | 31.1 | 31.2\n",
    "Darwin | 34 | 34 | 33.2 | 34.5 | 34.8 | 33.9 | 32 | 34.3 | 36.1 | 35.4 | 37 | 35.5\n",
    "Perth | 41.9 | 41.5 | 42.4 | 36 | 26.9 | 24.5 | 23.8 | 24.3 | 27.6 | 30.7 | 39.8 | 44.2\n",
    "Adelaide | 42.1 | 38.1 | 39.7 | 33.5 | 26.3 | 16.5 | 21.4 | 30.4 | 30.2 | 34.9 | 37.1 | 42.2\n",
    "Canberra | 35.8 | 29.6 | 35.1 | 26.5 | 22.4 | 15.3 | 15.7 | 21.9 | 22.1 | 30.8 | 33.4 | 35\n",
    "Hobart | 35.5 | 34.1 | 30.7 | 26 | 20.9 | 15.1 | 17.5 | 21.7 | 20.9 | 24.2 | 30.1 | 33.4\n",
    "Sydney | 30.6 | 29 | 35.1 | 27.1 | 28.6 | 20.7 | 23.4 | 27.7 | 28.6 | 34.8 | 26.4 | 30.2\n",
    "\n",
    "If you have to find out from the the table, which Australian city has the highest temperature, then you have to really look through the data. Your eyes need to scan the table, scurrying all the table cells, comparing values, before you can finally answer the question.\n",
    "\n",
    "<img src=\"maxtemp.png\"></a>\n",
    "\n",
    "On the other hand, using the visualization of the same data (see the figure above), you can easily notice that the light blue line contains the highest temperature of the year. Thus, you can conclude that Perth, the city represented by that line, is the hottest city of the year, without really bother about the rest of the data. You can also almost instantly notice that Darwin's temperature is historically the most stable one compared to the other cities. This quick observation is hardly possible by just looking at the raw textual data. "
   ]
  },
  {
   "cell_type": "markdown",
   "metadata": {},
   "source": [
    "### Question 1 (warmup)\n",
    "\n",
    "<div class=\"activity\">\n",
    "Find out the city with the lowest maximum temperature. First, try to do that with the table. Then, try to do the same using the multi-lines plot in the figure above. Find city with the most stable temperature. Do you think visualization is helpful in drawing your conclusion?\n",
    "</div>"
   ]
  },
  {
   "cell_type": "markdown",
   "metadata": {},
   "source": [
    "# Elements of Visualization\n",
    "All forms of visualization are built with some basic visual elements such as:\n",
    "\n",
    "- Location (x,y coordinate in the screen)\n",
    "- Brightness\n",
    "- Color (Hue)\n",
    "- Pattern/Texture\n",
    "- Shape\n",
    "- Line\n",
    "- Text\n",
    "\n",
    "Visualization, in principle, transforms the numerical and symbolic data into these basic visual elements. In the previous example, the cities are translated into the colors of the lines and the temperature data is used to plot the location of the lines.\n",
    "\n",
    "From those simple elements, some popular types of visualization can be built such as:\n",
    "\n",
    "- graphs, representation of a set of relationships between various entities, like family trees, network diagrams, grammar trees\n",
    "- maps, representation of a particular space (and its properties), like geographical map, brain activity map\n",
    "- charts, representation of numerical data either from a given set of real-world data or generated by mathematical functions\n",
    "\n",
    "In this worksheet, you will mostly learn to generate various types of charts: line plot (line chart), bar chart, pie chart and histogram."
   ]
  },
  {
   "cell_type": "markdown",
   "metadata": {},
   "source": [
    "# Visualization with Python\n",
    "\n",
    "`matplotlib` is a Python 2D plotting library that enables you to produce figures and charts, both in a screen or in an image file. You can use the `matplotlib`'s interactive environment to display figures in your screen if you have installations of Python and `matplotlib` in your own computer.\n",
    "\n",
    "The following example demonstrates a simple plot of the fibonacci sequence. "
   ]
  },
  {
   "cell_type": "code",
   "execution_count": 1,
   "metadata": {},
   "outputs": [
    {
     "data": {
      "text/plain": [
       "[<matplotlib.lines.Line2D at 0x200a0cfa4e0>]"
      ]
     },
     "execution_count": 1,
     "metadata": {},
     "output_type": "execute_result"
    },
    {
     "data": {
      "image/png": "[encoded data removed]",
      "text/plain": [
       "<Figure size 432x288 with 1 Axes>"
      ]
     },
     "metadata": {
      "needs_background": "light"
     },
     "output_type": "display_data"
    }
   ],
   "source": [
    "%matplotlib inline\n",
    "import matplotlib.pyplot as plt\n",
    "\n",
    "plt.plot([1,1,2,3,5,8,13]) # a plot of fibonacci sequence\n"
   ]
  },
  {
   "cell_type": "markdown",
   "metadata": {},
   "source": [
    "`matplotlib` allows you to produce plots, histograms, bar charts, pie charts, errorcharts, scatterplots. All these types of graphics shall be clarified as you go through the examples. matplotlib also provides flexibility in customizing those graphics. It permits you to modify the line styles, font properties, axes properties, and many other properties."
   ]
  },
  {
   "cell_type": "markdown",
   "metadata": {},
   "source": [
    "# The Structure of matplotlib\n",
    "\n",
    "The `matplotlib` is conceptually divided into three parts. The first part, matplotlib API, is the library that does the hard-work, managing and creating figures, text, lines, plots and so on. In the code above, we access this library by issuing the following command:\n",
    "\n",
    "    >>> import matplotlib\n",
    "\n",
    "The device dependent backend is the second part. It is the drawing engine that is responsible to render the visual representation to a file or a display device. Example of backends: 'PS' backend is used to create postscript file (suitable for hardcopy printout), 'SVG' creates scalar vector graphics (SVG file), 'Tkinter' on Windows provides interactive interface to the visualization. E.g. One can use the Agg backend to produce a PNG file, as displayed the example above:\n",
    "\n",
    "     >>> matplotlib.use('Agg')\n",
    "\n",
    "The `pyplot` interface is the last part of the matplotlib package. Module `pyplot` provides a set of functions that utilize the underlying matplotlib library. High level visualization functions like plot, boxplot, and bar, are available through pylab interface. To import these functions, issue the following command:\n",
    "\n",
    "    >>> import matplotlib.pyplot as plt"
   ]
  },
  {
   "cell_type": "markdown",
   "metadata": {},
   "source": [
    "## The Powerful Plot\n",
    "Plot is probably the most important function in matplotlib. Plot draws lines and/or markers using coordinates from the multiple points or x,y pairs supplied in the argument of the function. Both x and y are generally list or array of values. For example, the following command plots a simple quadratic function `y = x * x`.\n",
    "\n",
    "    >>> x = [1,2,3,4]\n",
    "    >>> y = [1,4,9,16]\n",
    "    >>> plot(x,y)\n",
    "\n",
    "A single list argument to the plot command, like `plot(y)`, would be considered as a list of y-values. matplotlib automatically generates the x-values for you. This is displayed in the next example, which plots the monthly averages of maximum temperature in Melbourne (See table in the beginning of this worksheet)."
   ]
  },
  {
   "cell_type": "code",
   "execution_count": 2,
   "metadata": {},
   "outputs": [
    {
     "data": {
      "text/plain": [
       "[<matplotlib.lines.Line2D at 0x200a19a0160>]"
      ]
     },
     "execution_count": 2,
     "metadata": {},
     "output_type": "execute_result"
    },
    {
     "data": {
      "image/png": "[encoded data removed]",
      "text/plain": [
       "<Figure size 432x288 with 1 Axes>"
      ]
     },
     "metadata": {
      "needs_background": "light"
     },
     "output_type": "display_data"
    }
   ],
   "source": [
    "%matplotlib inline\n",
    "import matplotlib.pyplot as plt\n",
    "import pandas as pd\n",
    "import calendar\n",
    "\n",
    "# Melbourne maximum temperature Jan 2007 - Dec 2008\n",
    "t = [41.2,35.5,37.4,29.3,23.9,16.8,18.2,25.7,22.3,33.5,36.9,41.1]\n",
    "s=pd.Series(t)\n",
    "# print 'jan' - 'dec'\n",
    "# calendar.month_abbr returns an empty string for the first element\n",
    "plt.xticks(range(12),list(calendar.month_abbr)[1:])\n",
    "plt.plot(s)\n",
    "#plt.show()\n",
    "#plt.clf()\n",
    "#plt.plot(s*2)"
   ]
  },
  {
   "cell_type": "markdown",
   "metadata": {},
   "source": [
    "`xticks()` is used to annotate the ticks in the x-axis. You need to supply `xticks()` with a list of x-values and a list of text that go with those values. \n",
    "\n",
    "**Note:** In shell script mode, everytime you issue `plot()` command, the output is added to the results of the earlier `plot()`. The `clf()` function can be called to empty the canvas. \n",
    "\n",
    "The plot function is also commonly used to plot mathematical and scientific formula, shown below."
   ]
  },
  {
   "cell_type": "code",
   "execution_count": 7,
   "metadata": {},
   "outputs": [
    {
     "data": {
      "text/plain": [
       "array([0. , 0.1, 0.2, 0.3, 0.4, 0.5, 0.6, 0.7, 0.8, 0.9, 1. , 1.1, 1.2,\n",
       "       1.3, 1.4, 1.5, 1.6, 1.7, 1.8, 1.9, 2. , 2.1, 2.2, 2.3, 2.4, 2.5,\n",
       "       2.6, 2.7, 2.8, 2.9, 3. , 3.1, 3.2, 3.3, 3.4, 3.5, 3.6, 3.7, 3.8,\n",
       "       3.9, 4. , 4.1, 4.2, 4.3, 4.4, 4.5, 4.6, 4.7, 4.8, 4.9])"
      ]
     },
     "execution_count": 7,
     "metadata": {},
     "output_type": "execute_result"
    }
   ],
   "source": [
    "import numpy as np\n",
    "np.arange(0.0, 5.0, 0.1)"
   ]
  },
  {
   "cell_type": "code",
   "execution_count": 8,
   "metadata": {},
   "outputs": [
    {
     "data": {
      "text/plain": [
       "[<matplotlib.lines.Line2D at 0x200a1c31e10>]"
      ]
     },
     "execution_count": 8,
     "metadata": {},
     "output_type": "execute_result"
    },
    {
     "data": {
      "image/png": "[encoded data removed]",
      "text/plain": [
       "<Figure size 432x288 with 1 Axes>"
      ]
     },
     "metadata": {
      "needs_background": "light"
     },
     "output_type": "display_data"
    }
   ],
   "source": [
    "%matplotlib inline\n",
    "from pylab import *\n",
    "\n",
    "\n",
    "def f(t):\n",
    "    return cos(2*pi*t)*log(1+t)\n",
    "\n",
    "precision = 0.1 # \n",
    "t = arange(0.0, 5.0, precision)\n",
    "plot(t,f(t),'m')  #'m'is magenta colour"
   ]
  },
  {
   "cell_type": "markdown",
   "metadata": {},
   "source": [
    "### Question 2\n",
    "\n",
    "\n",
    "Modify the example on Melbourne's maximum temperature to display Sydney's maximum temperature from April 2007 to November 2007. Have you code load in the temperature data from [this file](data/max_temp.csv)\n"
   ]
  },
  {
   "cell_type": "code",
   "execution_count": 9,
   "metadata": {},
   "outputs": [],
   "source": [
    "####### `Question 2 answer:`\n",
    "\n",
    "\n"
   ]
  },
  {
   "cell_type": "markdown",
   "metadata": {},
   "source": [
    "### Question 3\n",
    "\n",
    "In the mathematical formula example, change the definition of f(t) to sin(2*pi*t)*exp(-t), play around with the variable precision, too. Observe the impact of the changes to the result."
   ]
  },
  {
   "cell_type": "code",
   "execution_count": 6,
   "metadata": {},
   "outputs": [],
   "source": [
    "###Answer to question 3\n"
   ]
  },
  {
   "cell_type": "markdown",
   "metadata": {},
   "source": [
    "## Plot line properties\n",
    "\n",
    "You can supply an optional argument to customize the color and the linestyle of plot output. For example, to plot with red circles, you would issue `plot([1,2,3,4],'ro')`. `'r'` represents red color and `'o'` refers to circle-shaped marker. `plot([1,2,3,4],'bs:')` draws blue dotted line with square marker. The line color, the linestyle, and the marker type are respectively given by `'b'`,`':'`, and `'s'`. Select your preferred color from a set of matplotlib colors. The choices for linestyle and marker can be seen in the table below.\n",
    "\n",
    "**Line properties**\n",
    "\n",
    "Property | Values\n",
    "- | -\n",
    "alpha | The alpha transparency on 0-1 scale\n",
    "antialiased | True or False - use antialiased rendering\n",
    "color | a matplotlib color arg\n",
    "label | a string optionally used for legend\n",
    "linestyle | One of -- : -. -\n",
    "linewidth | a float, the line width in points\n",
    "marker | One of + , o . s v x > < ^\n",
    "markeredgewidth | The line width around the marker symbol\n",
    "markeredgecolor | The edge color if a marker is used\n",
    "markerfacecolor | The face color if a marker is used\n",
    "markersize | The size of the marker in points\n",
    "\n",
    "There are other methods to set plot line properties. First, you can use keyword arguments listed in the table above. For example:\n",
    "\n",
    "    >>> plot(x, y, linewidth=3.0)\n",
    "\n",
    "Second method uses `setp()` command. Shown below, `setp()` allows you to modify multiple properties of a collection of lines.\n",
    "\n",
    "    >>> lines = plot(x1, y1, x2, y2)\n",
    "    >>> setp(lines, color='b', linewidth=4.0)\n",
    "\n",
    "`plot()` may return a list of lines; eg line1,line2 = plot(x1,y1,x2,x2). Third method utilizes various set functions on the lines returned by a plot command. The list of the set functions are available [here](http://matplotlib.org/api/lines_api.html).\n",
    "\n",
    "    >>> line1,line2 = plot(x1, y1, x2, y2)\n",
    "    >>> line1.set_antialiased(False) # turn off antialising on the first line\n",
    "\n",
    "The use of those three methods are demonstrated in the following example:"
   ]
  },
  {
   "cell_type": "code",
   "execution_count": 10,
   "metadata": {},
   "outputs": [
    {
     "data": {
      "image/png": "[encoded data removed]",
      "text/plain": [
       "<Figure size 432x288 with 1 Axes>"
      ]
     },
     "metadata": {
      "needs_background": "light"
     },
     "output_type": "display_data"
    }
   ],
   "source": [
    "%matplotlib inline\n",
    "import matplotlib.pyplot as plt\n",
    "from numpy import arange\n",
    "\n",
    "t = arange(0.0, 2.05, 0.05)\n",
    "\n",
    "# method 1: keyword arguments\n",
    "plt.plot(t, sin(t*10), 'k-', linewidth=3.0)\n",
    "# plot a solid black line with thickness=3\n",
    "\n",
    "# method 2: setp command\n",
    "lines = plt.plot(t, [4 for i in t], t, 4*t)\n",
    "plt.setp(lines, 'color', 'r' )\n",
    "plt.setp(lines, 'linestyle', ':' )\n",
    "# plot two red dotted lines\n",
    "\n",
    "# method 3: setp command\n",
    "line1,line2 = plt.plot(t, t**2, t, exp(t))\n",
    "line1.set_marker('s')\n",
    "line1.set_color('g')\n",
    "line2.set_marker('^')\n",
    "line2.set_color('b')\n",
    "# plot two lines\n",
    "# first line is drawn with green square marker\n",
    "# second line is drawn with blue triangle marker"
   ]
  },
  {
   "cell_type": "markdown",
   "metadata": {},
   "source": [
    "Note: As you can see in the result of the example above, the output of multiple plot commands are accumulated. You can use clf() if you like to start with a blank slate."
   ]
  },
  {
   "cell_type": "markdown",
   "metadata": {},
   "source": [
    "### Question 4\n",
    "\n",
    "<div class=\"activity\">\n",
    "Modify the example on Melbourne maximum temperature in the previous section to produce a plot with magenta colored triangle marker. Increase the thickness of the plot line, too.\n",
    "</div>"
   ]
  },
  {
   "cell_type": "code",
   "execution_count": 8,
   "metadata": {},
   "outputs": [],
   "source": [
    "###Question 4 answer\n",
    "\n"
   ]
  },
  {
   "cell_type": "markdown",
   "metadata": {},
   "source": [
    "## Adding Text to the Charts\n",
    "\n",
    "You can add labels to the x and y axis of the plot using `xlabel()` and `ylabel()`. As you have seen and used earlier, `xticks()` is used to put text on the x-axis ticks. `xticks()` needs two arguments: a list of x-values and a list of text that go to those values. The same rules apply to `yticks()`."
   ]
  },
  {
   "cell_type": "markdown",
   "metadata": {},
   "source": [
    "### Question 5\n",
    "\n",
    "<div class=\"activity\">\n",
    "Add the following lines of code to the example on Melbourne maximum temperature. Replace the `xticks()` command with the supplied code. Run to see the effect.\n",
    "</div>\n",
    "\n",
    "    >>> xticks( arange(12), list(calendar.month_abbr)[1:], rotation=40 )\n",
    "    >>> ylabel(\"temperature in celcius\", fontsize=14)\n",
    "    >>> xlabel(\"months\", fontsize=14)\n",
    "    >>> title(\"Melbourne maximum temperature (Dec 07 - Feb 08)\", fontsize=18)"
   ]
  },
  {
   "cell_type": "code",
   "execution_count": 9,
   "metadata": {},
   "outputs": [],
   "source": [
    "###Question 5 answer\n",
    "\n"
   ]
  },
  {
   "cell_type": "markdown",
   "metadata": {},
   "source": [
    "As apparent in the code above, you can supply additional arguments to change the properties of the text. The options for these properties are available in the table below:\n",
    "\n",
    "Property | Values\n",
    "- | -\n",
    "alpha | The alpha transparency on 0-1 scale\n",
    "color | a matplotlib color argument\n",
    "fontangle | italic &#124; normal &#124; oblique\n",
    "fontname | Sans &#124; Helvetica &#124; Courier &#124; Times &#124; Others\n",
    "fontsize | an scalar, eg, 10\n",
    "fontweight | normal &#124; bold &#124; light &#124; 4\n",
    "horizontalalignment | left &#124; center &#124; right\n",
    "rotation | horizontal &#124; vertical\n",
    "verticalalignment | bottom &#124; center &#124; top\n",
    "\n",
    "You can also attach a legend for the output using the `legend()` command to describe each line produced by `plot()`. You need to supply a list of text to describe the respective lines. See the example in the scatter plot section below.\n",
    "\n",
    "    >>> legend(all_species,loc='lower right')"
   ]
  },
  {
   "cell_type": "markdown",
   "metadata": {},
   "source": [
    "# Customizing your graphic\n",
    "You can customize your plot result further by using the following commands:\n",
    "\n",
    "- `xlim()` to set the range of the x axis, for example `xlim(0,10)`\n",
    "- `ylim()` to set the range of the y axis, for example `ylim(-1,1)`\n",
    "- `axis()` command to do both at the same time. The two commands above is equivalent to axis([0,10,-1,1])\n",
    "- `grid(True)` to turn on the grid, or `grid(False)` to do otherwise"
   ]
  },
  {
   "cell_type": "markdown",
   "metadata": {},
   "source": [
    "# Other Charts\n",
    "You've seen a number of chart types in this week's lab, however matplotlib allows you to create many others.  Histograms and Pie charts can be particularly useful.\n",
    "\n",
    "## Histogram\n",
    "\n",
    "Histogram displays a distribution of population samples (typically a large set of data like digital images or age of population). The following example creates a histogram of age within a small number of samples (assumes these are the age of your classmates)."
   ]
  },
  {
   "cell_type": "code",
   "execution_count": 15,
   "metadata": {},
   "outputs": [
    {
     "name": "stderr",
     "output_type": "stream",
     "text": [
      "C:\\Users\\chris\\Anaconda3\\lib\\site-packages\\ipykernel_launcher.py:8: MatplotlibDeprecationWarning: Adding an axes using the same arguments as a previous axes currently reuses the earlier instance.  In a future version, a new instance will always be created and returned.  Meanwhile, this warning can be suppressed, and the future behavior ensured, by passing a unique label to each axes instance.\n",
      "  \n"
     ]
    },
    {
     "data": {
      "image/png": "[encoded data removed]",
      "text/plain": [
       "<Figure size 432x288 with 1 Axes>"
      ]
     },
     "metadata": {
      "needs_background": "light"
     },
     "output_type": "display_data"
    }
   ],
   "source": [
    "%matplotlib inline\n",
    "import matplotlib.pyplot as plt\n",
    "\n",
    "\n",
    "ages = [17,18,18,19,21,19,19,21,20,23,19,22,20,21,19,19,14,23,16,17]\n",
    "plt.hist(ages, bins=10)\n",
    "\n",
    "plt.axes().yaxis.grid(True, which='major')\n",
    "plt.show()"
   ]
  },
  {
   "cell_type": "markdown",
   "metadata": {},
   "source": [
    "## Pie chart\n",
    "\n",
    "Pie chart can be used to display proportions of a certain measurement. It is useful to compare the size of a particular slice with the whole pie. The following pie chart illustrates the top-eight carbondioxide emitters. The carbon dioxide emissions data is retrieved from Human Development Reports 2007/2008"
   ]
  },
  {
   "cell_type": "code",
   "execution_count": 16,
   "metadata": {},
   "outputs": [
    {
     "data": {
      "text/plain": [
       "(-1.100613401291439,\n",
       " 1.1000292095853066,\n",
       " -1.1207271401168626,\n",
       " 1.1150661657309902)"
      ]
     },
     "execution_count": 16,
     "metadata": {},
     "output_type": "execute_result"
    },
    {
     "data": {
      "image/png": "[encoded data removed]",
      "text/plain": [
       "<Figure size 432x288 with 1 Axes>"
      ]
     },
     "metadata": {},
     "output_type": "display_data"
    }
   ],
   "source": [
    "%matplotlib inline\n",
    "import matplotlib.pyplot as plt\n",
    "\n",
    "world=[\"USA\",\"China\",\"Russia\",\"India\",\"Japan\",\"Germany\",\"Canada\",\"UK\",\"Others\"]\n",
    "co2=[20.90,17.30,5.30,4.60,4.30,2.80,2.20,2.00,40.60]\n",
    "colors=['b','g','r','c','m','y','k','w','#cccccc' ]\n",
    "plt.pie(co2,explode=None,labels=world,colors=colors)\n",
    "plt.axis('equal')"
   ]
  },
  {
   "cell_type": "code",
   "execution_count": null,
   "metadata": {},
   "outputs": [],
   "source": []
  }
 ],
 "metadata": {
  "kernelspec": {
   "display_name": "Python 3",
   "language": "python",
   "name": "python3"
  },
  "language_info": {
   "codemirror_mode": {
    "name": "ipython",
    "version": 3
   },
   "file_extension": ".py",
   "mimetype": "text/x-python",
   "name": "python",
   "nbconvert_exporter": "python",
   "pygments_lexer": "ipython3",
   "version": "3.8.5"
  },
  "varInspector": {
   "cols": {
    "lenName": 16,
    "lenType": 16,
    "lenVar": 40
   },
   "kernels_config": {
    "python": {
     "delete_cmd_postfix": "",
     "delete_cmd_prefix": "del ",
     "library": "var_list.py",
     "varRefreshCmd": "print(var_dic_list())"
    },
    "r": {
     "delete_cmd_postfix": ") ",
     "delete_cmd_prefix": "rm(",
     "library": "var_list.r",
     "varRefreshCmd": "cat(var_dic_list()) "
    }
   },
   "types_to_exclude": [
    "module",
    "function",
    "builtin_function_or_method",
    "instance",
    "_Feature"
   ],
   "window_display": false
  }
 },
 "nbformat": 4,
 "nbformat_minor": 1
}
