{
 "cells": [
  {
   "cell_type": "markdown",
   "metadata": {},
   "source": [
    "# Classification and Regression"
   ]
  },
  {
   "cell_type": "markdown",
   "metadata": {},
   "source": [
    "### Dataset\n",
    "- Dataset: [Pima Indian Diabetes Dataset](http://archive.ics.uci.edu/ml/machine-learning-databases/pima-indians-diabetes/pima-indians-diabetes.names)\n",
    "- The Diabetes dataset records measurements about several hundred patients with an indication of whether or not they tested positive for diabetes (the class label).  \n",
    "- The classification problem is to predict whether a patient will test positive for diabetes given some other measurements.\n"
   ]
  },
  {
   "cell_type": "markdown",
   "metadata": {},
   "source": [
    "## Train Test Split\n",
    "- (as briefly mentioned in last weeks' tute)\n",
    "- We want to split our dataset into train and test to \"train\" our model (usually finding the coefficients or optimal parameters) before using the \"test\" set to **evaluate** our model.\n",
    "- A common split is to have 80% on training and 20% on test.\n",
    "- More advanced techniques include $k$-fold Cross Validation (CV)."
   ]
  },
  {
   "cell_type": "code",
   "execution_count": 1,
   "metadata": {},
   "outputs": [
    {
     "data": {
      "text/html": [
       "<div>\n",
       "<style scoped>\n",
       "    .dataframe tbody tr th:only-of-type {\n",
       "        vertical-align: middle;\n",
       "    }\n",
       "\n",
       "    .dataframe tbody tr th {\n",
       "        vertical-align: top;\n",
       "    }\n",
       "\n",
       "    .dataframe thead th {\n",
       "        text-align: right;\n",
       "    }\n",
       "</style>\n",
       "<table border=\"1\" class=\"dataframe\">\n",
       "  <thead>\n",
       "    <tr style=\"text-align: right;\">\n",
       "      <th></th>\n",
       "      <th>numpregnant</th>\n",
       "      <th>plasma</th>\n",
       "      <th>blood pressure</th>\n",
       "      <th>sf-thickness</th>\n",
       "      <th>serum-insulin</th>\n",
       "      <th>BMI</th>\n",
       "      <th>pedigree-function</th>\n",
       "      <th>age</th>\n",
       "      <th>has_diabetes</th>\n",
       "    </tr>\n",
       "  </thead>\n",
       "  <tbody>\n",
       "    <tr>\n",
       "      <th>0</th>\n",
       "      <td>6</td>\n",
       "      <td>148</td>\n",
       "      <td>72</td>\n",
       "      <td>35</td>\n",
       "      <td>0</td>\n",
       "      <td>33.6</td>\n",
       "      <td>0.627</td>\n",
       "      <td>50</td>\n",
       "      <td>1</td>\n",
       "    </tr>\n",
       "    <tr>\n",
       "      <th>1</th>\n",
       "      <td>1</td>\n",
       "      <td>85</td>\n",
       "      <td>66</td>\n",
       "      <td>29</td>\n",
       "      <td>0</td>\n",
       "      <td>26.6</td>\n",
       "      <td>0.351</td>\n",
       "      <td>31</td>\n",
       "      <td>0</td>\n",
       "    </tr>\n",
       "    <tr>\n",
       "      <th>2</th>\n",
       "      <td>8</td>\n",
       "      <td>183</td>\n",
       "      <td>64</td>\n",
       "      <td>0</td>\n",
       "      <td>0</td>\n",
       "      <td>23.3</td>\n",
       "      <td>0.672</td>\n",
       "      <td>32</td>\n",
       "      <td>1</td>\n",
       "    </tr>\n",
       "    <tr>\n",
       "      <th>3</th>\n",
       "      <td>1</td>\n",
       "      <td>89</td>\n",
       "      <td>66</td>\n",
       "      <td>23</td>\n",
       "      <td>94</td>\n",
       "      <td>28.1</td>\n",
       "      <td>0.167</td>\n",
       "      <td>21</td>\n",
       "      <td>0</td>\n",
       "    </tr>\n",
       "    <tr>\n",
       "      <th>4</th>\n",
       "      <td>0</td>\n",
       "      <td>137</td>\n",
       "      <td>40</td>\n",
       "      <td>35</td>\n",
       "      <td>168</td>\n",
       "      <td>43.1</td>\n",
       "      <td>2.288</td>\n",
       "      <td>33</td>\n",
       "      <td>1</td>\n",
       "    </tr>\n",
       "  </tbody>\n",
       "</table>\n",
       "</div>"
      ],
      "text/plain": [
       "   numpregnant  plasma  blood pressure  sf-thickness  serum-insulin   BMI  \\\n",
       "0            6     148              72            35              0  33.6   \n",
       "1            1      85              66            29              0  26.6   \n",
       "2            8     183              64             0              0  23.3   \n",
       "3            1      89              66            23             94  28.1   \n",
       "4            0     137              40            35            168  43.1   \n",
       "\n",
       "   pedigree-function  age  has_diabetes  \n",
       "0              0.627   50             1  \n",
       "1              0.351   31             0  \n",
       "2              0.672   32             1  \n",
       "3              0.167   21             0  \n",
       "4              2.288   33             1  "
      ]
     },
     "execution_count": 1,
     "metadata": {},
     "output_type": "execute_result"
    }
   ],
   "source": [
    "import pandas as pd\n",
    "\n",
    "df = pd.read_csv('pima-indians-diabetes.csv', encoding='ISO-8859-1')\n",
    "df.head()"
   ]
  },
  {
   "cell_type": "code",
   "execution_count": 2,
   "metadata": {},
   "outputs": [
    {
     "data": {
      "text/html": [
       "<div>\n",
       "<style scoped>\n",
       "    .dataframe tbody tr th:only-of-type {\n",
       "        vertical-align: middle;\n",
       "    }\n",
       "\n",
       "    .dataframe tbody tr th {\n",
       "        vertical-align: top;\n",
       "    }\n",
       "\n",
       "    .dataframe thead th {\n",
       "        text-align: right;\n",
       "    }\n",
       "</style>\n",
       "<table border=\"1\" class=\"dataframe\">\n",
       "  <thead>\n",
       "    <tr style=\"text-align: right;\">\n",
       "      <th></th>\n",
       "      <th>numpregnant</th>\n",
       "      <th>plasma</th>\n",
       "      <th>blood pressure</th>\n",
       "      <th>sf-thickness</th>\n",
       "      <th>serum-insulin</th>\n",
       "      <th>BMI</th>\n",
       "      <th>pedigree-function</th>\n",
       "      <th>age</th>\n",
       "    </tr>\n",
       "  </thead>\n",
       "  <tbody>\n",
       "    <tr>\n",
       "      <th>0</th>\n",
       "      <td>6</td>\n",
       "      <td>148</td>\n",
       "      <td>72</td>\n",
       "      <td>35</td>\n",
       "      <td>0</td>\n",
       "      <td>33.6</td>\n",
       "      <td>0.627</td>\n",
       "      <td>50</td>\n",
       "    </tr>\n",
       "    <tr>\n",
       "      <th>1</th>\n",
       "      <td>1</td>\n",
       "      <td>85</td>\n",
       "      <td>66</td>\n",
       "      <td>29</td>\n",
       "      <td>0</td>\n",
       "      <td>26.6</td>\n",
       "      <td>0.351</td>\n",
       "      <td>31</td>\n",
       "    </tr>\n",
       "    <tr>\n",
       "      <th>2</th>\n",
       "      <td>8</td>\n",
       "      <td>183</td>\n",
       "      <td>64</td>\n",
       "      <td>0</td>\n",
       "      <td>0</td>\n",
       "      <td>23.3</td>\n",
       "      <td>0.672</td>\n",
       "      <td>32</td>\n",
       "    </tr>\n",
       "    <tr>\n",
       "      <th>3</th>\n",
       "      <td>1</td>\n",
       "      <td>89</td>\n",
       "      <td>66</td>\n",
       "      <td>23</td>\n",
       "      <td>94</td>\n",
       "      <td>28.1</td>\n",
       "      <td>0.167</td>\n",
       "      <td>21</td>\n",
       "    </tr>\n",
       "    <tr>\n",
       "      <th>4</th>\n",
       "      <td>0</td>\n",
       "      <td>137</td>\n",
       "      <td>40</td>\n",
       "      <td>35</td>\n",
       "      <td>168</td>\n",
       "      <td>43.1</td>\n",
       "      <td>2.288</td>\n",
       "      <td>33</td>\n",
       "    </tr>\n",
       "  </tbody>\n",
       "</table>\n",
       "</div>"
      ],
      "text/plain": [
       "   numpregnant  plasma  blood pressure  sf-thickness  serum-insulin   BMI  \\\n",
       "0            6     148              72            35              0  33.6   \n",
       "1            1      85              66            29              0  26.6   \n",
       "2            8     183              64             0              0  23.3   \n",
       "3            1      89              66            23             94  28.1   \n",
       "4            0     137              40            35            168  43.1   \n",
       "\n",
       "   pedigree-function  age  \n",
       "0              0.627   50  \n",
       "1              0.351   31  \n",
       "2              0.672   32  \n",
       "3              0.167   21  \n",
       "4              2.288   33  "
      ]
     },
     "execution_count": 2,
     "metadata": {},
     "output_type": "execute_result"
    }
   ],
   "source": [
    "# Features (get all columns except the last one which is our label has_diabetes)\n",
    "X = df[df.columns[:-1]]\n",
    "X.head()"
   ]
  },
  {
   "cell_type": "code",
   "execution_count": 3,
   "metadata": {},
   "outputs": [
    {
     "data": {
      "text/plain": [
       "0    1\n",
       "1    0\n",
       "2    1\n",
       "3    0\n",
       "4    1\n",
       "Name: has_diabetes, dtype: int64"
      ]
     },
     "execution_count": 3,
     "metadata": {},
     "output_type": "execute_result"
    }
   ],
   "source": [
    "# Class label\n",
    "y = df['has_diabetes']\n",
    "y.head()"
   ]
  },
  {
   "cell_type": "markdown",
   "metadata": {},
   "source": [
    "Let's do a train test split using 80% for train and 20% for test."
   ]
  },
  {
   "cell_type": "code",
   "execution_count": 4,
   "metadata": {},
   "outputs": [],
   "source": [
    "from sklearn.model_selection import train_test_split\n",
    "\n",
    "X_train, X_test, y_train, y_test = train_test_split(X, y, train_size=0.8, test_size=0.2, random_state=42)"
   ]
  },
  {
   "cell_type": "code",
   "execution_count": 5,
   "metadata": {},
   "outputs": [
    {
     "data": {
      "text/html": [
       "<div>\n",
       "<style scoped>\n",
       "    .dataframe tbody tr th:only-of-type {\n",
       "        vertical-align: middle;\n",
       "    }\n",
       "\n",
       "    .dataframe tbody tr th {\n",
       "        vertical-align: top;\n",
       "    }\n",
       "\n",
       "    .dataframe thead th {\n",
       "        text-align: right;\n",
       "    }\n",
       "</style>\n",
       "<table border=\"1\" class=\"dataframe\">\n",
       "  <thead>\n",
       "    <tr style=\"text-align: right;\">\n",
       "      <th></th>\n",
       "      <th>numpregnant</th>\n",
       "      <th>plasma</th>\n",
       "      <th>blood pressure</th>\n",
       "      <th>sf-thickness</th>\n",
       "      <th>serum-insulin</th>\n",
       "      <th>BMI</th>\n",
       "      <th>pedigree-function</th>\n",
       "      <th>age</th>\n",
       "    </tr>\n",
       "  </thead>\n",
       "  <tbody>\n",
       "    <tr>\n",
       "      <th>60</th>\n",
       "      <td>2</td>\n",
       "      <td>84</td>\n",
       "      <td>0</td>\n",
       "      <td>0</td>\n",
       "      <td>0</td>\n",
       "      <td>0.0</td>\n",
       "      <td>0.304</td>\n",
       "      <td>21</td>\n",
       "    </tr>\n",
       "    <tr>\n",
       "      <th>618</th>\n",
       "      <td>9</td>\n",
       "      <td>112</td>\n",
       "      <td>82</td>\n",
       "      <td>24</td>\n",
       "      <td>0</td>\n",
       "      <td>28.2</td>\n",
       "      <td>1.282</td>\n",
       "      <td>50</td>\n",
       "    </tr>\n",
       "    <tr>\n",
       "      <th>346</th>\n",
       "      <td>1</td>\n",
       "      <td>139</td>\n",
       "      <td>46</td>\n",
       "      <td>19</td>\n",
       "      <td>83</td>\n",
       "      <td>28.7</td>\n",
       "      <td>0.654</td>\n",
       "      <td>22</td>\n",
       "    </tr>\n",
       "    <tr>\n",
       "      <th>294</th>\n",
       "      <td>0</td>\n",
       "      <td>161</td>\n",
       "      <td>50</td>\n",
       "      <td>0</td>\n",
       "      <td>0</td>\n",
       "      <td>21.9</td>\n",
       "      <td>0.254</td>\n",
       "      <td>65</td>\n",
       "    </tr>\n",
       "    <tr>\n",
       "      <th>231</th>\n",
       "      <td>6</td>\n",
       "      <td>134</td>\n",
       "      <td>80</td>\n",
       "      <td>37</td>\n",
       "      <td>370</td>\n",
       "      <td>46.2</td>\n",
       "      <td>0.238</td>\n",
       "      <td>46</td>\n",
       "    </tr>\n",
       "  </tbody>\n",
       "</table>\n",
       "</div>"
      ],
      "text/plain": [
       "     numpregnant  plasma  blood pressure  sf-thickness  serum-insulin   BMI  \\\n",
       "60             2      84               0             0              0   0.0   \n",
       "618            9     112              82            24              0  28.2   \n",
       "346            1     139              46            19             83  28.7   \n",
       "294            0     161              50             0              0  21.9   \n",
       "231            6     134              80            37            370  46.2   \n",
       "\n",
       "     pedigree-function  age  \n",
       "60               0.304   21  \n",
       "618              1.282   50  \n",
       "346              0.654   22  \n",
       "294              0.254   65  \n",
       "231              0.238   46  "
      ]
     },
     "execution_count": 5,
     "metadata": {},
     "output_type": "execute_result"
    }
   ],
   "source": [
    "X_train.head()"
   ]
  },
  {
   "cell_type": "markdown",
   "metadata": {},
   "source": [
    "- You should now note that the index column is in some arbitrary order (hence randomly chosen split).\n",
    "- As you can see, some of the attributes are disproportionate to other other attributes (i.e `serum-insulin` has value `370` whilst `pedigree-function` seems to be far smaller).\n",
    "- To combat this, we should normalise (or standardise) our dataset."
   ]
  },
  {
   "cell_type": "markdown",
   "metadata": {},
   "source": [
    "## Feature Scaling\n",
    "- With few exceptions, many Machine Learning (ML) algorithms generally don't preform well when the input data consists of continuous attributes with varying scales.\n",
    "- The two main ways to feature scale are using **Min-Max Scaling** (normalization) or **Standardisation**.\n",
    "    - **Min-Max Scaling:** Data is shifted and scaled such that they now range between 0 and 1.\n",
    "    - **Standardisation:** Data has resulting distribution of 0 mean and unit variance (in other words, variance = 1).\n",
    "    \n",
    "**IMPORTANT:** With any transformation, it is imperative that you fit the scaler to the **training data only** and NEVER to the full dataset. Once you fit your scaler to the training data, then you should use that to trasnform your test.\n",
    "\n",
    "For this example, we will standardise our data."
   ]
  },
  {
   "cell_type": "code",
   "execution_count": 6,
   "metadata": {},
   "outputs": [],
   "source": [
    "from sklearn.preprocessing import StandardScaler\n",
    "\n",
    "# notice here that I fit it to my train\n",
    "scaler = StandardScaler().fit(X_train)\n",
    "\n",
    "# and using this \"fit\", I transform both my train and test USING the fitted train scaler\n",
    "X_train_scaled = scaler.transform(X_train)\n",
    "X_test_scaled = scaler.transform(X_test)"
   ]
  },
  {
   "cell_type": "markdown",
   "metadata": {},
   "source": [
    "## $k$-Nearest Neighbour (kNN)\n",
    "- A supervised clustering algorithm similar to $k$-means.\n",
    "- Rather than iteratively update the centroids in an unsupervised manner (recall $k$-means does not care about labels), $k$-NN aims to classify new data *given* the label of the existing $k$ nearest points.\n",
    "\n",
    "\n",
    "As such, $k$-means and $k$-NN are used for different problems:\n",
    "- $k$-means clustering is unsupervised that looks to gather and group data into $k$ number of clusters by looking at the data points only;\n",
    "- whilst $k$-NN is a supervised classifier that will classify new data points according to the $k$ nearest data points (that were given during training). \n",
    "- I like to think of $k$-NN as a majority vote, if you have $k$=5 and your new data point has 2 $\\times$ `True` and 3 $\\times$ `False`, then your new data point will be classified as `False`.\n",
    "\n",
    "Hopefully it's intuitive, but to avoid ties in majority votes it's best to use **odd values of $k$**."
   ]
  },
  {
   "cell_type": "markdown",
   "metadata": {},
   "source": [
    "Documentation: http://scikit-learn.org/stable/modules/generated/sklearn.neighbors.KNeighborsClassifier.html"
   ]
  },
  {
   "cell_type": "code",
   "execution_count": 7,
   "metadata": {},
   "outputs": [],
   "source": [
    "from sklearn.neighbors import KNeighborsClassifier as KNN"
   ]
  },
  {
   "cell_type": "code",
   "execution_count": 8,
   "metadata": {},
   "outputs": [
    {
     "data": {
      "text/plain": [
       "KNeighborsClassifier()"
      ]
     },
     "execution_count": 8,
     "metadata": {},
     "output_type": "execute_result"
    }
   ],
   "source": [
    "knn = KNN(n_neighbors=5)\n",
    "knn.fit(X_train, y_train)"
   ]
  },
  {
   "cell_type": "markdown",
   "metadata": {},
   "source": [
    "In terms of code, predicting the class label using $k$-NN is as simple as using `predict()`."
   ]
  },
  {
   "cell_type": "code",
   "execution_count": 9,
   "metadata": {},
   "outputs": [],
   "source": [
    "y_pred = knn.predict(X_test)"
   ]
  },
  {
   "cell_type": "markdown",
   "metadata": {},
   "source": [
    "To evaluate our performance, we can use the Classification Accuracy.\n",
    "- This is literally just the percentage of correct divided by total number of predictions.\n",
    "\n",
    "There are better metrics such as Precision, Recall, and F1-Score as well..."
   ]
  },
  {
   "cell_type": "code",
   "execution_count": 10,
   "metadata": {},
   "outputs": [
    {
     "data": {
      "text/plain": [
       "0.6623376623376623"
      ]
     },
     "execution_count": 10,
     "metadata": {},
     "output_type": "execute_result"
    }
   ],
   "source": [
    "from sklearn.metrics import accuracy_score\n",
    "\n",
    "accuracy_score(y_test, y_pred)"
   ]
  },
  {
   "cell_type": "markdown",
   "metadata": {},
   "source": [
    "## Question 1\n",
    "Here's a scatter plot that shows varying values of $k$ vs the Classification Accuracy.\n",
    "- What seems to be the best value of $k$ for this dataset?\n",
    "- Is this $k$ always the best for any dataset?"
   ]
  },
  {
   "cell_type": "code",
   "execution_count": 11,
   "metadata": {},
   "outputs": [
    {
     "data": {
      "image/png": "[encoded data removed]",
      "text/plain": [
       "<Figure size 432x288 with 1 Axes>"
      ]
     },
     "metadata": {
      "needs_background": "light"
     },
     "output_type": "display_data"
    }
   ],
   "source": [
    "import matplotlib.pyplot as plt\n",
    "\n",
    "results = {}\n",
    "\n",
    "krange = range(1, 201, 2)\n",
    "\n",
    "for k in krange:\n",
    "    knn = KNN(n_neighbors=k)\n",
    "    knn.fit(X_train, y_train)\n",
    "    \n",
    "    y_pred = knn.predict(X_test)\n",
    "    results[k] = accuracy_score(y_test, y_pred)\n",
    "    \n",
    "plt.plot(krange, results.values())\n",
    "plt.show()"
   ]
  },
  {
   "cell_type": "code",
   "execution_count": 12,
   "metadata": {},
   "outputs": [
    {
     "data": {
      "text/plain": [
       "[(13, 0.7727272727272727),\n",
       " (17, 0.7727272727272727),\n",
       " (15, 0.7597402597402597),\n",
       " (93, 0.7597402597402597),\n",
       " (95, 0.7597402597402597)]"
      ]
     },
     "execution_count": 12,
     "metadata": {},
     "output_type": "execute_result"
    }
   ],
   "source": [
    "sorted(results.items(), key=lambda x: -x[1])[:5]"
   ]
  },
  {
   "cell_type": "markdown",
   "metadata": {},
   "source": [
    "## Decision Tree Classifier\n",
    "- Decision Tree Classifiers are (imho) one of the most useful alternatives to regression and is a great way of comparing different approaches and predictions.\n",
    "- Although trees usually use Gini as a split criterion, we will use the more familiar **entropy** for this example.\n",
    "- Additionally, we'll enforce a \"max depth\" of 3, which controls how \"deep\" or \"big\" a tree can be. This is because we want to visualise the tree itself afterwards."
   ]
  },
  {
   "cell_type": "code",
   "execution_count": 13,
   "metadata": {},
   "outputs": [
    {
     "data": {
      "text/plain": [
       "DecisionTreeClassifier(criterion='entropy', max_depth=3, random_state=42)"
      ]
     },
     "execution_count": 13,
     "metadata": {},
     "output_type": "execute_result"
    }
   ],
   "source": [
    "from sklearn.tree import DecisionTreeClassifier as DT\n",
    "\n",
    "dt = DT(criterion=\"entropy\", random_state=42, max_depth=3)\n",
    "dt.fit(X_train, y_train)"
   ]
  },
  {
   "cell_type": "code",
   "execution_count": 14,
   "metadata": {},
   "outputs": [
    {
     "data": {
      "text/plain": [
       "0.7662337662337663"
      ]
     },
     "execution_count": 14,
     "metadata": {},
     "output_type": "execute_result"
    }
   ],
   "source": [
    "y_pred = dt.predict(X_test)\n",
    "accuracy_score(y_test, y_pred)"
   ]
  },
  {
   "cell_type": "markdown",
   "metadata": {},
   "source": [
    "## OPTIONAL\n",
    "- Some optional code to \"visualise\" the decision tree\n",
    "\n",
    "WSL2 (Linux):\n",
    "```python\n",
    "pip3 install graphviz\n",
    "sudo apt-get install graphviz\n",
    "```\n",
    "\n",
    "Conda Terminal:\n",
    "```\n",
    "conda install -c conda-forge python-graphviz\n",
    "```"
   ]
  },
  {
   "cell_type": "code",
   "execution_count": 15,
   "metadata": {},
   "outputs": [
    {
     "data": {
      "image/svg+xml": [
       "<?xml version=\"1.0\" encoding=\"UTF-8\" standalone=\"no\"?>\n",
       "<!DOCTYPE svg PUBLIC \"-//W3C//DTD SVG 1.1//EN\"\n",
       " \"http://www.w3.org/Graphics/SVG/1.1/DTD/svg11.dtd\">\n",
       "<!-- Generated by graphviz version 2.43.0 (0)\n",
       " -->\n",
       "<!-- Title: Tree Pages: 1 -->\n",
       "<svg width=\"1182pt\" height=\"373pt\"\n",
       " viewBox=\"0.00 0.00 1182.00 373.00\" xmlns=\"http://www.w3.org/2000/svg\" xmlns:xlink=\"http://www.w3.org/1999/xlink\">\n",
       "<g id=\"graph0\" class=\"graph\" transform=\"scale(1 1) rotate(0) translate(4 369)\">\n",
       "<title>Tree</title>\n",
       "<polygon fill=\"white\" stroke=\"transparent\" points=\"-4,4 -4,-369 1178,-369 1178,4 -4,4\"/>\n",
       "<!-- 0 -->\n",
       "<g id=\"node1\" class=\"node\">\n",
       "<title>0</title>\n",
       "<path fill=\"#f3c4a2\" stroke=\"black\" d=\"M649,-365C649,-365 524,-365 524,-365 518,-365 512,-359 512,-353 512,-353 512,-309 512,-309 512,-303 518,-297 524,-297 524,-297 649,-297 649,-297 655,-297 661,-303 661,-309 661,-309 661,-353 661,-353 661,-359 655,-365 649,-365\"/>\n",
       "<text text-anchor=\"middle\" x=\"586.5\" y=\"-349.8\" font-family=\"Helvetica,sans-Serif\" font-size=\"14.00\">plasma &lt;= 127.5</text>\n",
       "<text text-anchor=\"middle\" x=\"586.5\" y=\"-334.8\" font-family=\"Helvetica,sans-Serif\" font-size=\"14.00\">entropy = 0.931</text>\n",
       "<text text-anchor=\"middle\" x=\"586.5\" y=\"-319.8\" font-family=\"Helvetica,sans-Serif\" font-size=\"14.00\">samples = 614</text>\n",
       "<text text-anchor=\"middle\" x=\"586.5\" y=\"-304.8\" font-family=\"Helvetica,sans-Serif\" font-size=\"14.00\">value = [401, 213]</text>\n",
       "</g>\n",
       "<!-- 1 -->\n",
       "<g id=\"node2\" class=\"node\">\n",
       "<title>1</title>\n",
       "<path fill=\"#eb9f69\" stroke=\"black\" d=\"M533.5,-261C533.5,-261 417.5,-261 417.5,-261 411.5,-261 405.5,-255 405.5,-249 405.5,-249 405.5,-205 405.5,-205 405.5,-199 411.5,-193 417.5,-193 417.5,-193 533.5,-193 533.5,-193 539.5,-193 545.5,-199 545.5,-205 545.5,-205 545.5,-249 545.5,-249 545.5,-255 539.5,-261 533.5,-261\"/>\n",
       "<text text-anchor=\"middle\" x=\"475.5\" y=\"-245.8\" font-family=\"Helvetica,sans-Serif\" font-size=\"14.00\">age &lt;= 28.5</text>\n",
       "<text text-anchor=\"middle\" x=\"475.5\" y=\"-230.8\" font-family=\"Helvetica,sans-Serif\" font-size=\"14.00\">entropy = 0.712</text>\n",
       "<text text-anchor=\"middle\" x=\"475.5\" y=\"-215.8\" font-family=\"Helvetica,sans-Serif\" font-size=\"14.00\">samples = 390</text>\n",
       "<text text-anchor=\"middle\" x=\"475.5\" y=\"-200.8\" font-family=\"Helvetica,sans-Serif\" font-size=\"14.00\">value = [314, 76]</text>\n",
       "</g>\n",
       "<!-- 0&#45;&gt;1 -->\n",
       "<g id=\"edge1\" class=\"edge\">\n",
       "<title>0&#45;&gt;1</title>\n",
       "<path fill=\"none\" stroke=\"black\" d=\"M550.46,-296.88C540.48,-287.71 529.53,-277.65 519.16,-268.12\"/>\n",
       "<polygon fill=\"black\" stroke=\"black\" points=\"521.47,-265.49 511.74,-261.3 516.73,-270.64 521.47,-265.49\"/>\n",
       "<text text-anchor=\"middle\" x=\"512.79\" y=\"-282.58\" font-family=\"Helvetica,sans-Serif\" font-size=\"14.00\">True</text>\n",
       "</g>\n",
       "<!-- 8 -->\n",
       "<g id=\"node9\" class=\"node\">\n",
       "<title>8</title>\n",
       "<path fill=\"#b7dbf6\" stroke=\"black\" d=\"M756.5,-261C756.5,-261 640.5,-261 640.5,-261 634.5,-261 628.5,-255 628.5,-249 628.5,-249 628.5,-205 628.5,-205 628.5,-199 634.5,-193 640.5,-193 640.5,-193 756.5,-193 756.5,-193 762.5,-193 768.5,-199 768.5,-205 768.5,-205 768.5,-249 768.5,-249 768.5,-255 762.5,-261 756.5,-261\"/>\n",
       "<text text-anchor=\"middle\" x=\"698.5\" y=\"-245.8\" font-family=\"Helvetica,sans-Serif\" font-size=\"14.00\">BMI &lt;= 29.95</text>\n",
       "<text text-anchor=\"middle\" x=\"698.5\" y=\"-230.8\" font-family=\"Helvetica,sans-Serif\" font-size=\"14.00\">entropy = 0.964</text>\n",
       "<text text-anchor=\"middle\" x=\"698.5\" y=\"-215.8\" font-family=\"Helvetica,sans-Serif\" font-size=\"14.00\">samples = 224</text>\n",
       "<text text-anchor=\"middle\" x=\"698.5\" y=\"-200.8\" font-family=\"Helvetica,sans-Serif\" font-size=\"14.00\">value = [87, 137]</text>\n",
       "</g>\n",
       "<!-- 0&#45;&gt;8 -->\n",
       "<g id=\"edge8\" class=\"edge\">\n",
       "<title>0&#45;&gt;8</title>\n",
       "<path fill=\"none\" stroke=\"black\" d=\"M622.86,-296.88C632.94,-287.71 643.98,-277.65 654.44,-268.12\"/>\n",
       "<polygon fill=\"black\" stroke=\"black\" points=\"656.9,-270.62 661.94,-261.3 652.19,-265.44 656.9,-270.62\"/>\n",
       "<text text-anchor=\"middle\" x=\"660.77\" y=\"-282.57\" font-family=\"Helvetica,sans-Serif\" font-size=\"14.00\">False</text>\n",
       "</g>\n",
       "<!-- 2 -->\n",
       "<g id=\"node3\" class=\"node\">\n",
       "<title>2</title>\n",
       "<path fill=\"#e78c49\" stroke=\"black\" d=\"M272.5,-157C272.5,-157 156.5,-157 156.5,-157 150.5,-157 144.5,-151 144.5,-145 144.5,-145 144.5,-101 144.5,-101 144.5,-95 150.5,-89 156.5,-89 156.5,-89 272.5,-89 272.5,-89 278.5,-89 284.5,-95 284.5,-101 284.5,-101 284.5,-145 284.5,-145 284.5,-151 278.5,-157 272.5,-157\"/>\n",
       "<text text-anchor=\"middle\" x=\"214.5\" y=\"-141.8\" font-family=\"Helvetica,sans-Serif\" font-size=\"14.00\">BMI &lt;= 30.95</text>\n",
       "<text text-anchor=\"middle\" x=\"214.5\" y=\"-126.8\" font-family=\"Helvetica,sans-Serif\" font-size=\"14.00\">entropy = 0.391</text>\n",
       "<text text-anchor=\"middle\" x=\"214.5\" y=\"-111.8\" font-family=\"Helvetica,sans-Serif\" font-size=\"14.00\">samples = 221</text>\n",
       "<text text-anchor=\"middle\" x=\"214.5\" y=\"-96.8\" font-family=\"Helvetica,sans-Serif\" font-size=\"14.00\">value = [204, 17]</text>\n",
       "</g>\n",
       "<!-- 1&#45;&gt;2 -->\n",
       "<g id=\"edge2\" class=\"edge\">\n",
       "<title>1&#45;&gt;2</title>\n",
       "<path fill=\"none\" stroke=\"black\" d=\"M405.21,-198.53C370.98,-185.15 329.66,-169.01 294.25,-155.17\"/>\n",
       "<polygon fill=\"black\" stroke=\"black\" points=\"295.5,-151.9 284.91,-151.52 292.95,-158.42 295.5,-151.9\"/>\n",
       "</g>\n",
       "<!-- 5 -->\n",
       "<g id=\"node6\" class=\"node\">\n",
       "<title>5</title>\n",
       "<path fill=\"#f3c5a3\" stroke=\"black\" d=\"M533.5,-157C533.5,-157 417.5,-157 417.5,-157 411.5,-157 405.5,-151 405.5,-145 405.5,-145 405.5,-101 405.5,-101 405.5,-95 411.5,-89 417.5,-89 417.5,-89 533.5,-89 533.5,-89 539.5,-89 545.5,-95 545.5,-101 545.5,-101 545.5,-145 545.5,-145 545.5,-151 539.5,-157 533.5,-157\"/>\n",
       "<text text-anchor=\"middle\" x=\"475.5\" y=\"-141.8\" font-family=\"Helvetica,sans-Serif\" font-size=\"14.00\">BMI &lt;= 26.35</text>\n",
       "<text text-anchor=\"middle\" x=\"475.5\" y=\"-126.8\" font-family=\"Helvetica,sans-Serif\" font-size=\"14.00\">entropy = 0.933</text>\n",
       "<text text-anchor=\"middle\" x=\"475.5\" y=\"-111.8\" font-family=\"Helvetica,sans-Serif\" font-size=\"14.00\">samples = 169</text>\n",
       "<text text-anchor=\"middle\" x=\"475.5\" y=\"-96.8\" font-family=\"Helvetica,sans-Serif\" font-size=\"14.00\">value = [110, 59]</text>\n",
       "</g>\n",
       "<!-- 1&#45;&gt;5 -->\n",
       "<g id=\"edge5\" class=\"edge\">\n",
       "<title>1&#45;&gt;5</title>\n",
       "<path fill=\"none\" stroke=\"black\" d=\"M475.5,-192.88C475.5,-184.78 475.5,-175.98 475.5,-167.47\"/>\n",
       "<polygon fill=\"black\" stroke=\"black\" points=\"479,-167.3 475.5,-157.3 472,-167.3 479,-167.3\"/>\n",
       "</g>\n",
       "<!-- 3 -->\n",
       "<g id=\"node4\" class=\"node\">\n",
       "<title>3</title>\n",
       "<path fill=\"#e5823b\" stroke=\"black\" d=\"M119,-53C119,-53 12,-53 12,-53 6,-53 0,-47 0,-41 0,-41 0,-12 0,-12 0,-6 6,0 12,0 12,0 119,0 119,0 125,0 131,-6 131,-12 131,-12 131,-41 131,-41 131,-47 125,-53 119,-53\"/>\n",
       "<text text-anchor=\"middle\" x=\"65.5\" y=\"-37.8\" font-family=\"Helvetica,sans-Serif\" font-size=\"14.00\">entropy = 0.068</text>\n",
       "<text text-anchor=\"middle\" x=\"65.5\" y=\"-22.8\" font-family=\"Helvetica,sans-Serif\" font-size=\"14.00\">samples = 124</text>\n",
       "<text text-anchor=\"middle\" x=\"65.5\" y=\"-7.8\" font-family=\"Helvetica,sans-Serif\" font-size=\"14.00\">value = [123, 1]</text>\n",
       "</g>\n",
       "<!-- 2&#45;&gt;3 -->\n",
       "<g id=\"edge3\" class=\"edge\">\n",
       "<title>2&#45;&gt;3</title>\n",
       "<path fill=\"none\" stroke=\"black\" d=\"M162.39,-88.95C146.95,-79.16 130.11,-68.48 114.85,-58.8\"/>\n",
       "<polygon fill=\"black\" stroke=\"black\" points=\"116.4,-55.64 106.08,-53.24 112.65,-61.55 116.4,-55.64\"/>\n",
       "</g>\n",
       "<!-- 4 -->\n",
       "<g id=\"node5\" class=\"node\">\n",
       "<title>4</title>\n",
       "<path fill=\"#ea9a60\" stroke=\"black\" d=\"M268,-53C268,-53 161,-53 161,-53 155,-53 149,-47 149,-41 149,-41 149,-12 149,-12 149,-6 155,0 161,0 161,0 268,0 268,0 274,0 280,-6 280,-12 280,-12 280,-41 280,-41 280,-47 274,-53 268,-53\"/>\n",
       "<text text-anchor=\"middle\" x=\"214.5\" y=\"-37.8\" font-family=\"Helvetica,sans-Serif\" font-size=\"14.00\">entropy = 0.646</text>\n",
       "<text text-anchor=\"middle\" x=\"214.5\" y=\"-22.8\" font-family=\"Helvetica,sans-Serif\" font-size=\"14.00\">samples = 97</text>\n",
       "<text text-anchor=\"middle\" x=\"214.5\" y=\"-7.8\" font-family=\"Helvetica,sans-Serif\" font-size=\"14.00\">value = [81, 16]</text>\n",
       "</g>\n",
       "<!-- 2&#45;&gt;4 -->\n",
       "<g id=\"edge4\" class=\"edge\">\n",
       "<title>2&#45;&gt;4</title>\n",
       "<path fill=\"none\" stroke=\"black\" d=\"M214.5,-88.95C214.5,-80.72 214.5,-71.85 214.5,-63.48\"/>\n",
       "<polygon fill=\"black\" stroke=\"black\" points=\"218,-63.24 214.5,-53.24 211,-63.24 218,-63.24\"/>\n",
       "</g>\n",
       "<!-- 6 -->\n",
       "<g id=\"node7\" class=\"node\">\n",
       "<title>6</title>\n",
       "<path fill=\"#e6853f\" stroke=\"black\" d=\"M417,-53C417,-53 310,-53 310,-53 304,-53 298,-47 298,-41 298,-41 298,-12 298,-12 298,-6 304,0 310,0 310,0 417,0 417,0 423,0 429,-6 429,-12 429,-12 429,-41 429,-41 429,-47 423,-53 417,-53\"/>\n",
       "<text text-anchor=\"middle\" x=\"363.5\" y=\"-37.8\" font-family=\"Helvetica,sans-Serif\" font-size=\"14.00\">entropy = 0.191</text>\n",
       "<text text-anchor=\"middle\" x=\"363.5\" y=\"-22.8\" font-family=\"Helvetica,sans-Serif\" font-size=\"14.00\">samples = 34</text>\n",
       "<text text-anchor=\"middle\" x=\"363.5\" y=\"-7.8\" font-family=\"Helvetica,sans-Serif\" font-size=\"14.00\">value = [33, 1]</text>\n",
       "</g>\n",
       "<!-- 5&#45;&gt;6 -->\n",
       "<g id=\"edge6\" class=\"edge\">\n",
       "<title>5&#45;&gt;6</title>\n",
       "<path fill=\"none\" stroke=\"black\" d=\"M436.33,-88.95C425.16,-79.53 413.01,-69.27 401.89,-59.89\"/>\n",
       "<polygon fill=\"black\" stroke=\"black\" points=\"403.9,-57.01 394,-53.24 399.39,-62.36 403.9,-57.01\"/>\n",
       "</g>\n",
       "<!-- 7 -->\n",
       "<g id=\"node8\" class=\"node\">\n",
       "<title>7</title>\n",
       "<path fill=\"#f9e0ce\" stroke=\"black\" d=\"M566,-53C566,-53 459,-53 459,-53 453,-53 447,-47 447,-41 447,-41 447,-12 447,-12 447,-6 453,0 459,0 459,0 566,0 566,0 572,0 578,-6 578,-12 578,-12 578,-41 578,-41 578,-47 572,-53 566,-53\"/>\n",
       "<text text-anchor=\"middle\" x=\"512.5\" y=\"-37.8\" font-family=\"Helvetica,sans-Serif\" font-size=\"14.00\">entropy = 0.986</text>\n",
       "<text text-anchor=\"middle\" x=\"512.5\" y=\"-22.8\" font-family=\"Helvetica,sans-Serif\" font-size=\"14.00\">samples = 135</text>\n",
       "<text text-anchor=\"middle\" x=\"512.5\" y=\"-7.8\" font-family=\"Helvetica,sans-Serif\" font-size=\"14.00\">value = [77, 58]</text>\n",
       "</g>\n",
       "<!-- 5&#45;&gt;7 -->\n",
       "<g id=\"edge7\" class=\"edge\">\n",
       "<title>5&#45;&gt;7</title>\n",
       "<path fill=\"none\" stroke=\"black\" d=\"M488.44,-88.95C491.77,-80.44 495.37,-71.26 498.74,-62.65\"/>\n",
       "<polygon fill=\"black\" stroke=\"black\" points=\"502.04,-63.82 502.42,-53.24 495.52,-61.27 502.04,-63.82\"/>\n",
       "</g>\n",
       "<!-- 9 -->\n",
       "<g id=\"node10\" class=\"node\">\n",
       "<title>9</title>\n",
       "<path fill=\"#f1ba93\" stroke=\"black\" d=\"M756.5,-157C756.5,-157 640.5,-157 640.5,-157 634.5,-157 628.5,-151 628.5,-145 628.5,-145 628.5,-101 628.5,-101 628.5,-95 634.5,-89 640.5,-89 640.5,-89 756.5,-89 756.5,-89 762.5,-89 768.5,-95 768.5,-101 768.5,-101 768.5,-145 768.5,-145 768.5,-151 762.5,-157 756.5,-157\"/>\n",
       "<text text-anchor=\"middle\" x=\"698.5\" y=\"-141.8\" font-family=\"Helvetica,sans-Serif\" font-size=\"14.00\">plasma &lt;= 145.5</text>\n",
       "<text text-anchor=\"middle\" x=\"698.5\" y=\"-126.8\" font-family=\"Helvetica,sans-Serif\" font-size=\"14.00\">entropy = 0.895</text>\n",
       "<text text-anchor=\"middle\" x=\"698.5\" y=\"-111.8\" font-family=\"Helvetica,sans-Serif\" font-size=\"14.00\">samples = 61</text>\n",
       "<text text-anchor=\"middle\" x=\"698.5\" y=\"-96.8\" font-family=\"Helvetica,sans-Serif\" font-size=\"14.00\">value = [42, 19]</text>\n",
       "</g>\n",
       "<!-- 8&#45;&gt;9 -->\n",
       "<g id=\"edge9\" class=\"edge\">\n",
       "<title>8&#45;&gt;9</title>\n",
       "<path fill=\"none\" stroke=\"black\" d=\"M698.5,-192.88C698.5,-184.78 698.5,-175.98 698.5,-167.47\"/>\n",
       "<polygon fill=\"black\" stroke=\"black\" points=\"702,-167.3 698.5,-157.3 695,-167.3 702,-167.3\"/>\n",
       "</g>\n",
       "<!-- 12 -->\n",
       "<g id=\"node13\" class=\"node\">\n",
       "<title>12</title>\n",
       "<path fill=\"#85c2ef\" stroke=\"black\" d=\"M1017.5,-157C1017.5,-157 901.5,-157 901.5,-157 895.5,-157 889.5,-151 889.5,-145 889.5,-145 889.5,-101 889.5,-101 889.5,-95 895.5,-89 901.5,-89 901.5,-89 1017.5,-89 1017.5,-89 1023.5,-89 1029.5,-95 1029.5,-101 1029.5,-101 1029.5,-145 1029.5,-145 1029.5,-151 1023.5,-157 1017.5,-157\"/>\n",
       "<text text-anchor=\"middle\" x=\"959.5\" y=\"-141.8\" font-family=\"Helvetica,sans-Serif\" font-size=\"14.00\">plasma &lt;= 165.5</text>\n",
       "<text text-anchor=\"middle\" x=\"959.5\" y=\"-126.8\" font-family=\"Helvetica,sans-Serif\" font-size=\"14.00\">entropy = 0.85</text>\n",
       "<text text-anchor=\"middle\" x=\"959.5\" y=\"-111.8\" font-family=\"Helvetica,sans-Serif\" font-size=\"14.00\">samples = 163</text>\n",
       "<text text-anchor=\"middle\" x=\"959.5\" y=\"-96.8\" font-family=\"Helvetica,sans-Serif\" font-size=\"14.00\">value = [45, 118]</text>\n",
       "</g>\n",
       "<!-- 8&#45;&gt;12 -->\n",
       "<g id=\"edge12\" class=\"edge\">\n",
       "<title>8&#45;&gt;12</title>\n",
       "<path fill=\"none\" stroke=\"black\" d=\"M768.79,-198.53C803.02,-185.15 844.34,-169.01 879.75,-155.17\"/>\n",
       "<polygon fill=\"black\" stroke=\"black\" points=\"881.05,-158.42 889.09,-151.52 878.5,-151.9 881.05,-158.42\"/>\n",
       "</g>\n",
       "<!-- 10 -->\n",
       "<g id=\"node11\" class=\"node\">\n",
       "<title>10</title>\n",
       "<path fill=\"#e99254\" stroke=\"black\" d=\"M715,-53C715,-53 608,-53 608,-53 602,-53 596,-47 596,-41 596,-41 596,-12 596,-12 596,-6 602,0 608,0 608,0 715,0 715,0 721,0 727,-6 727,-12 727,-12 727,-41 727,-41 727,-47 721,-53 715,-53\"/>\n",
       "<text text-anchor=\"middle\" x=\"661.5\" y=\"-37.8\" font-family=\"Helvetica,sans-Serif\" font-size=\"14.00\">entropy = 0.533</text>\n",
       "<text text-anchor=\"middle\" x=\"661.5\" y=\"-22.8\" font-family=\"Helvetica,sans-Serif\" font-size=\"14.00\">samples = 33</text>\n",
       "<text text-anchor=\"middle\" x=\"661.5\" y=\"-7.8\" font-family=\"Helvetica,sans-Serif\" font-size=\"14.00\">value = [29, 4]</text>\n",
       "</g>\n",
       "<!-- 9&#45;&gt;10 -->\n",
       "<g id=\"edge10\" class=\"edge\">\n",
       "<title>9&#45;&gt;10</title>\n",
       "<path fill=\"none\" stroke=\"black\" d=\"M685.56,-88.95C682.23,-80.44 678.63,-71.26 675.26,-62.65\"/>\n",
       "<polygon fill=\"black\" stroke=\"black\" points=\"678.48,-61.27 671.58,-53.24 671.96,-63.82 678.48,-61.27\"/>\n",
       "</g>\n",
       "<!-- 11 -->\n",
       "<g id=\"node12\" class=\"node\">\n",
       "<title>11</title>\n",
       "<path fill=\"#e5f2fc\" stroke=\"black\" d=\"M864,-53C864,-53 757,-53 757,-53 751,-53 745,-47 745,-41 745,-41 745,-12 745,-12 745,-6 751,0 757,0 757,0 864,0 864,0 870,0 876,-6 876,-12 876,-12 876,-41 876,-41 876,-47 870,-53 864,-53\"/>\n",
       "<text text-anchor=\"middle\" x=\"810.5\" y=\"-37.8\" font-family=\"Helvetica,sans-Serif\" font-size=\"14.00\">entropy = 0.996</text>\n",
       "<text text-anchor=\"middle\" x=\"810.5\" y=\"-22.8\" font-family=\"Helvetica,sans-Serif\" font-size=\"14.00\">samples = 28</text>\n",
       "<text text-anchor=\"middle\" x=\"810.5\" y=\"-7.8\" font-family=\"Helvetica,sans-Serif\" font-size=\"14.00\">value = [13, 15]</text>\n",
       "</g>\n",
       "<!-- 9&#45;&gt;11 -->\n",
       "<g id=\"edge11\" class=\"edge\">\n",
       "<title>9&#45;&gt;11</title>\n",
       "<path fill=\"none\" stroke=\"black\" d=\"M737.67,-88.95C748.84,-79.53 760.99,-69.27 772.11,-59.89\"/>\n",
       "<polygon fill=\"black\" stroke=\"black\" points=\"774.61,-62.36 780,-53.24 770.1,-57.01 774.61,-62.36\"/>\n",
       "</g>\n",
       "<!-- 13 -->\n",
       "<g id=\"node14\" class=\"node\">\n",
       "<title>13</title>\n",
       "<path fill=\"#add7f4\" stroke=\"black\" d=\"M1013,-53C1013,-53 906,-53 906,-53 900,-53 894,-47 894,-41 894,-41 894,-12 894,-12 894,-6 900,0 906,0 906,0 1013,0 1013,0 1019,0 1025,-6 1025,-12 1025,-12 1025,-41 1025,-41 1025,-47 1019,-53 1013,-53\"/>\n",
       "<text text-anchor=\"middle\" x=\"959.5\" y=\"-37.8\" font-family=\"Helvetica,sans-Serif\" font-size=\"14.00\">entropy = 0.951</text>\n",
       "<text text-anchor=\"middle\" x=\"959.5\" y=\"-22.8\" font-family=\"Helvetica,sans-Serif\" font-size=\"14.00\">samples = 108</text>\n",
       "<text text-anchor=\"middle\" x=\"959.5\" y=\"-7.8\" font-family=\"Helvetica,sans-Serif\" font-size=\"14.00\">value = [40, 68]</text>\n",
       "</g>\n",
       "<!-- 12&#45;&gt;13 -->\n",
       "<g id=\"edge13\" class=\"edge\">\n",
       "<title>12&#45;&gt;13</title>\n",
       "<path fill=\"none\" stroke=\"black\" d=\"M959.5,-88.95C959.5,-80.72 959.5,-71.85 959.5,-63.48\"/>\n",
       "<polygon fill=\"black\" stroke=\"black\" points=\"963,-63.24 959.5,-53.24 956,-63.24 963,-63.24\"/>\n",
       "</g>\n",
       "<!-- 14 -->\n",
       "<g id=\"node15\" class=\"node\">\n",
       "<title>14</title>\n",
       "<path fill=\"#4da7e8\" stroke=\"black\" d=\"M1162,-53C1162,-53 1055,-53 1055,-53 1049,-53 1043,-47 1043,-41 1043,-41 1043,-12 1043,-12 1043,-6 1049,0 1055,0 1055,0 1162,0 1162,0 1168,0 1174,-6 1174,-12 1174,-12 1174,-41 1174,-41 1174,-47 1168,-53 1162,-53\"/>\n",
       "<text text-anchor=\"middle\" x=\"1108.5\" y=\"-37.8\" font-family=\"Helvetica,sans-Serif\" font-size=\"14.00\">entropy = 0.439</text>\n",
       "<text text-anchor=\"middle\" x=\"1108.5\" y=\"-22.8\" font-family=\"Helvetica,sans-Serif\" font-size=\"14.00\">samples = 55</text>\n",
       "<text text-anchor=\"middle\" x=\"1108.5\" y=\"-7.8\" font-family=\"Helvetica,sans-Serif\" font-size=\"14.00\">value = [5, 50]</text>\n",
       "</g>\n",
       "<!-- 12&#45;&gt;14 -->\n",
       "<g id=\"edge14\" class=\"edge\">\n",
       "<title>12&#45;&gt;14</title>\n",
       "<path fill=\"none\" stroke=\"black\" d=\"M1011.61,-88.95C1027.05,-79.16 1043.89,-68.48 1059.15,-58.8\"/>\n",
       "<polygon fill=\"black\" stroke=\"black\" points=\"1061.35,-61.55 1067.92,-53.24 1057.6,-55.64 1061.35,-61.55\"/>\n",
       "</g>\n",
       "</g>\n",
       "</svg>\n"
      ],
      "text/plain": [
       "<graphviz.files.Source at 0x7ff1f8c25f40>"
      ]
     },
     "execution_count": 15,
     "metadata": {},
     "output_type": "execute_result"
    }
   ],
   "source": [
    "import graphviz\n",
    "from sklearn.tree import export_graphviz\n",
    "\n",
    "export_graphviz(dt, out_file=\"mytree.dot\", \n",
    "                feature_names=X.columns, \n",
    "                filled=True, rounded=True)\n",
    "\n",
    "with open(\"./mytree.dot\") as f:\n",
    "    dot_graph = f.read()\n",
    "    \n",
    "graphviz.Source(dot_graph)"
   ]
  },
  {
   "cell_type": "markdown",
   "metadata": {},
   "source": [
    "## Question 2\n",
    "Here's a scatter plot that shows varying values of the DT given a higher percentage of training data size.\n",
    "- What seems to be the best size of training data?\n",
    "- Is it a good idea to have a training set that big?"
   ]
  },
  {
   "cell_type": "code",
   "execution_count": 16,
   "metadata": {},
   "outputs": [
    {
     "data": {
      "image/png": "[encoded data removed]",
      "text/plain": [
       "<Figure size 432x288 with 1 Axes>"
      ]
     },
     "metadata": {
      "needs_background": "light"
     },
     "output_type": "display_data"
    }
   ],
   "source": [
    "split_sizes = range(1, 101, 5)\n",
    "results = {}\n",
    "\n",
    "for split in split_sizes:\n",
    "    X1, X2, y_train, y_test = train_test_split(X, y, train_size = split/100, \n",
    "                                      test_size=(1 - split/100), random_state=42)\n",
    "    \n",
    "    scaler = StandardScaler().fit(X1)\n",
    "    X_train = scaler.transform(X1)\n",
    "    X_test = scaler.transform(X2)\n",
    "    \n",
    "    dt.fit(X_train, y_train)\n",
    "    \n",
    "    y_pred = dt.predict(X_test)\n",
    "    results[split] = accuracy_score(y_test, y_pred)\n",
    "    \n",
    "plt.plot(split_sizes, results.values())\n",
    "plt.show()"
   ]
  },
  {
   "cell_type": "markdown",
   "metadata": {},
   "source": [
    "## Linear Regression\n",
    "- Refer to Part 2 of Week 8 lab"
   ]
  }
 ],
 "metadata": {
  "kernelspec": {
   "display_name": "Python 3",
   "language": "python",
   "name": "python3"
  },
  "language_info": {
   "codemirror_mode": {
    "name": "ipython",
    "version": 3
   },
   "file_extension": ".py",
   "mimetype": "text/x-python",
   "name": "python",
   "nbconvert_exporter": "python",
   "pygments_lexer": "ipython3",
   "version": "3.8.5"
  }
 },
 "nbformat": 4,
 "nbformat_minor": 4
}
