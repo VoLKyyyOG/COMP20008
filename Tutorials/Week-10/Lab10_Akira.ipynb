{
 "cells": [
  {
   "cell_type": "markdown",
   "metadata": {},
   "source": [
    "# COMP20008 2021S1 workshop week 10"
   ]
  },
  {
   "cell_type": "markdown",
   "metadata": {},
   "source": [
    "## Chi Squared Feature Selection\n",
    "The following code implements the example in Slide 19 of the Experimental design lecture"
   ]
  },
  {
   "cell_type": "code",
   "execution_count": 1,
   "metadata": {},
   "outputs": [],
   "source": [
    "import pandas as pd\n",
    "import numpy as np\n",
    "import scipy.stats as stats\n",
    "from scipy.stats import chi2_contingency"
   ]
  },
  {
   "cell_type": "code",
   "execution_count": null,
   "metadata": {},
   "outputs": [],
   "source": [
    "data = pd.DataFrame(np.array([[1, 1, 1],[1, 0, 1],[0, 1, 0],[0, 0, 0]]), \n",
    "                    columns=['a1', 'a2', 'c'])\n",
    "data"
   ]
  },
  {
   "cell_type": "code",
   "execution_count": null,
   "metadata": {},
   "outputs": [],
   "source": [
    "X = data[['a1', 'a2']]\n",
    "y = data['c']\n",
    "\n",
    "# create a contingency table to calculate chi2 for y and A1\n",
    "contingency_table = pd.crosstab(y, X['a1'])\n",
    "contingency_table"
   ]
  },
  {
   "cell_type": "code",
   "execution_count": null,
   "metadata": {},
   "outputs": [],
   "source": [
    "chi2_val, p, dof, expected = chi2_contingency(contingency_table.values, correction=False)"
   ]
  },
  {
   "cell_type": "markdown",
   "metadata": {},
   "source": [
    "## Hypothesis Testing\n",
    "- Hypothesis testing is one way of statistically testing the significance of a feature or value.\n",
    "- In this example, we are calculating the $\\chi^2$ values of our feature `\"a1\"` w.r.t (with respect to) our class label `\"c\"`.\n",
    "\n",
    "To create a hypothesis test, we propose the following:\n",
    "1. NULL Hypothesis: The feature is is not significant (or in other words, the feature is useless and doesn't provide anything usefl)\n",
    "2. Alternative Hypothesis: The feature is significant and provides useful insight statistically.\n",
    "\n",
    "To find out what hypothesis holds, we need to compute the `p-value`.\n",
    "\n",
    "#### So what's the p-value?\n",
    "- The `p-value` is the *probability* of obtaining results that are *at least as extreme* (i.e outliers) as the results observed.\n",
    "- These observations are under the assumption that the NULL hypothesis (the feature is useless) is correct.\n",
    "- However, if the `p-value` is small, then it means that our *observed extreme results* are very unlikely under the NULL hypothesis. \n",
    "- Therefore, given some small threshold $\\alpha$ (usually 0.05), we **reject the NULL hypothesis** iff (if and only if) `p-value` < $\\alpha$.\n",
    "\n",
    "#### In other words...\n",
    "1. Write down your NULL and Alternative hypothesis.\n",
    "2. Compute the $\\chi^2$ value and corresponding `p-value`.\n",
    "3. If `p-value` is less than $\\alpha$ = 0.05, then you **reject the NULL hypothesis**.\n",
    "    1. If you reject the NULL, then you can word it as such:  \n",
    "        \"Since our XXX is significantly larger than the expected XXX value, we reject the null hypothesis and conclude that there is evidence that our feature XXX is XXX.\n",
    "    2. If you fail to reject the NULL:\n",
    "        \"Since our XXX is smaller than the expected XXX value, we **fail to reject the null hypothesis**.\""
   ]
  },
  {
   "cell_type": "code",
   "execution_count": null,
   "metadata": {},
   "outputs": [],
   "source": [
    "print(f\"{chi2_val} with p-value {p}\")"
   ]
  },
  {
   "cell_type": "code",
   "execution_count": null,
   "metadata": {},
   "outputs": [],
   "source": []
  },
  {
   "cell_type": "markdown",
   "metadata": {},
   "source": [
    "## Exercise Question (in your own time)\n",
    "- Adapt the example above to calculate the $\\chi^2$ value for feature `\"a2\"`.  \n",
    "- Ensure that the results agree with your answer to Question 1."
   ]
  },
  {
   "cell_type": "code",
   "execution_count": null,
   "metadata": {},
   "outputs": [],
   "source": [
    "data = pd.DataFrame(np.array([[1, 1, 1],[1, 0, 1],[0, 1, 0],[0, 0, 0]]), \n",
    "                    columns=['a1', 'a2', 'c'])\n",
    "data"
   ]
  },
  {
   "cell_type": "markdown",
   "metadata": {},
   "source": [
    "## $k$-Fold Cross Validation (CV)\n",
    "- As mentioned previously, the common 80/20 train/test split is unreliable due to some factors such as a fixed random seed.\n",
    "- A much better alternative is $k$-Fold CV.\n",
    "\n",
    "#### How does it work?\n",
    "- The approach randomly divides the dataset into $k$ approximately equal \"folds\".\n",
    "- Each of these \"folds\" is then used as an evaluation set in $k$ different interations. \n",
    "- That is, each iteration of $k$-fold CV will have different \"folds\" taking turns at being the evaluation set.\n",
    "- For example, if we had $k=3$, then the first iteration involves having \"folds\" 1 & 2 for train, with 3 for evaluation.\n",
    "- In the next iteration, we might have \"folds\" 1 & 3 for train, with 2 for evaluation.\n",
    "- (and so on...)"
   ]
  },
  {
   "cell_type": "code",
   "execution_count": 2,
   "metadata": {},
   "outputs": [],
   "source": [
    "# read in world org and set index to country code\n",
    "df_world = pd.read_csv('world_org.csv')\n",
    "df_world.set_index('Country Code')\n",
    "\n",
    "# read in life and set index to country code\n",
    "df_life = pd.read_csv('life.csv')\n",
    "df_life.set_index('Country Code')\n",
    "\n",
    "# merge the two dataframes together on country code\n",
    "df = df_world.merge(df_life)\n",
    "\n",
    "# delete the first two to save memory\n",
    "del df_world, df_life"
   ]
  },
  {
   "cell_type": "code",
   "execution_count": 3,
   "metadata": {},
   "outputs": [
    {
     "data": {
      "text/html": [
       "<div>\n",
       "<style scoped>\n",
       "    .dataframe tbody tr th:only-of-type {\n",
       "        vertical-align: middle;\n",
       "    }\n",
       "\n",
       "    .dataframe tbody tr th {\n",
       "        vertical-align: top;\n",
       "    }\n",
       "\n",
       "    .dataframe thead th {\n",
       "        text-align: right;\n",
       "    }\n",
       "</style>\n",
       "<table border=\"1\" class=\"dataframe\">\n",
       "  <thead>\n",
       "    <tr style=\"text-align: right;\">\n",
       "      <th></th>\n",
       "      <th>Time</th>\n",
       "      <th>Time Code</th>\n",
       "      <th>Country Name</th>\n",
       "      <th>Country Code</th>\n",
       "      <th>Access to clean fuels and technologies for cooking (% of population) [EG.CFT.ACCS.ZS]</th>\n",
       "      <th>Access to electricity (% of population) [EG.ELC.ACCS.ZS]</th>\n",
       "      <th>Access to electricity, rural (% of rural population) [EG.ELC.ACCS.RU.ZS]</th>\n",
       "      <th>Access to electricity, urban (% of urban population) [EG.ELC.ACCS.UR.ZS]</th>\n",
       "      <th>Adjusted net enrollment rate, primary (% of primary school age children) [SE.PRM.TENR]</th>\n",
       "      <th>Adjusted net enrollment rate, primary, female (% of primary school age children) [SE.PRM.TENR.FE]</th>\n",
       "      <th>...</th>\n",
       "      <th>Urban population growth (annual %) [SP.URB.GROW]</th>\n",
       "      <th>Use of IMF credit (DOD, current US$) [DT.DOD.DIMF.CD]</th>\n",
       "      <th>Vulnerable employment, female (% of female employment) (modeled ILO estimate) [SL.EMP.VULN.FE.ZS]</th>\n",
       "      <th>Vulnerable employment, male (% of male employment) (modeled ILO estimate) [SL.EMP.VULN.MA.ZS]</th>\n",
       "      <th>Vulnerable employment, total (% of total employment) (modeled ILO estimate) [SL.EMP.VULN.ZS]</th>\n",
       "      <th>Wage and salaried workers, female (% of female employment) (modeled ILO estimate) [SL.EMP.WORK.FE.ZS]</th>\n",
       "      <th>Wage and salaried workers, male (% of male employment) (modeled ILO estimate) [SL.EMP.WORK.MA.ZS]</th>\n",
       "      <th>Wage and salaried workers, total (% of total employment) (modeled ILO estimate) [SL.EMP.WORK.ZS]</th>\n",
       "      <th>Women's share of population ages 15+ living with HIV (%) [SH.DYN.AIDS.FE.ZS]</th>\n",
       "      <th>Life expectancy at birth (years)</th>\n",
       "    </tr>\n",
       "  </thead>\n",
       "  <tbody>\n",
       "    <tr>\n",
       "      <th>0</th>\n",
       "      <td>2016</td>\n",
       "      <td>YR2016</td>\n",
       "      <td>Afghanistan</td>\n",
       "      <td>AFG</td>\n",
       "      <td>32.44</td>\n",
       "      <td>97.700000</td>\n",
       "      <td>97.099360</td>\n",
       "      <td>99.500000</td>\n",
       "      <td>NaN</td>\n",
       "      <td>NaN</td>\n",
       "      <td>...</td>\n",
       "      <td>3.649410</td>\n",
       "      <td>2.769844e+08</td>\n",
       "      <td>92.107998</td>\n",
       "      <td>78.755003</td>\n",
       "      <td>81.311001</td>\n",
       "      <td>6.413000</td>\n",
       "      <td>18.893000</td>\n",
       "      <td>16.503000</td>\n",
       "      <td>29.1</td>\n",
       "      <td>Low</td>\n",
       "    </tr>\n",
       "    <tr>\n",
       "      <th>1</th>\n",
       "      <td>2016</td>\n",
       "      <td>YR2016</td>\n",
       "      <td>Albania</td>\n",
       "      <td>ALB</td>\n",
       "      <td>77.42</td>\n",
       "      <td>100.000000</td>\n",
       "      <td>100.000000</td>\n",
       "      <td>100.000000</td>\n",
       "      <td>97.65542</td>\n",
       "      <td>NaN</td>\n",
       "      <td>...</td>\n",
       "      <td>1.544014</td>\n",
       "      <td>3.870837e+08</td>\n",
       "      <td>55.648001</td>\n",
       "      <td>55.723001</td>\n",
       "      <td>55.692001</td>\n",
       "      <td>43.376999</td>\n",
       "      <td>40.841000</td>\n",
       "      <td>41.900002</td>\n",
       "      <td>NaN</td>\n",
       "      <td>High</td>\n",
       "    </tr>\n",
       "    <tr>\n",
       "      <th>2</th>\n",
       "      <td>2016</td>\n",
       "      <td>YR2016</td>\n",
       "      <td>Algeria</td>\n",
       "      <td>DZA</td>\n",
       "      <td>92.62</td>\n",
       "      <td>99.992317</td>\n",
       "      <td>99.973082</td>\n",
       "      <td>100.000000</td>\n",
       "      <td>NaN</td>\n",
       "      <td>NaN</td>\n",
       "      <td>...</td>\n",
       "      <td>2.910068</td>\n",
       "      <td>1.610756e+09</td>\n",
       "      <td>23.637999</td>\n",
       "      <td>27.732001</td>\n",
       "      <td>27.061999</td>\n",
       "      <td>74.353996</td>\n",
       "      <td>67.296997</td>\n",
       "      <td>68.450996</td>\n",
       "      <td>45.6</td>\n",
       "      <td>High</td>\n",
       "    </tr>\n",
       "    <tr>\n",
       "      <th>3</th>\n",
       "      <td>2016</td>\n",
       "      <td>YR2016</td>\n",
       "      <td>Angola</td>\n",
       "      <td>AGO</td>\n",
       "      <td>48.05</td>\n",
       "      <td>40.624527</td>\n",
       "      <td>0.000000</td>\n",
       "      <td>70.794960</td>\n",
       "      <td>NaN</td>\n",
       "      <td>NaN</td>\n",
       "      <td>...</td>\n",
       "      <td>4.480210</td>\n",
       "      <td>3.958810e+08</td>\n",
       "      <td>80.125002</td>\n",
       "      <td>53.151999</td>\n",
       "      <td>66.615998</td>\n",
       "      <td>17.327000</td>\n",
       "      <td>40.992001</td>\n",
       "      <td>29.180000</td>\n",
       "      <td>69.1</td>\n",
       "      <td>Low</td>\n",
       "    </tr>\n",
       "    <tr>\n",
       "      <th>4</th>\n",
       "      <td>2016</td>\n",
       "      <td>YR2016</td>\n",
       "      <td>Antigua and Barbuda</td>\n",
       "      <td>ATG</td>\n",
       "      <td>98.75</td>\n",
       "      <td>100.000000</td>\n",
       "      <td>100.000000</td>\n",
       "      <td>100.000000</td>\n",
       "      <td>NaN</td>\n",
       "      <td>NaN</td>\n",
       "      <td>...</td>\n",
       "      <td>0.401042</td>\n",
       "      <td>NaN</td>\n",
       "      <td>NaN</td>\n",
       "      <td>NaN</td>\n",
       "      <td>NaN</td>\n",
       "      <td>NaN</td>\n",
       "      <td>NaN</td>\n",
       "      <td>NaN</td>\n",
       "      <td>NaN</td>\n",
       "      <td>Medium</td>\n",
       "    </tr>\n",
       "    <tr>\n",
       "      <th>...</th>\n",
       "      <td>...</td>\n",
       "      <td>...</td>\n",
       "      <td>...</td>\n",
       "      <td>...</td>\n",
       "      <td>...</td>\n",
       "      <td>...</td>\n",
       "      <td>...</td>\n",
       "      <td>...</td>\n",
       "      <td>...</td>\n",
       "      <td>...</td>\n",
       "      <td>...</td>\n",
       "      <td>...</td>\n",
       "      <td>...</td>\n",
       "      <td>...</td>\n",
       "      <td>...</td>\n",
       "      <td>...</td>\n",
       "      <td>...</td>\n",
       "      <td>...</td>\n",
       "      <td>...</td>\n",
       "      <td>...</td>\n",
       "      <td>...</td>\n",
       "    </tr>\n",
       "    <tr>\n",
       "      <th>178</th>\n",
       "      <td>2016</td>\n",
       "      <td>YR2016</td>\n",
       "      <td>Venezuela, RB</td>\n",
       "      <td>VEN</td>\n",
       "      <td>96.16</td>\n",
       "      <td>99.967598</td>\n",
       "      <td>99.726219</td>\n",
       "      <td>100.000000</td>\n",
       "      <td>91.20013</td>\n",
       "      <td>91.33262</td>\n",
       "      <td>...</td>\n",
       "      <td>-0.773971</td>\n",
       "      <td>3.418975e+09</td>\n",
       "      <td>34.163000</td>\n",
       "      <td>34.023002</td>\n",
       "      <td>34.077000</td>\n",
       "      <td>64.480003</td>\n",
       "      <td>61.875999</td>\n",
       "      <td>62.896000</td>\n",
       "      <td>NaN</td>\n",
       "      <td>Medium</td>\n",
       "    </tr>\n",
       "    <tr>\n",
       "      <th>179</th>\n",
       "      <td>2016</td>\n",
       "      <td>YR2016</td>\n",
       "      <td>Vietnam</td>\n",
       "      <td>VNM</td>\n",
       "      <td>66.92</td>\n",
       "      <td>100.000000</td>\n",
       "      <td>100.000000</td>\n",
       "      <td>100.000000</td>\n",
       "      <td>NaN</td>\n",
       "      <td>NaN</td>\n",
       "      <td>...</td>\n",
       "      <td>3.084496</td>\n",
       "      <td>4.231843e+08</td>\n",
       "      <td>62.420002</td>\n",
       "      <td>49.954000</td>\n",
       "      <td>55.921001</td>\n",
       "      <td>35.743000</td>\n",
       "      <td>46.298000</td>\n",
       "      <td>41.245998</td>\n",
       "      <td>32.1</td>\n",
       "      <td>High</td>\n",
       "    </tr>\n",
       "    <tr>\n",
       "      <th>180</th>\n",
       "      <td>2016</td>\n",
       "      <td>YR2016</td>\n",
       "      <td>Yemen, Rep.</td>\n",
       "      <td>YEM</td>\n",
       "      <td>64.93</td>\n",
       "      <td>76.066811</td>\n",
       "      <td>64.359867</td>\n",
       "      <td>97.435936</td>\n",
       "      <td>84.39664</td>\n",
       "      <td>78.87941</td>\n",
       "      <td>...</td>\n",
       "      <td>4.256849</td>\n",
       "      <td>4.970096e+08</td>\n",
       "      <td>66.183001</td>\n",
       "      <td>42.865998</td>\n",
       "      <td>44.468001</td>\n",
       "      <td>31.681000</td>\n",
       "      <td>49.613998</td>\n",
       "      <td>48.382999</td>\n",
       "      <td>23.3</td>\n",
       "      <td>Low</td>\n",
       "    </tr>\n",
       "    <tr>\n",
       "      <th>181</th>\n",
       "      <td>2016</td>\n",
       "      <td>YR2016</td>\n",
       "      <td>Zambia</td>\n",
       "      <td>ZMB</td>\n",
       "      <td>16.43</td>\n",
       "      <td>35.216507</td>\n",
       "      <td>9.182742</td>\n",
       "      <td>70.528152</td>\n",
       "      <td>NaN</td>\n",
       "      <td>NaN</td>\n",
       "      <td>...</td>\n",
       "      <td>4.262472</td>\n",
       "      <td>8.127631e+08</td>\n",
       "      <td>88.332001</td>\n",
       "      <td>69.566000</td>\n",
       "      <td>78.505001</td>\n",
       "      <td>11.437000</td>\n",
       "      <td>30.084999</td>\n",
       "      <td>21.202000</td>\n",
       "      <td>59.2</td>\n",
       "      <td>Low</td>\n",
       "    </tr>\n",
       "    <tr>\n",
       "      <th>182</th>\n",
       "      <td>2016</td>\n",
       "      <td>YR2016</td>\n",
       "      <td>Zimbabwe</td>\n",
       "      <td>ZWE</td>\n",
       "      <td>29.05</td>\n",
       "      <td>39.892345</td>\n",
       "      <td>18.128717</td>\n",
       "      <td>85.516716</td>\n",
       "      <td>NaN</td>\n",
       "      <td>NaN</td>\n",
       "      <td>...</td>\n",
       "      <td>1.274558</td>\n",
       "      <td>4.551646e+08</td>\n",
       "      <td>74.735999</td>\n",
       "      <td>55.140001</td>\n",
       "      <td>65.058001</td>\n",
       "      <td>24.959000</td>\n",
       "      <td>44.215000</td>\n",
       "      <td>34.469002</td>\n",
       "      <td>59.7</td>\n",
       "      <td>Low</td>\n",
       "    </tr>\n",
       "  </tbody>\n",
       "</table>\n",
       "<p>183 rows × 993 columns</p>\n",
       "</div>"
      ],
      "text/plain": [
       "     Time Time Code         Country Name Country Code  \\\n",
       "0    2016    YR2016          Afghanistan          AFG   \n",
       "1    2016    YR2016              Albania          ALB   \n",
       "2    2016    YR2016              Algeria          DZA   \n",
       "3    2016    YR2016               Angola          AGO   \n",
       "4    2016    YR2016  Antigua and Barbuda          ATG   \n",
       "..    ...       ...                  ...          ...   \n",
       "178  2016    YR2016        Venezuela, RB          VEN   \n",
       "179  2016    YR2016              Vietnam          VNM   \n",
       "180  2016    YR2016          Yemen, Rep.          YEM   \n",
       "181  2016    YR2016               Zambia          ZMB   \n",
       "182  2016    YR2016             Zimbabwe          ZWE   \n",
       "\n",
       "     Access to clean fuels and technologies for cooking (% of population) [EG.CFT.ACCS.ZS]  \\\n",
       "0                                                32.44                                       \n",
       "1                                                77.42                                       \n",
       "2                                                92.62                                       \n",
       "3                                                48.05                                       \n",
       "4                                                98.75                                       \n",
       "..                                                 ...                                       \n",
       "178                                              96.16                                       \n",
       "179                                              66.92                                       \n",
       "180                                              64.93                                       \n",
       "181                                              16.43                                       \n",
       "182                                              29.05                                       \n",
       "\n",
       "     Access to electricity (% of population) [EG.ELC.ACCS.ZS]  \\\n",
       "0                                            97.700000          \n",
       "1                                           100.000000          \n",
       "2                                            99.992317          \n",
       "3                                            40.624527          \n",
       "4                                           100.000000          \n",
       "..                                                 ...          \n",
       "178                                          99.967598          \n",
       "179                                         100.000000          \n",
       "180                                          76.066811          \n",
       "181                                          35.216507          \n",
       "182                                          39.892345          \n",
       "\n",
       "     Access to electricity, rural (% of rural population) [EG.ELC.ACCS.RU.ZS]  \\\n",
       "0                                            97.099360                          \n",
       "1                                           100.000000                          \n",
       "2                                            99.973082                          \n",
       "3                                             0.000000                          \n",
       "4                                           100.000000                          \n",
       "..                                                 ...                          \n",
       "178                                          99.726219                          \n",
       "179                                         100.000000                          \n",
       "180                                          64.359867                          \n",
       "181                                           9.182742                          \n",
       "182                                          18.128717                          \n",
       "\n",
       "     Access to electricity, urban (% of urban population) [EG.ELC.ACCS.UR.ZS]  \\\n",
       "0                                            99.500000                          \n",
       "1                                           100.000000                          \n",
       "2                                           100.000000                          \n",
       "3                                            70.794960                          \n",
       "4                                           100.000000                          \n",
       "..                                                 ...                          \n",
       "178                                         100.000000                          \n",
       "179                                         100.000000                          \n",
       "180                                          97.435936                          \n",
       "181                                          70.528152                          \n",
       "182                                          85.516716                          \n",
       "\n",
       "     Adjusted net enrollment rate, primary (% of primary school age children) [SE.PRM.TENR]  \\\n",
       "0                                                  NaN                                        \n",
       "1                                             97.65542                                        \n",
       "2                                                  NaN                                        \n",
       "3                                                  NaN                                        \n",
       "4                                                  NaN                                        \n",
       "..                                                 ...                                        \n",
       "178                                           91.20013                                        \n",
       "179                                                NaN                                        \n",
       "180                                           84.39664                                        \n",
       "181                                                NaN                                        \n",
       "182                                                NaN                                        \n",
       "\n",
       "     Adjusted net enrollment rate, primary, female (% of primary school age children) [SE.PRM.TENR.FE]  \\\n",
       "0                                                  NaN                                                   \n",
       "1                                                  NaN                                                   \n",
       "2                                                  NaN                                                   \n",
       "3                                                  NaN                                                   \n",
       "4                                                  NaN                                                   \n",
       "..                                                 ...                                                   \n",
       "178                                           91.33262                                                   \n",
       "179                                                NaN                                                   \n",
       "180                                           78.87941                                                   \n",
       "181                                                NaN                                                   \n",
       "182                                                NaN                                                   \n",
       "\n",
       "     ...  Urban population growth (annual %) [SP.URB.GROW]  \\\n",
       "0    ...                                          3.649410   \n",
       "1    ...                                          1.544014   \n",
       "2    ...                                          2.910068   \n",
       "3    ...                                          4.480210   \n",
       "4    ...                                          0.401042   \n",
       "..   ...                                               ...   \n",
       "178  ...                                         -0.773971   \n",
       "179  ...                                          3.084496   \n",
       "180  ...                                          4.256849   \n",
       "181  ...                                          4.262472   \n",
       "182  ...                                          1.274558   \n",
       "\n",
       "     Use of IMF credit (DOD, current US$) [DT.DOD.DIMF.CD]  \\\n",
       "0                                         2.769844e+08       \n",
       "1                                         3.870837e+08       \n",
       "2                                         1.610756e+09       \n",
       "3                                         3.958810e+08       \n",
       "4                                                  NaN       \n",
       "..                                                 ...       \n",
       "178                                       3.418975e+09       \n",
       "179                                       4.231843e+08       \n",
       "180                                       4.970096e+08       \n",
       "181                                       8.127631e+08       \n",
       "182                                       4.551646e+08       \n",
       "\n",
       "     Vulnerable employment, female (% of female employment) (modeled ILO estimate) [SL.EMP.VULN.FE.ZS]  \\\n",
       "0                                            92.107998                                                   \n",
       "1                                            55.648001                                                   \n",
       "2                                            23.637999                                                   \n",
       "3                                            80.125002                                                   \n",
       "4                                                  NaN                                                   \n",
       "..                                                 ...                                                   \n",
       "178                                          34.163000                                                   \n",
       "179                                          62.420002                                                   \n",
       "180                                          66.183001                                                   \n",
       "181                                          88.332001                                                   \n",
       "182                                          74.735999                                                   \n",
       "\n",
       "     Vulnerable employment, male (% of male employment) (modeled ILO estimate) [SL.EMP.VULN.MA.ZS]  \\\n",
       "0                                            78.755003                                               \n",
       "1                                            55.723001                                               \n",
       "2                                            27.732001                                               \n",
       "3                                            53.151999                                               \n",
       "4                                                  NaN                                               \n",
       "..                                                 ...                                               \n",
       "178                                          34.023002                                               \n",
       "179                                          49.954000                                               \n",
       "180                                          42.865998                                               \n",
       "181                                          69.566000                                               \n",
       "182                                          55.140001                                               \n",
       "\n",
       "     Vulnerable employment, total (% of total employment) (modeled ILO estimate) [SL.EMP.VULN.ZS]  \\\n",
       "0                                            81.311001                                              \n",
       "1                                            55.692001                                              \n",
       "2                                            27.061999                                              \n",
       "3                                            66.615998                                              \n",
       "4                                                  NaN                                              \n",
       "..                                                 ...                                              \n",
       "178                                          34.077000                                              \n",
       "179                                          55.921001                                              \n",
       "180                                          44.468001                                              \n",
       "181                                          78.505001                                              \n",
       "182                                          65.058001                                              \n",
       "\n",
       "     Wage and salaried workers, female (% of female employment) (modeled ILO estimate) [SL.EMP.WORK.FE.ZS]  \\\n",
       "0                                             6.413000                                                       \n",
       "1                                            43.376999                                                       \n",
       "2                                            74.353996                                                       \n",
       "3                                            17.327000                                                       \n",
       "4                                                  NaN                                                       \n",
       "..                                                 ...                                                       \n",
       "178                                          64.480003                                                       \n",
       "179                                          35.743000                                                       \n",
       "180                                          31.681000                                                       \n",
       "181                                          11.437000                                                       \n",
       "182                                          24.959000                                                       \n",
       "\n",
       "     Wage and salaried workers, male (% of male employment) (modeled ILO estimate) [SL.EMP.WORK.MA.ZS]  \\\n",
       "0                                            18.893000                                                   \n",
       "1                                            40.841000                                                   \n",
       "2                                            67.296997                                                   \n",
       "3                                            40.992001                                                   \n",
       "4                                                  NaN                                                   \n",
       "..                                                 ...                                                   \n",
       "178                                          61.875999                                                   \n",
       "179                                          46.298000                                                   \n",
       "180                                          49.613998                                                   \n",
       "181                                          30.084999                                                   \n",
       "182                                          44.215000                                                   \n",
       "\n",
       "     Wage and salaried workers, total (% of total employment) (modeled ILO estimate) [SL.EMP.WORK.ZS]  \\\n",
       "0                                            16.503000                                                  \n",
       "1                                            41.900002                                                  \n",
       "2                                            68.450996                                                  \n",
       "3                                            29.180000                                                  \n",
       "4                                                  NaN                                                  \n",
       "..                                                 ...                                                  \n",
       "178                                          62.896000                                                  \n",
       "179                                          41.245998                                                  \n",
       "180                                          48.382999                                                  \n",
       "181                                          21.202000                                                  \n",
       "182                                          34.469002                                                  \n",
       "\n",
       "     Women's share of population ages 15+ living with HIV (%) [SH.DYN.AIDS.FE.ZS]  \\\n",
       "0                                                 29.1                              \n",
       "1                                                  NaN                              \n",
       "2                                                 45.6                              \n",
       "3                                                 69.1                              \n",
       "4                                                  NaN                              \n",
       "..                                                 ...                              \n",
       "178                                                NaN                              \n",
       "179                                               32.1                              \n",
       "180                                               23.3                              \n",
       "181                                               59.2                              \n",
       "182                                               59.7                              \n",
       "\n",
       "     Life expectancy at birth (years)  \n",
       "0                                 Low  \n",
       "1                                High  \n",
       "2                                High  \n",
       "3                                 Low  \n",
       "4                              Medium  \n",
       "..                                ...  \n",
       "178                            Medium  \n",
       "179                              High  \n",
       "180                               Low  \n",
       "181                               Low  \n",
       "182                               Low  \n",
       "\n",
       "[183 rows x 993 columns]"
      ]
     },
     "execution_count": 3,
     "metadata": {},
     "output_type": "execute_result"
    }
   ],
   "source": [
    "df"
   ]
  },
  {
   "cell_type": "code",
   "execution_count": 4,
   "metadata": {},
   "outputs": [],
   "source": [
    "from sklearn.model_selection import KFold\n",
    "\n",
    "from sklearn.preprocessing import StandardScaler\n",
    "from sklearn.impute import SimpleImputer\n",
    "\n",
    "from sklearn.neighbors import KNeighborsClassifier as KNN\n",
    "from sklearn.metrics import accuracy_score"
   ]
  },
  {
   "cell_type": "code",
   "execution_count": 6,
   "metadata": {},
   "outputs": [],
   "source": [
    "X = df.iloc[:, 5:-1]\n",
    "y = df['Life expectancy at birth (years)']\n",
    "\n",
    "# set k value for k-fold CV\n",
    "k = 10\n",
    "\n",
    "kf_CV = KFold(n_splits=k, shuffle=True, random_state=42)\n",
    "results = []\n",
    "\n",
    "for train_idx, test_idx in kf_CV.split(X):\n",
    "    X_train, X_test = X.loc[train_idx], X.loc[test_idx]\n",
    "    y_train, y_test = y[train_idx], y[test_idx]\n",
    "    \n",
    "    # Preprocessing\n",
    "    # 1. Standardise the data\n",
    "    scaler = StandardScaler().fit(X_train)\n",
    "    X_train = scaler.transform(X_train)\n",
    "    X_test = scaler.transform(X_test)    \n",
    "    \n",
    "    # 2. Impute missing values using mean\n",
    "    imputer = SimpleImputer(missing_values=np.nan, strategy='mean')\n",
    "    X_train = imputer.fit_transform(X_train)\n",
    "    X_test = imputer.transform(X_test)\n",
    "    \n",
    "    # Training\n",
    "    knn = KNN(n_neighbors=5)\n",
    "    knn.fit(X_train, y_train)    \n",
    "    \n",
    "    # Predictions\n",
    "    y_pred = knn.predict(X_test)\n",
    "    results.append(accuracy_score(y_test, y_pred))"
   ]
  },
  {
   "cell_type": "code",
   "execution_count": 7,
   "metadata": {},
   "outputs": [
    {
     "name": "stdout",
     "output_type": "stream",
     "text": [
      "Average Accuracy: 0.7254385964912282\n"
     ]
    }
   ],
   "source": [
    "print(f\"Average Accuracy: {np.mean(results)}\")"
   ]
  },
  {
   "cell_type": "code",
   "execution_count": 8,
   "metadata": {},
   "outputs": [
    {
     "data": {
      "text/plain": [
       "[0.7368421052631579,\n",
       " 0.8421052631578947,\n",
       " 0.8421052631578947,\n",
       " 0.7222222222222222,\n",
       " 0.8333333333333334,\n",
       " 0.6666666666666666,\n",
       " 0.8333333333333334,\n",
       " 0.6111111111111112,\n",
       " 0.7222222222222222,\n",
       " 0.4444444444444444]"
      ]
     },
     "execution_count": 8,
     "metadata": {},
     "output_type": "execute_result"
    }
   ],
   "source": [
    "results"
   ]
  },
  {
   "cell_type": "markdown",
   "metadata": {},
   "source": [
    "## Question\n",
    "- What happens when we have diferent values of $k$ or change the random seed?\n",
    "- What might be an optimal value of $k$ for this dataset?\n",
    "- Is a large $k$ always good?"
   ]
  },
  {
   "cell_type": "code",
   "execution_count": null,
   "metadata": {},
   "outputs": [],
   "source": []
  },
  {
   "cell_type": "markdown",
   "metadata": {},
   "source": [
    "## Principal Component Analysis (PCA)\n",
    "- PCA is used to transform high-dimensional data (i.e many features) into a lower-dimensional representation (i.e fewer features).\n",
    "- It is especially useful for visualisation and to improve computational efficiency by removing outliers or noisy data.\n",
    "- In layman's terms, PCA aims to discover a new coordinate system such that most of the **variance** is concentrated along the coordinates from most to least.\n",
    "- PCA is very useful and widely used in industry.\n",
    "\n",
    "#### How does this work (EASY)?\n",
    "- PCA discards dimensions (i.e features) that tell us very little about the data.\n",
    "- Once the features are discarded, we will be left with a smaller coordinate system (usually 2D axes).\n",
    "- The smaller coordinate system will *encapsulate* most of the **variance** in the dataset.\n",
    "- In other words, dimensions that do not have much variation in the data or holds little information will be discarded.\n",
    "\n",
    "#### How does this work (EXTENSION)?\n",
    "- PCA is a constraint optimisation problem using Langrange multipliers.\n",
    "    - Problem: Find a $p_1$ that maximises $p_1'\\sum_{X}p_1$ where $||p_1||=p_1'p_1=1$ must be satisfied.\n",
    "    - Constraint: $L = p_1'p_1\\sum_{X} - \\lambda_1\\times(p_1'p_1 - 1)$\n",
    "- By solving for 0 (given the langrange equations), you can perform eigenvalue decomposition, where $\\lambda_1$ yields eigenvalues and your vector $p_1$ is an eigenvector.\n",
    "- The end result is an orthnonormal basis where axes are aligned to capture the maximum **variance** (or variation) in the dataset."
   ]
  },
  {
   "cell_type": "code",
   "execution_count": 5,
   "metadata": {},
   "outputs": [],
   "source": [
    "import matplotlib.pyplot as plt\n",
    "from sklearn.decomposition import PCA"
   ]
  },
  {
   "cell_type": "code",
   "execution_count": 9,
   "metadata": {},
   "outputs": [],
   "source": [
    "X = df.iloc[:, 5:-1]\n",
    "y = df['Life expectancy at birth (years)']\n",
    "\n",
    "# set k value for k-fold CV\n",
    "k = 10\n",
    "\n",
    "kf_CV = KFold(n_splits=k, shuffle=True, random_state=42)\n",
    "results = []\n",
    "\n",
    "for train_idx, test_idx in kf_CV.split(X):\n",
    "    X_train, X_test = X.loc[train_idx], X.loc[test_idx]\n",
    "    y_train, y_test = y[train_idx], y[test_idx]\n",
    "    \n",
    "    # Preprocessing\n",
    "    # 1. Standardise the data\n",
    "    scaler = StandardScaler().fit(X_train)\n",
    "    X_train = scaler.transform(X_train)\n",
    "    X_test = scaler.transform(X_test)    \n",
    "    \n",
    "    # 2. Impute missing values using mean\n",
    "    imputer = SimpleImputer(missing_values=np.nan, strategy='mean')\n",
    "    X_train = imputer.fit_transform(X_train)\n",
    "    X_test = imputer.transform(X_test)\n",
    "    \n",
    "    # 3. Perform PCA on the dataset\n",
    "    pca = PCA(n_components=5)\n",
    "    X_train = pca.fit_transform(X_train)\n",
    "    X_test = pca.transform(X_test)\n",
    "    \n",
    "    # Training\n",
    "    knn = KNN(n_neighbors=5)\n",
    "    knn.fit(X_train, y_train)    \n",
    "    \n",
    "    # Predictions\n",
    "    y_pred = knn.predict(X_test)\n",
    "    results.append(accuracy_score(y_test, y_pred))"
   ]
  },
  {
   "cell_type": "code",
   "execution_count": 10,
   "metadata": {},
   "outputs": [
    {
     "name": "stdout",
     "output_type": "stream",
     "text": [
      "Average Accuracy: 0.7271929824561403\n"
     ]
    }
   ],
   "source": [
    "print(f\"Average Accuracy: {np.mean(results)}\")"
   ]
  },
  {
   "cell_type": "markdown",
   "metadata": {},
   "source": [
    "#### Some pointers for PCA\n",
    "- When we visualise data using PCA, it's best to keep it to 2 or 3 components for best practices (2D and 3D respectively).\n",
    "- However, when we build a model, we can try taking a look at `pca.explained_variance_ratio_` to see how much of the variance is being explained by the first X components."
   ]
  },
  {
   "cell_type": "code",
   "execution_count": 11,
   "metadata": {},
   "outputs": [
    {
     "data": {
      "text/plain": [
       "array([0.19585359, 0.10985296, 0.0686636 , 0.04404539, 0.03371472])"
      ]
     },
     "execution_count": 11,
     "metadata": {},
     "output_type": "execute_result"
    }
   ],
   "source": [
    "pca.explained_variance_ratio_"
   ]
  },
  {
   "cell_type": "markdown",
   "metadata": {},
   "source": [
    "# Visualisation using PCA\n",
    "\n",
    "- Here's an example below of applying PCA on the iris dataset.\n"
   ]
  },
  {
   "cell_type": "code",
   "execution_count": 12,
   "metadata": {},
   "outputs": [],
   "source": [
    "df_iris = pd.read_csv('iris.csv')\n",
    "X = df_iris[[\"SepalLength\", \"SepalWidth\", \"PetalLength\", \"PetalWidth\"]]"
   ]
  },
  {
   "cell_type": "code",
   "execution_count": 14,
   "metadata": {},
   "outputs": [
    {
     "data": {
      "text/html": [
       "<div>\n",
       "<style scoped>\n",
       "    .dataframe tbody tr th:only-of-type {\n",
       "        vertical-align: middle;\n",
       "    }\n",
       "\n",
       "    .dataframe tbody tr th {\n",
       "        vertical-align: top;\n",
       "    }\n",
       "\n",
       "    .dataframe thead th {\n",
       "        text-align: right;\n",
       "    }\n",
       "</style>\n",
       "<table border=\"1\" class=\"dataframe\">\n",
       "  <thead>\n",
       "    <tr style=\"text-align: right;\">\n",
       "      <th></th>\n",
       "      <th>SepalLength</th>\n",
       "      <th>SepalWidth</th>\n",
       "      <th>PetalLength</th>\n",
       "      <th>PetalWidth</th>\n",
       "    </tr>\n",
       "  </thead>\n",
       "  <tbody>\n",
       "    <tr>\n",
       "      <th>0</th>\n",
       "      <td>5.1</td>\n",
       "      <td>3.5</td>\n",
       "      <td>1.4</td>\n",
       "      <td>0.2</td>\n",
       "    </tr>\n",
       "    <tr>\n",
       "      <th>1</th>\n",
       "      <td>4.9</td>\n",
       "      <td>3.0</td>\n",
       "      <td>1.4</td>\n",
       "      <td>0.2</td>\n",
       "    </tr>\n",
       "    <tr>\n",
       "      <th>2</th>\n",
       "      <td>4.7</td>\n",
       "      <td>3.2</td>\n",
       "      <td>1.3</td>\n",
       "      <td>0.2</td>\n",
       "    </tr>\n",
       "    <tr>\n",
       "      <th>3</th>\n",
       "      <td>4.6</td>\n",
       "      <td>3.1</td>\n",
       "      <td>1.5</td>\n",
       "      <td>0.2</td>\n",
       "    </tr>\n",
       "    <tr>\n",
       "      <th>4</th>\n",
       "      <td>5.0</td>\n",
       "      <td>3.6</td>\n",
       "      <td>1.4</td>\n",
       "      <td>0.2</td>\n",
       "    </tr>\n",
       "    <tr>\n",
       "      <th>...</th>\n",
       "      <td>...</td>\n",
       "      <td>...</td>\n",
       "      <td>...</td>\n",
       "      <td>...</td>\n",
       "    </tr>\n",
       "    <tr>\n",
       "      <th>145</th>\n",
       "      <td>6.7</td>\n",
       "      <td>3.0</td>\n",
       "      <td>5.2</td>\n",
       "      <td>2.3</td>\n",
       "    </tr>\n",
       "    <tr>\n",
       "      <th>146</th>\n",
       "      <td>6.3</td>\n",
       "      <td>2.5</td>\n",
       "      <td>5.0</td>\n",
       "      <td>1.9</td>\n",
       "    </tr>\n",
       "    <tr>\n",
       "      <th>147</th>\n",
       "      <td>6.5</td>\n",
       "      <td>3.0</td>\n",
       "      <td>5.2</td>\n",
       "      <td>2.0</td>\n",
       "    </tr>\n",
       "    <tr>\n",
       "      <th>148</th>\n",
       "      <td>6.2</td>\n",
       "      <td>3.4</td>\n",
       "      <td>5.4</td>\n",
       "      <td>2.3</td>\n",
       "    </tr>\n",
       "    <tr>\n",
       "      <th>149</th>\n",
       "      <td>5.9</td>\n",
       "      <td>3.0</td>\n",
       "      <td>5.1</td>\n",
       "      <td>1.8</td>\n",
       "    </tr>\n",
       "  </tbody>\n",
       "</table>\n",
       "<p>150 rows × 4 columns</p>\n",
       "</div>"
      ],
      "text/plain": [
       "     SepalLength  SepalWidth  PetalLength  PetalWidth\n",
       "0            5.1         3.5          1.4         0.2\n",
       "1            4.9         3.0          1.4         0.2\n",
       "2            4.7         3.2          1.3         0.2\n",
       "3            4.6         3.1          1.5         0.2\n",
       "4            5.0         3.6          1.4         0.2\n",
       "..           ...         ...          ...         ...\n",
       "145          6.7         3.0          5.2         2.3\n",
       "146          6.3         2.5          5.0         1.9\n",
       "147          6.5         3.0          5.2         2.0\n",
       "148          6.2         3.4          5.4         2.3\n",
       "149          5.9         3.0          5.1         1.8\n",
       "\n",
       "[150 rows x 4 columns]"
      ]
     },
     "execution_count": 14,
     "metadata": {},
     "output_type": "execute_result"
    }
   ],
   "source": []
  },
  {
   "cell_type": "code",
   "execution_count": 15,
   "metadata": {},
   "outputs": [
    {
     "data": {
      "text/plain": [
       "array([0.92461621, 0.05301557])"
      ]
     },
     "execution_count": 15,
     "metadata": {},
     "output_type": "execute_result"
    }
   ],
   "source": [
    "# for 2D visualisations, we have 2 components\n",
    "pca = PCA(n_components=2)\n",
    "X_pca = pca.fit_transform(X)\n",
    "pca.explained_variance_ratio_"
   ]
  },
  {
   "cell_type": "code",
   "execution_count": 16,
   "metadata": {},
   "outputs": [
    {
     "data": {
      "text/plain": [
       "0.9776317750248035"
      ]
     },
     "execution_count": 16,
     "metadata": {},
     "output_type": "execute_result"
    }
   ],
   "source": [
    "sum(pca.explained_variance_ratio_)"
   ]
  },
  {
   "cell_type": "markdown",
   "metadata": {},
   "source": [
    "- As you can see, our original 4D data can be explained in 2D with $\\approx$97.8% of the variance being explained.\n",
    "- This means that the remaining 2 components only help add an extra 2.2% of variance (which is pretty much nothing in perspective of the other 2 features)"
   ]
  },
  {
   "cell_type": "code",
   "execution_count": 17,
   "metadata": {},
   "outputs": [
    {
     "data": {
      "text/plain": [
       "{'Iris-setosa': 'r', 'Iris-versicolor': 'g', 'Iris-virginica': 'b'}"
      ]
     },
     "execution_count": 17,
     "metadata": {},
     "output_type": "execute_result"
    }
   ],
   "source": [
    "# cool dict comprehension to map these values\n",
    "colours = {k: v for k, v in zip(df_iris['Name'].unique(), \"rgb\")}\n",
    "colours"
   ]
  },
  {
   "cell_type": "code",
   "execution_count": 19,
   "metadata": {},
   "outputs": [
    {
     "data": {
      "text/html": [
       "<div>\n",
       "<style scoped>\n",
       "    .dataframe tbody tr th:only-of-type {\n",
       "        vertical-align: middle;\n",
       "    }\n",
       "\n",
       "    .dataframe tbody tr th {\n",
       "        vertical-align: top;\n",
       "    }\n",
       "\n",
       "    .dataframe thead th {\n",
       "        text-align: right;\n",
       "    }\n",
       "</style>\n",
       "<table border=\"1\" class=\"dataframe\">\n",
       "  <thead>\n",
       "    <tr style=\"text-align: right;\">\n",
       "      <th></th>\n",
       "      <th>Name</th>\n",
       "      <th>Color</th>\n",
       "    </tr>\n",
       "  </thead>\n",
       "  <tbody>\n",
       "    <tr>\n",
       "      <th>0</th>\n",
       "      <td>Iris-setosa</td>\n",
       "      <td>r</td>\n",
       "    </tr>\n",
       "    <tr>\n",
       "      <th>1</th>\n",
       "      <td>Iris-setosa</td>\n",
       "      <td>r</td>\n",
       "    </tr>\n",
       "    <tr>\n",
       "      <th>2</th>\n",
       "      <td>Iris-setosa</td>\n",
       "      <td>r</td>\n",
       "    </tr>\n",
       "    <tr>\n",
       "      <th>3</th>\n",
       "      <td>Iris-setosa</td>\n",
       "      <td>r</td>\n",
       "    </tr>\n",
       "    <tr>\n",
       "      <th>4</th>\n",
       "      <td>Iris-setosa</td>\n",
       "      <td>r</td>\n",
       "    </tr>\n",
       "    <tr>\n",
       "      <th>...</th>\n",
       "      <td>...</td>\n",
       "      <td>...</td>\n",
       "    </tr>\n",
       "    <tr>\n",
       "      <th>145</th>\n",
       "      <td>Iris-virginica</td>\n",
       "      <td>b</td>\n",
       "    </tr>\n",
       "    <tr>\n",
       "      <th>146</th>\n",
       "      <td>Iris-virginica</td>\n",
       "      <td>b</td>\n",
       "    </tr>\n",
       "    <tr>\n",
       "      <th>147</th>\n",
       "      <td>Iris-virginica</td>\n",
       "      <td>b</td>\n",
       "    </tr>\n",
       "    <tr>\n",
       "      <th>148</th>\n",
       "      <td>Iris-virginica</td>\n",
       "      <td>b</td>\n",
       "    </tr>\n",
       "    <tr>\n",
       "      <th>149</th>\n",
       "      <td>Iris-virginica</td>\n",
       "      <td>b</td>\n",
       "    </tr>\n",
       "  </tbody>\n",
       "</table>\n",
       "<p>150 rows × 2 columns</p>\n",
       "</div>"
      ],
      "text/plain": [
       "               Name Color\n",
       "0       Iris-setosa     r\n",
       "1       Iris-setosa     r\n",
       "2       Iris-setosa     r\n",
       "3       Iris-setosa     r\n",
       "4       Iris-setosa     r\n",
       "..              ...   ...\n",
       "145  Iris-virginica     b\n",
       "146  Iris-virginica     b\n",
       "147  Iris-virginica     b\n",
       "148  Iris-virginica     b\n",
       "149  Iris-virginica     b\n",
       "\n",
       "[150 rows x 2 columns]"
      ]
     },
     "execution_count": 19,
     "metadata": {},
     "output_type": "execute_result"
    }
   ],
   "source": [
    "df_iris['Color'] = df_iris['Name'].map(colours)\n",
    "df_iris[['Name', 'Color']]"
   ]
  },
  {
   "cell_type": "code",
   "execution_count": 31,
   "metadata": {},
   "outputs": [
    {
     "data": {
      "image/png": "[encoded data removed]",
      "text/plain": [
       "<Figure size 432x288 with 1 Axes>"
      ]
     },
     "metadata": {
      "needs_background": "light"
     },
     "output_type": "display_data"
    }
   ],
   "source": [
    "plt.scatter(X_pca[:, 0], X_pca[:, 1], color=df_iris['Color'].values)\n",
    "\n",
    "plt.title(\"PCA on the Iris Dataset\", fontsize=12)\n",
    "plt.xlabel('1st Principal Component', fontsize=12)\n",
    "plt.ylabel('2nd Principal Component', fontsize=12)\n",
    "\n",
    "plt.show()"
   ]
  },
  {
   "cell_type": "code",
   "execution_count": 21,
   "metadata": {},
   "outputs": [
    {
     "data": {
      "text/plain": [
       "{'Iris-setosa': 'r', 'Iris-versicolor': 'g', 'Iris-virginica': 'b'}"
      ]
     },
     "execution_count": 21,
     "metadata": {},
     "output_type": "execute_result"
    }
   ],
   "source": [
    "colours"
   ]
  },
  {
   "cell_type": "markdown",
   "metadata": {},
   "source": [
    "- What can we observe about the clusters above?"
   ]
  },
  {
   "cell_type": "markdown",
   "metadata": {},
   "source": [
    "## Visual Assessment for Clustering Tendency (VAT) \n",
    "- Treat it as a black box (so it's moreso about interpretation rather than method).\n",
    "- You need to understand how VAT works, but not how to implement it by code.\n",
    "- Good to see how many clusters exist in a dataset *without* having to plot everything at once (to find values of $k$). \n",
    "- **Note:** Doesn't do well when the \"clusters\" are not distinct (i.e overlap in the data or some complex relationship)."
   ]
  },
  {
   "cell_type": "markdown",
   "metadata": {},
   "source": [
    "Pseudocode:\n",
    "1. Compute the dissimilarity matrix `D` (that is, an $n\\times n$ matrix of pairwise distances).\n",
    "2. Let $K = \\{1, ..., n\\}$ be the set of unique values in `D`.\n",
    "3. From `D`, pick the two most contrasting values $a, b$ (i.e two furthest points using `max()` and `min()`).\n",
    "4. Let the initial sets now be $I = \\{a\\}$ and $J = K - \\{a\\}$. That is, $I$ is a set with only point $a$, and $J$ is the set with every other point except $a$. \n",
    "5. Assign the 1st Permutation $P(1)$ to be the initial point $a$ (the first point in our new VAT matrix `D*`).\n",
    "6. Then, for $r$ in $\\{2, ..., n\\}$ (for the initial $n$ elements, we now have $n-1$ remaining in $J$):\n",
    "    1. From `D`, pick the two most similar points $i,j$ (i.e the two closest points)\n",
    "    1. (BUT!) $i$ must come from the set $I$, and $j$ must come from the set $J$. (Initially, this will just be $i=a$ and $j$ will be any point in $J$)\n",
    "    1. Add $j$ to the set $I$ and remove $j$ from $J$. In set notation: $I = I\\cup\\{j\\}$ and $J = J-\\{j\\}$.\n",
    "    1. Finally, assign the current permutation $P(r) = j$ for the new VAT matrix `D*`.\n",
    "7. Once you have computed all of `D*` (thew new VAT matrix), you now have the new permutation required!\n"
   ]
  },
  {
   "cell_type": "code",
   "execution_count": 26,
   "metadata": {},
   "outputs": [],
   "source": [
    "import math, random\n",
    "import seaborn as sns\n",
    "\n",
    "from scipy.spatial.distance import pdist, squareform\n",
    "\n",
    "# local script\n",
    "from vat import VAT"
   ]
  },
  {
   "cell_type": "markdown",
   "metadata": {},
   "source": [
    "## Heatmaps vs VAT\n",
    "We'll plot the three visualisations:\n",
    "1. Heatmap\n",
    "2. Dissimilarity Matrix\n",
    "3. VAT"
   ]
  },
  {
   "cell_type": "code",
   "execution_count": 27,
   "metadata": {},
   "outputs": [
    {
     "data": {
      "image/png": "[encoded data removed]",
      "text/plain": [
       "<Figure size 432x288 with 2 Axes>"
      ]
     },
     "metadata": {
      "needs_background": "light"
     },
     "output_type": "display_data"
    }
   ],
   "source": [
    "# heatmap\n",
    "sns.heatmap(X)\n",
    "\n",
    "plt.show()"
   ]
  },
  {
   "cell_type": "code",
   "execution_count": 28,
   "metadata": {},
   "outputs": [
    {
     "data": {
      "image/png": "[encoded data removed]",
      "text/plain": [
       "<Figure size 432x288 with 2 Axes>"
      ]
     },
     "metadata": {
      "needs_background": "light"
     },
     "output_type": "display_data"
    }
   ],
   "source": [
    "# dissimilarity matrix\n",
    "dmatrix = X.copy().values\n",
    "np.random.shuffle(dmatrix)\n",
    "\n",
    "dm = squareform(pdist(dmatrix))\n",
    "sns.heatmap(dm)\n",
    "\n",
    "plt.show()"
   ]
  },
  {
   "cell_type": "code",
   "execution_count": 29,
   "metadata": {},
   "outputs": [
    {
     "data": {
      "image/png": "[encoded data removed]",
      "text/plain": [
       "<Figure size 432x288 with 2 Axes>"
      ]
     },
     "metadata": {
      "needs_background": "light"
     },
     "output_type": "display_data"
    }
   ],
   "source": [
    "# VAT\n",
    "RV, C, I = VAT(dmatrix)\n",
    "\n",
    "sns.heatmap(RV)\n",
    "\n",
    "plt.show()"
   ]
  },
  {
   "cell_type": "markdown",
   "metadata": {},
   "source": [
    "## Questions\n",
    "Compare the VAT visualisation with PCA.\n",
    "- How do the two differ?\n",
    "- What clusters are easily shown?"
   ]
  },
  {
   "cell_type": "code",
   "execution_count": null,
   "metadata": {},
   "outputs": [],
   "source": []
  }
 ],
 "metadata": {
  "kernelspec": {
   "display_name": "Python 3",
   "language": "python",
   "name": "python3"
  },
  "language_info": {
   "codemirror_mode": {
    "name": "ipython",
    "version": 3
   },
   "file_extension": ".py",
   "mimetype": "text/x-python",
   "name": "python",
   "nbconvert_exporter": "python",
   "pygments_lexer": "ipython3",
   "version": "3.8.5"
  }
 },
 "nbformat": 4,
 "nbformat_minor": 4
}
