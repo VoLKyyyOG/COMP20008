{
 "cells": [
  {
   "cell_type": "markdown",
   "metadata": {},
   "source": [
    "# Elements Of Data Processing (2021S1) - Week 5\n"
   ]
  },
  {
   "cell_type": "markdown",
   "metadata": {},
   "source": [
    "## Case Folding ##\n",
    "Case folding  removes all case distinctions present in a string. It is used for caseless matching, i.e. ignores cases when comparing."
   ]
  },
  {
   "cell_type": "markdown",
   "metadata": {},
   "source": [
    "### <span style=\"color:blue\"> Exercise 1 </span>\n",
    "\n",
    "Use appropraite functions to covert string \"Whereof one cannot speak, thereof one must be silent.\" in\n",
    "\n",
    "(1) Lower case\n",
    "\n",
    "(2) Upper case"
   ]
  },
  {
   "cell_type": "code",
   "execution_count": 4,
   "metadata": {},
   "outputs": [],
   "source": [
    "s = \"Whereof one cannot speak, thereof one must be silent.\"\n",
    "\n"
   ]
  },
  {
   "cell_type": "markdown",
   "metadata": {},
   "source": [
    "## Natural Language Processing ##\n",
    "The ***nltk*** library provides you with tools for natural language processing, including tokenizing, stemming and lemmatization"
   ]
  },
  {
   "cell_type": "code",
   "execution_count": null,
   "metadata": {},
   "outputs": [],
   "source": [
    "import nltk\n",
    "from nltk.stem.porter import *\n",
    "\n",
    "# if running the first time with errors:\n",
    "#nltk.download('punkt')\n",
    "#nltk.download('stopwords')\n",
    "#\n",
    "porterStemmer = PorterStemmer()\n",
    "\n",
    "speech = 'Four score and seven years ago our fathers brought forth on this continent, a new nation, conceived in Liberty, and dedicated to the proposition that all men are created equal. Now we are engaged in a great civil war, testing whether that nation, or any nation so conceived and so dedicated, can long endure. We are met on a great battle-field of that war. We have come to dedicate a portion of that field, as a final resting place for those who here gave their lives that that nation might live. It is altogether fitting and proper that we should do this. But, in a larger sense, we can not dedicate -- we can not consecrate -- we can not hallow -- this ground. The brave men, living and dead, who struggled here, have consecrated it, far above our poor power to add or detract. The world will little note, nor long remember what we say here, but it can never forget what they did here. It is for us the living, rather, to be dedicated here to the unfinished work which they who fought here have thus far so nobly advanced. It is rather for us to be here dedicated to the great task remaining before us -- that from these honored dead we take increased devotion to that cause for which they gave the last full measure of devotion -- that we here highly resolve that these dead shall not have died in vain -- that this nation, under God, shall have a new birth of freedom -- and that government of the people, by the people, for the people, shall not perish from the earth.'\n",
    "wordList = nltk.word_tokenize(speech)\n",
    "\n",
    "# run the line to download it the first time:\n",
    "#nltk.download('stopwords')\n",
    "from nltk.corpus import stopwords\n",
    "stopWords = set(stopwords.words('english'))\n",
    "\n",
    "filteredList = [w for w in wordList if not w in stopWords]\n",
    "\n",
    "wordDict = {}\n",
    "for word in filteredList:\n",
    "    stemWord = porterStemmer.stem(word)\n",
    "    if stemWord in wordDict : \n",
    "        wordDict[stemWord] = wordDict[stemWord] +1\n",
    "    else :\n",
    "        wordDict[stemWord] = 1\n",
    "\n",
    "wordDict = {k: v for k, v in sorted(wordDict.items(), key=lambda item: item[1], reverse=True)}\n",
    "for key in wordDict : print(key, wordDict[key])\n"
   ]
  },
  {
   "cell_type": "markdown",
   "metadata": {},
   "source": [
    "### <span style=\"color:blue\"> Exercise 2 </span>\n",
    "\n",
    "Modify the example above to use a WordNet Lemmatizer instead of a porter stemmer.\n",
    "\n",
    "Comment on the differences"
   ]
  },
  {
   "cell_type": "code",
   "execution_count": null,
   "metadata": {},
   "outputs": [],
   "source": [
    "\n",
    "\n",
    "\n"
   ]
  },
  {
   "cell_type": "markdown",
   "metadata": {},
   "source": [
    "### <span style=\"color:blue\"> Exercise 3 </span>\n",
    "\n",
    "Write python code for the following tasks\n",
    "\n",
    "(1) Import your file smoking-info-corrected.csv into a pandas data frame\n",
    "(2) Remove the percentage symbols from the data. For removing/replacing characters\n",
    "see http://pandas.pydata.org/pandas-docs/stable/generated/pandas.DataFrame.replace.html\n",
    "and after the removals you will also need to convert all the strings to numeric values\n",
    "(XXX.apply(pd.to numeric))"
   ]
  },
  {
   "cell_type": "code",
   "execution_count": null,
   "metadata": {},
   "outputs": [],
   "source": []
  }
 ],
 "metadata": {
  "kernelspec": {
   "display_name": "Python 3",
   "language": "python",
   "name": "python3"
  },
  "language_info": {
   "codemirror_mode": {
    "name": "ipython",
    "version": 3
   },
   "file_extension": ".py",
   "mimetype": "text/x-python",
   "name": "python",
   "nbconvert_exporter": "python",
   "pygments_lexer": "ipython3",
   "version": "3.7.4"
  }
 },
 "nbformat": 4,
 "nbformat_minor": 4
}
