{
 "cells": [
  {
   "cell_type": "markdown",
   "metadata": {},
   "source": [
    "# Elements Of Data Processing - Python Revision\n",
    "\n",
    "### Getting Started with Jupyter Notebook\n",
    "Jupyter notebook is an extremely useful tool for developing and presenting projects (particularly in python).  You can include code segments and view their output directly in your browser.  You can also add rich text, visualisations, equations and more.\n",
    "\n",
    "The difference between this and Grok (from COMP10001) is that you can run your code line by line (without having to run all of your code at once for an output).\n",
    "\n",
    "### Cells\n",
    "Jupyter notebook contains two main types of cells:\n",
    "- Markdown cells: These can be used to contain text, equations and other non-code items.  The cell that you're reading right now is a markdown cell.  You can use [Markdown](https://www.markdownguide.org/) to format your text.  If you prefer, you can also format your text using <b>HTML</b>.  Clicking the **Run** button will format and display your text.\n",
    "- Code cells: These contain code segments that can be executed individually.  When executed, the output of the code will be displayed below the code cell.\n",
    "\n",
    "### General Tips for Jupyter Notebook\n",
    "Cell shortcuts:\n",
    "- `shift + enter` : Run current cell\n",
    "- `ctrl + enter` : Run selected cells\n",
    "\n",
    "Command mode (press `esc` to enter):\n",
    "- Enter command mode pressing `esc` (blue highlight)\n",
    "- `a` to create a cell **above**\n",
    "- `b` to create a cell **below**\n",
    "- `dd` (double d) to **delete** a cell\n",
    "- `m` to make the cell render in **markdown**\n",
    "- `r` to make the cell render in **raw** text\n",
    "- `y` to make the cell render python code\n",
    "- `enter` to \"edit\" the cell\n",
    "\n",
    "Code Shortcuts:\n",
    "- `shift + tab` : brings function/method arguments up\n",
    "\n",
    "Magic Cells:\n",
    "```bash\n",
    "%%time # times the cell execution\n",
    "%%bash # allows bash commands (or cmd) to be run\n",
    "%%html # renders html syntax\n",
    "%%writefile script.py # outputs the lines of code into a script of choice\n",
    "%run script.py # runs a script of choice\n",
    "%run -i script.py # runs a script of choice and adds all variables to the notebooks' namespace\n",
    "```"
   ]
  },
  {
   "cell_type": "markdown",
   "metadata": {},
   "source": [
    "# Revision"
   ]
  },
  {
   "cell_type": "markdown",
   "metadata": {},
   "source": [
    "## Variables and Printing\n",
    "Try running the code segments below and verify that the output is correct."
   ]
  },
  {
   "cell_type": "code",
   "execution_count": 2,
   "metadata": {},
   "outputs": [
    {
     "name": "stdout",
     "output_type": "stream",
     "text": [
      "Hello World!\n"
     ]
    }
   ],
   "source": [
    "message = \"Hello World!\"\n",
    "print(message)"
   ]
  },
  {
   "cell_type": "markdown",
   "metadata": {},
   "source": [
    "Variables are retained between code segments.  You can, for example, refer the message variable created in the code segment above"
   ]
  },
  {
   "cell_type": "code",
   "execution_count": 4,
   "metadata": {
    "scrolled": true
   },
   "outputs": [
    {
     "name": "stdout",
     "output_type": "stream",
     "text": [
      "The COMP20008 team wishes to say: Hello World!\n"
     ]
    }
   ],
   "source": [
    "print(\"The COMP20008 team wishes to say: \" + message)"
   ]
  },
  {
   "cell_type": "markdown",
   "metadata": {},
   "source": [
    "By default, Jupyter Notebok will *display* the output of a variable if there is nothing else afterwards. If you seperate it with commas, it will output a *tuple* of results"
   ]
  },
  {
   "cell_type": "code",
   "execution_count": 3,
   "metadata": {},
   "outputs": [
    {
     "data": {
      "text/plain": [
       "('Hello World!', 'Hello World! Wow this is cool :o')"
      ]
     },
     "execution_count": 3,
     "metadata": {},
     "output_type": "execute_result"
    }
   ],
   "source": [
    "message, message + \" Wow this is cool :o\""
   ]
  },
  {
   "cell_type": "markdown",
   "metadata": {},
   "source": [
    "Try adding your own code cell below using the keyboard shortcut (`esc + b` or `esc + a`) and use it to print a different message.  "
   ]
  },
  {
   "cell_type": "code",
   "execution_count": null,
   "metadata": {},
   "outputs": [],
   "source": []
  },
  {
   "cell_type": "code",
   "execution_count": null,
   "metadata": {},
   "outputs": [],
   "source": []
  },
  {
   "cell_type": "code",
   "execution_count": null,
   "metadata": {},
   "outputs": [],
   "source": []
  },
  {
   "cell_type": "code",
   "execution_count": null,
   "metadata": {},
   "outputs": [],
   "source": []
  },
  {
   "cell_type": "code",
   "execution_count": null,
   "metadata": {},
   "outputs": [],
   "source": []
  },
  {
   "cell_type": "code",
   "execution_count": null,
   "metadata": {},
   "outputs": [],
   "source": []
  },
  {
   "cell_type": "code",
   "execution_count": null,
   "metadata": {},
   "outputs": [],
   "source": []
  },
  {
   "cell_type": "code",
   "execution_count": null,
   "metadata": {},
   "outputs": [],
   "source": []
  },
  {
   "cell_type": "code",
   "execution_count": null,
   "metadata": {},
   "outputs": [],
   "source": []
  },
  {
   "cell_type": "markdown",
   "metadata": {},
   "source": [
    "## Data Types\n",
    "You should be familiar with `int()`, `float()`, `bool()`, and `str()`"
   ]
  },
  {
   "cell_type": "code",
   "execution_count": null,
   "metadata": {},
   "outputs": [],
   "source": [
    "# empty data structures and 0 = False\n",
    "bool([]), bool(\"\"), bool(0)"
   ]
  },
  {
   "cell_type": "code",
   "execution_count": null,
   "metadata": {},
   "outputs": [],
   "source": [
    "# non-empty data structures and any non-zero number = True\n",
    "bool([\"value 1\"]), bool(\"non empty string\"), bool(1), bool(-1)"
   ]
  },
  {
   "cell_type": "markdown",
   "metadata": {},
   "source": [
    "## Data Structures\n",
    "You should be familiar with `list()`, `set()`, `dict()`, and `tuple()` (immutable).\n",
    "\n",
    "Additionally, you should be familiar with indexing / slicing them."
   ]
  },
  {
   "cell_type": "code",
   "execution_count": null,
   "metadata": {},
   "outputs": [],
   "source": [
    "list(\"abcd\")"
   ]
  },
  {
   "cell_type": "code",
   "execution_count": null,
   "metadata": {},
   "outputs": [],
   "source": [
    "set(\"aaaab\")"
   ]
  },
  {
   "cell_type": "code",
   "execution_count": null,
   "metadata": {},
   "outputs": [],
   "source": [
    "{\"key1\": \"value1\", \"key2\": \"value2\"}"
   ]
  },
  {
   "cell_type": "code",
   "execution_count": null,
   "metadata": {},
   "outputs": [],
   "source": [
    "tuple(\"abcd\")"
   ]
  },
  {
   "cell_type": "code",
   "execution_count": null,
   "metadata": {},
   "outputs": [],
   "source": [
    "s = \"this is a string\"\n",
    "s[0], s[-1], s[:5], s[5:], s[::2]"
   ]
  },
  {
   "cell_type": "code",
   "execution_count": null,
   "metadata": {},
   "outputs": [],
   "source": []
  },
  {
   "cell_type": "code",
   "execution_count": null,
   "metadata": {},
   "outputs": [],
   "source": []
  },
  {
   "cell_type": "code",
   "execution_count": null,
   "metadata": {},
   "outputs": [],
   "source": []
  },
  {
   "cell_type": "code",
   "execution_count": null,
   "metadata": {},
   "outputs": [],
   "source": []
  },
  {
   "cell_type": "code",
   "execution_count": null,
   "metadata": {},
   "outputs": [],
   "source": []
  },
  {
   "cell_type": "code",
   "execution_count": null,
   "metadata": {},
   "outputs": [],
   "source": []
  },
  {
   "cell_type": "code",
   "execution_count": null,
   "metadata": {},
   "outputs": [],
   "source": []
  },
  {
   "cell_type": "code",
   "execution_count": null,
   "metadata": {},
   "outputs": [],
   "source": []
  },
  {
   "cell_type": "code",
   "execution_count": null,
   "metadata": {},
   "outputs": [],
   "source": []
  },
  {
   "cell_type": "code",
   "execution_count": null,
   "metadata": {},
   "outputs": [],
   "source": []
  },
  {
   "cell_type": "markdown",
   "metadata": {},
   "source": [
    "## Loops\n",
    "- `for` and `while` loops\n",
    "- List comprehension"
   ]
  },
  {
   "cell_type": "code",
   "execution_count": null,
   "metadata": {},
   "outputs": [],
   "source": [
    "for i in range(5):\n",
    "    print(i)"
   ]
  },
  {
   "cell_type": "code",
   "execution_count": null,
   "metadata": {},
   "outputs": [],
   "source": [
    "lst = list(\"abcd\")\n",
    "for idx, val in enumerate(lst):\n",
    "    print(f\"index {idx} = {val}\")"
   ]
  },
  {
   "cell_type": "code",
   "execution_count": null,
   "metadata": {},
   "outputs": [],
   "source": [
    "# no if statement\n",
    "print([(i, j) for i, j in enumerate(lst)])\n",
    "\n",
    "# if statement\n",
    "MIN = 1\n",
    "print([(i, j) for i, j in enumerate(lst) if i > MIN])\n",
    "\n",
    "# if else statement\n",
    "print([(i, j) if i > MIN else (-1, \"INVALID\") for i, j in enumerate(lst)])"
   ]
  },
  {
   "cell_type": "code",
   "execution_count": null,
   "metadata": {},
   "outputs": [],
   "source": [
    "i = 0\n",
    "while i < 5:\n",
    "    print(i)\n",
    "    i += 1"
   ]
  },
  {
   "cell_type": "code",
   "execution_count": null,
   "metadata": {},
   "outputs": [],
   "source": [
    "i = 1\n",
    "while True:\n",
    "    print(i)\n",
    "    if i % 10 == 0:\n",
    "        break\n",
    "    i += 1"
   ]
  },
  {
   "cell_type": "code",
   "execution_count": null,
   "metadata": {},
   "outputs": [],
   "source": []
  },
  {
   "cell_type": "code",
   "execution_count": null,
   "metadata": {},
   "outputs": [],
   "source": []
  },
  {
   "cell_type": "code",
   "execution_count": null,
   "metadata": {},
   "outputs": [],
   "source": []
  },
  {
   "cell_type": "code",
   "execution_count": null,
   "metadata": {},
   "outputs": [],
   "source": []
  },
  {
   "cell_type": "code",
   "execution_count": null,
   "metadata": {},
   "outputs": [],
   "source": []
  },
  {
   "cell_type": "code",
   "execution_count": null,
   "metadata": {},
   "outputs": [],
   "source": []
  },
  {
   "cell_type": "code",
   "execution_count": null,
   "metadata": {},
   "outputs": [],
   "source": []
  },
  {
   "cell_type": "code",
   "execution_count": null,
   "metadata": {},
   "outputs": [],
   "source": []
  },
  {
   "cell_type": "code",
   "execution_count": null,
   "metadata": {},
   "outputs": [],
   "source": []
  },
  {
   "cell_type": "code",
   "execution_count": null,
   "metadata": {},
   "outputs": [],
   "source": []
  },
  {
   "cell_type": "code",
   "execution_count": null,
   "metadata": {},
   "outputs": [],
   "source": []
  },
  {
   "cell_type": "markdown",
   "metadata": {},
   "source": [
    "## Functions \n",
    "- You should be familiar with writing functions, as well as advanced functions with multiple returns.\n",
    "- It's good to also be able to use `lambda` functions as they will be useful for the project"
   ]
  },
  {
   "cell_type": "code",
   "execution_count": null,
   "metadata": {},
   "outputs": [],
   "source": [
    "def f(x):\n",
    "    return x + 1\n",
    "\n",
    "f(5), f(7), f(True) # recall bool can be treated as an int"
   ]
  },
  {
   "cell_type": "code",
   "execution_count": null,
   "metadata": {},
   "outputs": [],
   "source": [
    "def g(x=1, y=1):\n",
    "    return x * y\n",
    "\n",
    "g(5), g(y=5), g(10, 10), g() # default arguments"
   ]
  },
  {
   "cell_type": "markdown",
   "metadata": {},
   "source": [
    "Lambda functions are essentially \"one line\" versions of your normal functions. Syntax:  \n",
    "\n",
    "`function name = lambda input_arguments: statement`"
   ]
  },
  {
   "cell_type": "code",
   "execution_count": null,
   "metadata": {},
   "outputs": [],
   "source": [
    "# lambda function of f(x)\n",
    "f_lambda = lambda x: x + 1\n",
    "\n",
    "f_lambda(5), f_lambda(7), f_lambda(True)"
   ]
  },
  {
   "cell_type": "code",
   "execution_count": null,
   "metadata": {},
   "outputs": [],
   "source": [
    "# lambda function of g(x)\n",
    "g_lambda = lambda x=1, y=1: x * y\n",
    "\n",
    "g_lambda(5), g_lambda(y=5), g_lambda(10, 10), g_lambda() "
   ]
  },
  {
   "cell_type": "code",
   "execution_count": null,
   "metadata": {},
   "outputs": [],
   "source": [
    "# advanced lambda function which returns based on conditions\n",
    "advanced = lambda x: float('inf') if x > 0 else 0 if x == 0 else float('-inf')\n",
    "\n",
    "advanced(100), advanced(0), advanced(-1)"
   ]
  },
  {
   "cell_type": "code",
   "execution_count": null,
   "metadata": {},
   "outputs": [],
   "source": []
  },
  {
   "cell_type": "code",
   "execution_count": null,
   "metadata": {},
   "outputs": [],
   "source": []
  },
  {
   "cell_type": "code",
   "execution_count": null,
   "metadata": {},
   "outputs": [],
   "source": []
  },
  {
   "cell_type": "code",
   "execution_count": null,
   "metadata": {},
   "outputs": [],
   "source": []
  },
  {
   "cell_type": "code",
   "execution_count": null,
   "metadata": {},
   "outputs": [],
   "source": []
  },
  {
   "cell_type": "code",
   "execution_count": null,
   "metadata": {},
   "outputs": [],
   "source": []
  },
  {
   "cell_type": "code",
   "execution_count": null,
   "metadata": {},
   "outputs": [],
   "source": []
  },
  {
   "cell_type": "code",
   "execution_count": null,
   "metadata": {},
   "outputs": [],
   "source": []
  },
  {
   "cell_type": "code",
   "execution_count": null,
   "metadata": {},
   "outputs": [],
   "source": []
  },
  {
   "cell_type": "markdown",
   "metadata": {},
   "source": [
    "## File I/O\n",
    "- In COMP10001, you would have learned about File I/O (notably using `open()` and the `csv` library)\n",
    "- For COMP20008, you will need to know how to read file names in (and be a bit more familiar with file paths)\n",
    "\n",
    "There are two main ways of opening/running/saving python scripts in this subject."
   ]
  },
  {
   "cell_type": "code",
   "execution_count": null,
   "metadata": {},
   "outputs": [],
   "source": [
    "# os is the python library for interacting with the operating system\n",
    "import os\n",
    "\n",
    "# os.remove(\"super_cool.py\")\n",
    "\n",
    "# current working directory (note I am using WSL2 - a linux environment)\n",
    "# print(os.getcwd())\n",
    "\n",
    "# list files in current directory\n",
    "for i in os.listdir():\n",
    "    print(i)\n"
   ]
  },
  {
   "cell_type": "markdown",
   "metadata": {},
   "source": [
    "Let's write a script and save it using magic cells."
   ]
  },
  {
   "cell_type": "code",
   "execution_count": null,
   "metadata": {},
   "outputs": [],
   "source": [
    "%%writefile super_cool.py\n",
    "variable = \"This is super cool\"\n",
    "print(variable)"
   ]
  },
  {
   "cell_type": "markdown",
   "metadata": {},
   "source": [
    "We can see it has now appeared in the directory."
   ]
  },
  {
   "cell_type": "code",
   "execution_count": null,
   "metadata": {},
   "outputs": [],
   "source": [
    "print(os.listdir())"
   ]
  },
  {
   "cell_type": "markdown",
   "metadata": {},
   "source": [
    "Let's run the file! Depending on your OS version, you will either have `python` or `python3`."
   ]
  },
  {
   "cell_type": "code",
   "execution_count": null,
   "metadata": {},
   "outputs": [],
   "source": [
    "# method 1a (with python)\n",
    "print(os.popen('python super_cool.py').read())\n",
    "\n",
    "# method 1b (with python3)\n",
    "print(os.popen('python3 super_cool.py').read())"
   ]
  },
  {
   "cell_type": "code",
   "execution_count": null,
   "metadata": {},
   "outputs": [],
   "source": [
    "# method 2 (preferred)\n",
    "%run super_cool.py"
   ]
  },
  {
   "cell_type": "markdown",
   "metadata": {},
   "source": [
    "Say we are looking to get the `hidden_test` variable from a script in the same directory..."
   ]
  },
  {
   "cell_type": "code",
   "execution_count": null,
   "metadata": {},
   "outputs": [],
   "source": [
    "hidden_test"
   ]
  },
  {
   "cell_type": "code",
   "execution_count": null,
   "metadata": {},
   "outputs": [],
   "source": [
    "%run -i saved_variables.py # the -i indicates we want to save variables into our namespace\n",
    "hidden_test"
   ]
  },
  {
   "cell_type": "markdown",
   "metadata": {},
   "source": [
    "Finally, there are some bash (linux) commands you should get familiar with (especially for the server).\n",
    "- `ls` to list out files in the current directory\n",
    "- `pwd` for the present working directory \n",
    "- `cd` to change directory (use `\\` to denote spaces, i.e `cd USER/My\\ Documents` for \"My Documents\")\n",
    "\n",
    "There are two main ways of running bash commands straight from the notebook:\n",
    "- `%%bash` for one or more commands in succession\n",
    "- `!` for a single command"
   ]
  },
  {
   "cell_type": "code",
   "execution_count": null,
   "metadata": {
    "scrolled": true
   },
   "outputs": [],
   "source": [
    "%%bash\n",
    "pwd\n",
    "ls"
   ]
  },
  {
   "cell_type": "code",
   "execution_count": null,
   "metadata": {},
   "outputs": [],
   "source": [
    "!ls"
   ]
  },
  {
   "cell_type": "code",
   "execution_count": null,
   "metadata": {},
   "outputs": [],
   "source": [
    "%%bash\n",
    "cd .. # go to parent folder\n",
    "pwd\n",
    "ls"
   ]
  },
  {
   "cell_type": "markdown",
   "metadata": {},
   "source": [
    "# Exercises"
   ]
  },
  {
   "cell_type": "markdown",
   "metadata": {},
   "source": [
    "### Exercise 1\n",
    "Write a Python program that will print the first $n$ numbers ($n > 0$) of the Fibonacci sequence in **reverse** order.  Verify it works for $n=10$"
   ]
  },
  {
   "cell_type": "markdown",
   "metadata": {},
   "source": [
    "### Exercise 2\n",
    "The following two exercises are about getting used to running python through a shell. The program for these exercises is a simple hello world program.\n",
    "1. Open a new terminal using the plus button above the file browser or File → New Launcher.\n",
    "2. Use `ls` to show the contents of the folder you're in.\n",
    "3. Use `cd workshops` to change into the workshops folder, followed by `cd revision` to change to the current folder.\n",
    "4. Run `python exercise2.py` to execute the script `exercise2.py` in python. Your output should be the same as the output of the next cell. If this does not display anything, try `python3` (as yo\"u may have different installations of python on your machine)"
   ]
  },
  {
   "cell_type": "markdown",
   "metadata": {},
   "source": [
    "### Exercise 3\n",
    "Take your code from Exercise 1 and store it in a new file, `exercise3.py`. Run this similarly to Exercise 2. You can create a new file through the launcher by clicking on the New Text File button, or by running `touch exercise2.py` in the terminal, or by using the cell magic. \n",
    "\n",
    "Your output should be the same as Exercise 1. Remember that files are case sensitive, so `Exercise3.py` is not the same as `exercise3.py`."
   ]
  },
  {
   "cell_type": "markdown",
   "metadata": {},
   "source": [
    "## Recommended Readings\n",
    "[This article on Dataquest](https://www.dataquest.io/blog/jupyter-notebook-tutorial/) is an excellent introduction to Jupyter notebook.  If you haven't used Jupyter notebook before, I recommend familiarising yourself with it."
   ]
  }
 ],
 "metadata": {
  "kernelspec": {
   "display_name": "Python 3",
   "language": "python",
   "name": "python3"
  },
  "language_info": {
   "codemirror_mode": {
    "name": "ipython",
    "version": 3
   },
   "file_extension": ".py",
   "mimetype": "text/x-python",
   "name": "python",
   "nbconvert_exporter": "python",
   "pygments_lexer": "ipython3",
   "version": "3.8.5"
  },
  "varInspector": {
   "cols": {
    "lenName": 16,
    "lenType": 16,
    "lenVar": 40
   },
   "kernels_config": {
    "python": {
     "delete_cmd_postfix": "",
     "delete_cmd_prefix": "del ",
     "library": "var_list.py",
     "varRefreshCmd": "print(var_dic_list())"
    },
    "r": {
     "delete_cmd_postfix": ") ",
     "delete_cmd_prefix": "rm(",
     "library": "var_list.r",
     "varRefreshCmd": "cat(var_dic_list()) "
    }
   },
   "types_to_exclude": [
    "module",
    "function",
    "builtin_function_or_method",
    "instance",
    "_Feature"
   ],
   "window_display": false
  }
 },
 "nbformat": 4,
 "nbformat_minor": 4
}
